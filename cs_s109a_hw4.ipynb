{
 "cells": [
  {
   "cell_type": "markdown",
   "metadata": {
    "button": false,
    "new_sheet": false,
    "run_control": {
     "read_only": false
    }
   },
   "source": [
    "# <img style=\"float: left; padding-right: 10px; width: 45px\" src=\"https://github.com/Harvard-IACS/2021-s109a/blob/master/lectures/crest.png?raw=true\"> CS-S109A Introduction to Data Science \n",
    "\n",
    "## Homework 4:  Logistic Regression and PCA\n",
    "\n",
    "**Harvard University**<br/>\n",
    "**Summer 2021**<br/>\n",
    "**Instructors**: Kevin Rader\n",
    "\n",
    "\n",
    "<hr style='height:2px'>\n",
    "\n",
    "---\n",
    "\n"
   ]
  },
  {
   "cell_type": "code",
   "execution_count": 1,
   "metadata": {},
   "outputs": [
    {
     "data": {
      "text/html": [
       "<style>\n",
       "blockquote { background: #AEDE94; }\n",
       "h1 { \n",
       "    padding-top: 25px;\n",
       "    padding-bottom: 25px;\n",
       "    text-align: left; \n",
       "    padding-left: 10px;\n",
       "    background-color: #DDDDDD; \n",
       "    color: black;\n",
       "}\n",
       "h2 { \n",
       "    padding-top: 10px;\n",
       "    padding-bottom: 10px;\n",
       "    text-align: left; \n",
       "    padding-left: 5px;\n",
       "    background-color: #EEEEEE; \n",
       "    color: black;\n",
       "}\n",
       "\n",
       "div.exercise {\n",
       "\tbackground-color: #ffcccc;\n",
       "\tborder-color: #E9967A; \t\n",
       "\tborder-left: 5px solid #800080; \n",
       "\tpadding: 0.5em;\n",
       "}\n",
       "\n",
       "div.exercise-r {\n",
       "\tbackground-color: #fce8e8;\n",
       "\tborder-color: #E9967A; \t\n",
       "\tborder-left: 5px solid #800080; \n",
       "\tpadding: 0.5em;\n",
       "}\n",
       "\n",
       "\n",
       "span.sub-q {\n",
       "\tfont-weight: bold;\n",
       "}\n",
       "div.theme {\n",
       "\tbackground-color: #DDDDDD;\n",
       "\tborder-color: #E9967A; \t\n",
       "\tborder-left: 5px solid #800080; \n",
       "\tpadding: 0.5em;\n",
       "\tfont-size: 18pt;\n",
       "}\n",
       "div.gc { \n",
       "\tbackground-color: #AEDE94;\n",
       "\tborder-color: #E9967A; \t \n",
       "\tborder-left: 5px solid #800080; \n",
       "\tpadding: 0.5em;\n",
       "\tfont-size: 12pt;\n",
       "}\n",
       "p.q1 { \n",
       "    padding-top: 5px;\n",
       "    padding-bottom: 5px;\n",
       "    text-align: left; \n",
       "    padding-left: 5px;\n",
       "    background-color: #EEEEEE; \n",
       "    color: black;\n",
       "}\n",
       "header {\n",
       "   padding-top: 35px;\n",
       "    padding-bottom: 35px;\n",
       "    text-align: left; \n",
       "    padding-left: 10px;\n",
       "    background-color: #DDDDDD; \n",
       "    color: black;\n",
       "}\n",
       "</style>\n",
       "\n"
      ],
      "text/plain": [
       "<IPython.core.display.HTML object>"
      ]
     },
     "execution_count": 1,
     "metadata": {},
     "output_type": "execute_result"
    }
   ],
   "source": [
    "## RUN THIS CELL TO GET THE RIGHT FORMATTING \n",
    "import requests\n",
    "from IPython.core.display import HTML\n",
    "styles = requests.get(\"https://raw.githubusercontent.com/Harvard-IACS/2018-CS109A/master/content/styles/cs109.css\").text\n",
    "HTML(styles)"
   ]
  },
  {
   "cell_type": "markdown",
   "metadata": {},
   "source": [
    "### INSTRUCTIONS\n",
    "\n",
    "- To submit your assignment follow the instructions given in Canvas.\n",
    "- Restart the kernel and run the whole notebook again before you submit. \n",
    "- If you submit individually and you have worked with someone, please include the name of your [one] partner below. \n",
    "- As much as possible, try and stick to the hints and functions we import at the top of the homework, as those are the ideas and tools the class supports and is aiming to teach. And if a problem specifies a particular library you're required to use that library, and possibly others from the import list.\n",
    "- Please use .head() when viewing data. Do not submit a notebook that is excessively long because output was not suppressed or otherwise limited. "
   ]
  },
  {
   "cell_type": "code",
   "execution_count": 2,
   "metadata": {},
   "outputs": [],
   "source": [
    "import numpy as np\n",
    "import pandas as pd\n",
    "import sklearn as sk\n",
    "\n",
    "from sklearn.linear_model import LogisticRegression\n",
    "from sklearn.linear_model import LogisticRegressionCV\n",
    "\n",
    "from sklearn.neighbors import KNeighborsClassifier\n",
    "from sklearn.model_selection import cross_val_score\n",
    "from sklearn.metrics import accuracy_score\n",
    "from sklearn.model_selection import KFold\n",
    "from sklearn.preprocessing import MinMaxScaler\n",
    "from sklearn.model_selection import train_test_split\n",
    "from sklearn import metrics\n",
    "from sklearn.decomposition import PCA\n",
    "\n",
    "import matplotlib\n",
    "import matplotlib.pyplot as plt\n",
    "%matplotlib inline\n",
    "\n",
    "import zipfile\n",
    "\n",
    "\n",
    "import seaborn as sns\n",
    "sns.set()\n",
    "\n",
    "# if you want to do a 2-sample t-test:\n",
    "from scipy.stats import ttest_ind"
   ]
  },
  {
   "cell_type": "markdown",
   "metadata": {},
   "source": [
    "<div class='theme'> Cancer Classification from Gene Expressions </div>\n",
    "\n",
    "In this problem, we will build a classification model to distinguish between two related classes of cancer, acute lymphoblastic leukemia (ALL) and acute myeloid leukemia (AML), using gene expression measurements. The dataset is provided in the file `data/genomic_data.csv`. Each row in this file corresponds to a tumor tissue sample from a patient with one of the two forms of Leukemia. The first column contains the cancer type, with **0 indicating the ALL** class and **1 indicating the AML** class. Columns 2-7130 contain expression levels of 7129 genes recorded from each tissue sample. \n",
    "\n",
    "In the following questions, we will use linear and logistic regression to build classification models for this data set. \n"
   ]
  },
  {
   "cell_type": "markdown",
   "metadata": {},
   "source": [
    "<div class='exercise'><b> Question 1 [15 pts]: Data Exploration </b></div>\n",
    "\n",
    "The first step is to split the observations into an approximate 75-25 train-test split.  Below is some code to do this for you (we want to make sure everyone has the same splits). It also prints the dataset's shape before splitting and after splitting. `Cancer_type` is our target column.\n",
    "\n",
    "\n",
    "**1.1** Take a peek at your training set: you should notice the severe differences in the measurements from one gene to the next (some are negative, some hover around zero, and some are well into the thousands). To account for these differences in scale and variability, normalize each predictor to vary between 0 and 1. **NOTE: for the entirety of this homework assignment, you will use these normalized values, not the original, raw values**. Normalizing genomic data is a fairly standard first step.\n",
    "\n",
    "\n",
    "**1.2** The training set contains more predictors than observations. What problem(s) can this lead to in fitting a classification model to such a dataset? Explain in 3 or fewer sentences.\n",
    "\n",
    "\n",
    "**1.3** Determine which single gene individually discriminates between the two cancer classes the best (consider every gene in the dataset) and call it `best_predictor`.\n",
    "\n",
    "Plot two histograms of your `best_predictor` -- one using the training set and another using the testing set. The histogram should clearly distinguish two different `Cancer_type` classes.\n",
    "\n",
    "**Hint:** You may use any reasonable approach to determine the `best_predictor`, but please use something very simple (whether taught in this class or elsewhere).\n",
    "\n",
    "\n",
    "**1.4** Using `best_predictor`, create a classification model by simply eye-balling a value for this gene that would discriminate the two classes the best (do not use an algorithm to determine for you the optimal coefficient or threshold; we are asking you to provide a rough estimate / model by manual inspection). Justify your choice in 1-2 sentences. Report the accuracy of your hand-chosen model on the test set.\n",
    "\n",
    "<hr> "
   ]
  },
  {
   "cell_type": "markdown",
   "metadata": {},
   "source": [
    "\n",
    "### Answers"
   ]
  },
  {
   "cell_type": "markdown",
   "metadata": {},
   "source": [
    "**The first step is to split the observations into an approximate 75-25 train-test split. Below is some code to do this for you (we want to make sure everyone has the same splits). Print dataset shape before splitting and after splitting. `Cancer_type` is our target column.**"
   ]
  },
  {
   "cell_type": "code",
   "execution_count": 3,
   "metadata": {},
   "outputs": [],
   "source": [
    "np.random.seed(10)\n",
    "df = pd.read_csv('data/genomic_data.csv', index_col=0)\n",
    "X_train, X_test, y_train, y_test = train_test_split(df.loc[:, df.columns != 'Cancer_type'], \n",
    "                                                         df.Cancer_type, test_size=0.25, \n",
    "                                                         random_state = 109, \n",
    "                                                         stratify = df.Cancer_type)"
   ]
  },
  {
   "cell_type": "code",
   "execution_count": 4,
   "metadata": {},
   "outputs": [
    {
     "name": "stdout",
     "output_type": "stream",
     "text": [
      "shape of full set: (752, 7130)\n",
      "shape of x_train: (564, 7129) \n",
      "shape of x_test: (188, 7129) \n",
      "shape of y_train: (564,) \n",
      "shape of y_test: (188,)\n",
      "value count of dataset: \n",
      " 0.0    0.511968\n",
      "1.0    0.488032\n",
      "Name: Cancer_type, dtype: float64\n"
     ]
    }
   ],
   "source": [
    "print('shape of full set:', df.shape)\n",
    "print('shape of x_train:', X_train.shape,'\\nshape of x_test:',X_test.shape,'\\nshape of y_train:', y_train.shape,'\\nshape of y_test:', y_test.shape)\n",
    "print('value count of dataset: \\n', df.Cancer_type.value_counts(normalize=True))"
   ]
  },
  {
   "cell_type": "markdown",
   "metadata": {},
   "source": [
    "**1.1 Take a peek at your training set: you should notice the severe differences in the measurements from one gene to the next (some are negative, some hover around zero, and some are well into the thousands). To account for these differences in scale and variability, normalize each predictor to vary between 0 and 1. **NOTE: for the entirety of this homework assignment, you will use these normalized values, not the original, raw values.**\n"
   ]
  },
  {
   "cell_type": "code",
   "execution_count": 13,
   "metadata": {},
   "outputs": [],
   "source": [
    "# X_train.describe()"
   ]
  },
  {
   "cell_type": "code",
   "execution_count": 6,
   "metadata": {},
   "outputs": [
    {
     "data": {
      "text/html": [
       "<div>\n",
       "<style scoped>\n",
       "    .dataframe tbody tr th:only-of-type {\n",
       "        vertical-align: middle;\n",
       "    }\n",
       "\n",
       "    .dataframe tbody tr th {\n",
       "        vertical-align: top;\n",
       "    }\n",
       "\n",
       "    .dataframe thead th {\n",
       "        text-align: right;\n",
       "    }\n",
       "</style>\n",
       "<table border=\"1\" class=\"dataframe\">\n",
       "  <thead>\n",
       "    <tr style=\"text-align: right;\">\n",
       "      <th></th>\n",
       "      <th>Cancer_type</th>\n",
       "      <th>AFFX-BioB-5_at</th>\n",
       "      <th>AFFX-BioB-M_at</th>\n",
       "      <th>AFFX-BioB-3_at</th>\n",
       "      <th>AFFX-BioC-5_at</th>\n",
       "      <th>AFFX-BioC-3_at</th>\n",
       "      <th>AFFX-BioDn-5_at</th>\n",
       "      <th>AFFX-BioDn-3_at</th>\n",
       "      <th>AFFX-CreX-5_at</th>\n",
       "      <th>AFFX-CreX-3_at</th>\n",
       "      <th>...</th>\n",
       "      <th>U48730_at</th>\n",
       "      <th>U58516_at</th>\n",
       "      <th>U73738_at</th>\n",
       "      <th>X06956_at</th>\n",
       "      <th>X16699_at</th>\n",
       "      <th>X83863_at</th>\n",
       "      <th>Z17240_at</th>\n",
       "      <th>L49218_f_at</th>\n",
       "      <th>M71243_f_at</th>\n",
       "      <th>Z78285_f_at</th>\n",
       "    </tr>\n",
       "  </thead>\n",
       "  <tbody>\n",
       "    <tr>\n",
       "      <th>0</th>\n",
       "      <td>0.0</td>\n",
       "      <td>0.482348</td>\n",
       "      <td>0.636828</td>\n",
       "      <td>0.421504</td>\n",
       "      <td>0.354724</td>\n",
       "      <td>0.541964</td>\n",
       "      <td>0.313961</td>\n",
       "      <td>0.656215</td>\n",
       "      <td>0.557102</td>\n",
       "      <td>0.751598</td>\n",
       "      <td>...</td>\n",
       "      <td>0.577873</td>\n",
       "      <td>0.430681</td>\n",
       "      <td>0.346731</td>\n",
       "      <td>0.386057</td>\n",
       "      <td>0.611047</td>\n",
       "      <td>0.499519</td>\n",
       "      <td>0.370208</td>\n",
       "      <td>0.549853</td>\n",
       "      <td>0.470914</td>\n",
       "      <td>0.434172</td>\n",
       "    </tr>\n",
       "    <tr>\n",
       "      <th>1</th>\n",
       "      <td>0.0</td>\n",
       "      <td>0.538320</td>\n",
       "      <td>0.663173</td>\n",
       "      <td>0.653266</td>\n",
       "      <td>0.302249</td>\n",
       "      <td>0.463755</td>\n",
       "      <td>0.298072</td>\n",
       "      <td>0.644340</td>\n",
       "      <td>0.479530</td>\n",
       "      <td>0.602312</td>\n",
       "      <td>...</td>\n",
       "      <td>0.624184</td>\n",
       "      <td>0.522397</td>\n",
       "      <td>0.715986</td>\n",
       "      <td>0.349330</td>\n",
       "      <td>0.498395</td>\n",
       "      <td>0.471359</td>\n",
       "      <td>0.310147</td>\n",
       "      <td>0.387588</td>\n",
       "      <td>0.460523</td>\n",
       "      <td>0.317450</td>\n",
       "    </tr>\n",
       "    <tr>\n",
       "      <th>2</th>\n",
       "      <td>0.0</td>\n",
       "      <td>0.558867</td>\n",
       "      <td>0.655742</td>\n",
       "      <td>0.408589</td>\n",
       "      <td>0.409961</td>\n",
       "      <td>0.582961</td>\n",
       "      <td>0.475211</td>\n",
       "      <td>0.599733</td>\n",
       "      <td>0.611503</td>\n",
       "      <td>0.617755</td>\n",
       "      <td>...</td>\n",
       "      <td>0.553454</td>\n",
       "      <td>0.469745</td>\n",
       "      <td>0.542662</td>\n",
       "      <td>0.405702</td>\n",
       "      <td>0.628022</td>\n",
       "      <td>0.407405</td>\n",
       "      <td>0.364542</td>\n",
       "      <td>0.508344</td>\n",
       "      <td>0.449332</td>\n",
       "      <td>0.460110</td>\n",
       "    </tr>\n",
       "    <tr>\n",
       "      <th>3</th>\n",
       "      <td>0.0</td>\n",
       "      <td>0.582957</td>\n",
       "      <td>0.642908</td>\n",
       "      <td>0.633893</td>\n",
       "      <td>0.331939</td>\n",
       "      <td>0.476370</td>\n",
       "      <td>0.318081</td>\n",
       "      <td>0.636519</td>\n",
       "      <td>0.554080</td>\n",
       "      <td>0.658937</td>\n",
       "      <td>...</td>\n",
       "      <td>0.447358</td>\n",
       "      <td>0.517868</td>\n",
       "      <td>0.289674</td>\n",
       "      <td>0.345401</td>\n",
       "      <td>0.640367</td>\n",
       "      <td>0.558384</td>\n",
       "      <td>0.428003</td>\n",
       "      <td>0.500796</td>\n",
       "      <td>0.499371</td>\n",
       "      <td>0.423364</td>\n",
       "    </tr>\n",
       "    <tr>\n",
       "      <th>4</th>\n",
       "      <td>0.0</td>\n",
       "      <td>0.341354</td>\n",
       "      <td>0.564548</td>\n",
       "      <td>0.468144</td>\n",
       "      <td>0.292583</td>\n",
       "      <td>0.386808</td>\n",
       "      <td>0.177429</td>\n",
       "      <td>0.518919</td>\n",
       "      <td>0.267971</td>\n",
       "      <td>0.617755</td>\n",
       "      <td>...</td>\n",
       "      <td>0.665444</td>\n",
       "      <td>0.464084</td>\n",
       "      <td>0.388716</td>\n",
       "      <td>0.371196</td>\n",
       "      <td>0.703637</td>\n",
       "      <td>0.670006</td>\n",
       "      <td>0.414405</td>\n",
       "      <td>0.593250</td>\n",
       "      <td>0.565236</td>\n",
       "      <td>0.557378</td>\n",
       "    </tr>\n",
       "    <tr>\n",
       "      <th>...</th>\n",
       "      <td>...</td>\n",
       "      <td>...</td>\n",
       "      <td>...</td>\n",
       "      <td>...</td>\n",
       "      <td>...</td>\n",
       "      <td>...</td>\n",
       "      <td>...</td>\n",
       "      <td>...</td>\n",
       "      <td>...</td>\n",
       "      <td>...</td>\n",
       "      <td>...</td>\n",
       "      <td>...</td>\n",
       "      <td>...</td>\n",
       "      <td>...</td>\n",
       "      <td>...</td>\n",
       "      <td>...</td>\n",
       "      <td>...</td>\n",
       "      <td>...</td>\n",
       "      <td>...</td>\n",
       "      <td>...</td>\n",
       "      <td>...</td>\n",
       "    </tr>\n",
       "    <tr>\n",
       "      <th>747</th>\n",
       "      <td>0.0</td>\n",
       "      <td>0.696528</td>\n",
       "      <td>0.584498</td>\n",
       "      <td>0.379790</td>\n",
       "      <td>0.437056</td>\n",
       "      <td>0.422404</td>\n",
       "      <td>0.294715</td>\n",
       "      <td>0.631741</td>\n",
       "      <td>0.330545</td>\n",
       "      <td>0.747420</td>\n",
       "      <td>...</td>\n",
       "      <td>0.560462</td>\n",
       "      <td>0.651464</td>\n",
       "      <td>0.435819</td>\n",
       "      <td>0.311584</td>\n",
       "      <td>0.508865</td>\n",
       "      <td>0.516085</td>\n",
       "      <td>0.323915</td>\n",
       "      <td>0.654308</td>\n",
       "      <td>0.857588</td>\n",
       "      <td>0.324064</td>\n",
       "    </tr>\n",
       "    <tr>\n",
       "      <th>748</th>\n",
       "      <td>1.0</td>\n",
       "      <td>0.640335</td>\n",
       "      <td>0.709007</td>\n",
       "      <td>0.145601</td>\n",
       "      <td>0.640275</td>\n",
       "      <td>0.543410</td>\n",
       "      <td>0.819101</td>\n",
       "      <td>0.498926</td>\n",
       "      <td>0.753030</td>\n",
       "      <td>0.840198</td>\n",
       "      <td>...</td>\n",
       "      <td>0.793460</td>\n",
       "      <td>0.295969</td>\n",
       "      <td>0.402568</td>\n",
       "      <td>0.676392</td>\n",
       "      <td>0.560715</td>\n",
       "      <td>0.575147</td>\n",
       "      <td>0.336958</td>\n",
       "      <td>0.699631</td>\n",
       "      <td>0.752875</td>\n",
       "      <td>0.557553</td>\n",
       "    </tr>\n",
       "    <tr>\n",
       "      <th>749</th>\n",
       "      <td>1.0</td>\n",
       "      <td>0.519750</td>\n",
       "      <td>0.459566</td>\n",
       "      <td>0.198037</td>\n",
       "      <td>0.314083</td>\n",
       "      <td>0.582719</td>\n",
       "      <td>0.369624</td>\n",
       "      <td>0.658192</td>\n",
       "      <td>0.444315</td>\n",
       "      <td>1.000000</td>\n",
       "      <td>...</td>\n",
       "      <td>0.506640</td>\n",
       "      <td>0.212257</td>\n",
       "      <td>0.585057</td>\n",
       "      <td>0.331757</td>\n",
       "      <td>0.773867</td>\n",
       "      <td>0.800121</td>\n",
       "      <td>0.176060</td>\n",
       "      <td>0.352877</td>\n",
       "      <td>0.379286</td>\n",
       "      <td>0.726550</td>\n",
       "    </tr>\n",
       "    <tr>\n",
       "      <th>750</th>\n",
       "      <td>0.0</td>\n",
       "      <td>0.622598</td>\n",
       "      <td>0.732820</td>\n",
       "      <td>0.621132</td>\n",
       "      <td>0.303219</td>\n",
       "      <td>0.065618</td>\n",
       "      <td>0.375281</td>\n",
       "      <td>0.557282</td>\n",
       "      <td>0.373386</td>\n",
       "      <td>0.490326</td>\n",
       "      <td>...</td>\n",
       "      <td>0.559916</td>\n",
       "      <td>0.536638</td>\n",
       "      <td>0.238878</td>\n",
       "      <td>0.297934</td>\n",
       "      <td>0.806955</td>\n",
       "      <td>0.564062</td>\n",
       "      <td>0.510765</td>\n",
       "      <td>0.436667</td>\n",
       "      <td>0.348156</td>\n",
       "      <td>0.405826</td>\n",
       "    </tr>\n",
       "    <tr>\n",
       "      <th>751</th>\n",
       "      <td>1.0</td>\n",
       "      <td>0.566346</td>\n",
       "      <td>0.749340</td>\n",
       "      <td>0.520202</td>\n",
       "      <td>0.586949</td>\n",
       "      <td>0.549270</td>\n",
       "      <td>0.179827</td>\n",
       "      <td>0.547697</td>\n",
       "      <td>0.673164</td>\n",
       "      <td>0.734504</td>\n",
       "      <td>...</td>\n",
       "      <td>0.614662</td>\n",
       "      <td>0.400230</td>\n",
       "      <td>0.437619</td>\n",
       "      <td>0.376556</td>\n",
       "      <td>0.671358</td>\n",
       "      <td>0.803143</td>\n",
       "      <td>0.303995</td>\n",
       "      <td>0.243517</td>\n",
       "      <td>0.534543</td>\n",
       "      <td>0.648342</td>\n",
       "    </tr>\n",
       "  </tbody>\n",
       "</table>\n",
       "<p>752 rows × 7130 columns</p>\n",
       "</div>"
      ],
      "text/plain": [
       "     Cancer_type  AFFX-BioB-5_at  AFFX-BioB-M_at  AFFX-BioB-3_at  \\\n",
       "0            0.0        0.482348        0.636828        0.421504   \n",
       "1            0.0        0.538320        0.663173        0.653266   \n",
       "2            0.0        0.558867        0.655742        0.408589   \n",
       "3            0.0        0.582957        0.642908        0.633893   \n",
       "4            0.0        0.341354        0.564548        0.468144   \n",
       "..           ...             ...             ...             ...   \n",
       "747          0.0        0.696528        0.584498        0.379790   \n",
       "748          1.0        0.640335        0.709007        0.145601   \n",
       "749          1.0        0.519750        0.459566        0.198037   \n",
       "750          0.0        0.622598        0.732820        0.621132   \n",
       "751          1.0        0.566346        0.749340        0.520202   \n",
       "\n",
       "     AFFX-BioC-5_at  AFFX-BioC-3_at  AFFX-BioDn-5_at  AFFX-BioDn-3_at  \\\n",
       "0          0.354724        0.541964         0.313961         0.656215   \n",
       "1          0.302249        0.463755         0.298072         0.644340   \n",
       "2          0.409961        0.582961         0.475211         0.599733   \n",
       "3          0.331939        0.476370         0.318081         0.636519   \n",
       "4          0.292583        0.386808         0.177429         0.518919   \n",
       "..              ...             ...              ...              ...   \n",
       "747        0.437056        0.422404         0.294715         0.631741   \n",
       "748        0.640275        0.543410         0.819101         0.498926   \n",
       "749        0.314083        0.582719         0.369624         0.658192   \n",
       "750        0.303219        0.065618         0.375281         0.557282   \n",
       "751        0.586949        0.549270         0.179827         0.547697   \n",
       "\n",
       "     AFFX-CreX-5_at  AFFX-CreX-3_at  ...  U48730_at  U58516_at  U73738_at  \\\n",
       "0          0.557102        0.751598  ...   0.577873   0.430681   0.346731   \n",
       "1          0.479530        0.602312  ...   0.624184   0.522397   0.715986   \n",
       "2          0.611503        0.617755  ...   0.553454   0.469745   0.542662   \n",
       "3          0.554080        0.658937  ...   0.447358   0.517868   0.289674   \n",
       "4          0.267971        0.617755  ...   0.665444   0.464084   0.388716   \n",
       "..              ...             ...  ...        ...        ...        ...   \n",
       "747        0.330545        0.747420  ...   0.560462   0.651464   0.435819   \n",
       "748        0.753030        0.840198  ...   0.793460   0.295969   0.402568   \n",
       "749        0.444315        1.000000  ...   0.506640   0.212257   0.585057   \n",
       "750        0.373386        0.490326  ...   0.559916   0.536638   0.238878   \n",
       "751        0.673164        0.734504  ...   0.614662   0.400230   0.437619   \n",
       "\n",
       "     X06956_at  X16699_at  X83863_at  Z17240_at  L49218_f_at  M71243_f_at  \\\n",
       "0     0.386057   0.611047   0.499519   0.370208     0.549853     0.470914   \n",
       "1     0.349330   0.498395   0.471359   0.310147     0.387588     0.460523   \n",
       "2     0.405702   0.628022   0.407405   0.364542     0.508344     0.449332   \n",
       "3     0.345401   0.640367   0.558384   0.428003     0.500796     0.499371   \n",
       "4     0.371196   0.703637   0.670006   0.414405     0.593250     0.565236   \n",
       "..         ...        ...        ...        ...          ...          ...   \n",
       "747   0.311584   0.508865   0.516085   0.323915     0.654308     0.857588   \n",
       "748   0.676392   0.560715   0.575147   0.336958     0.699631     0.752875   \n",
       "749   0.331757   0.773867   0.800121   0.176060     0.352877     0.379286   \n",
       "750   0.297934   0.806955   0.564062   0.510765     0.436667     0.348156   \n",
       "751   0.376556   0.671358   0.803143   0.303995     0.243517     0.534543   \n",
       "\n",
       "     Z78285_f_at  \n",
       "0       0.434172  \n",
       "1       0.317450  \n",
       "2       0.460110  \n",
       "3       0.423364  \n",
       "4       0.557378  \n",
       "..           ...  \n",
       "747     0.324064  \n",
       "748     0.557553  \n",
       "749     0.726550  \n",
       "750     0.405826  \n",
       "751     0.648342  \n",
       "\n",
       "[752 rows x 7130 columns]"
      ]
     },
     "execution_count": 6,
     "metadata": {},
     "output_type": "execute_result"
    }
   ],
   "source": [
    "from sklearn import preprocessing\n",
    "\n",
    "scaler = preprocessing.MinMaxScaler()\n",
    "# scaler = scaler.fit(X_train)\n",
    "dfNorm = scaler.fit_transform(df)\n",
    "dfNorm = pd.DataFrame(dfNorm, columns = df.columns, index = df.index)\n",
    "X_trainNorm = scaler.fit_transform(X_train)\n",
    "X_trainNorm = pd.DataFrame(X_trainNorm, columns = X_train.columns, index = X_train.index)\n",
    "X_testNorm = scaler.fit_transform(X_test)\n",
    "X_testNorm = pd.DataFrame(X_testNorm, columns = X_test.columns, index = X_test.index)\n",
    "dfNorm"
   ]
  },
  {
   "cell_type": "markdown",
   "metadata": {},
   "source": [
    "**1.2 The training set contains more predictors than observations. What problem(s) can this lead to in fitting a classification model to such a dataset? Explain in 3 or fewer sentences.**"
   ]
  },
  {
   "cell_type": "markdown",
   "metadata": {},
   "source": [
    "#### Answer 1.2.:\n",
    "When p > n we obtain perfect collinearity of the predictor set, and our model is susceptible to overfitting. \n",
    "Other problems that can arise with high dimentionality are that matrices may not be invertible (issue in OLS).\n"
   ]
  },
  {
   "cell_type": "markdown",
   "metadata": {},
   "source": [
    "**1.3 Determine which single gene individually discriminates between the two cancer classes the best (consider every gene in the dataset) and call it `best_predictor`.**\n",
    "\n",
    "**Plot two histograms of your `best_predictor` -- one using the training set and another using the testing set. The histogram should clearly distinguish two different `Cancer_type` classes.**"
   ]
  },
  {
   "cell_type": "code",
   "execution_count": 23,
   "metadata": {},
   "outputs": [
    {
     "name": "stdout",
     "output_type": "stream",
     "text": [
      "The gene that provides the highest R^2 is AFFX-BioC-5_st with a an R^2 score of 0.6702\n"
     ]
    }
   ],
   "source": [
    "# Calculating highest R2 from using single predictor log regression on each gene.\n",
    "\n",
    "list_of_R2= []\n",
    "for row in np.arange(len(y_test)):\n",
    "    logit1 = LogisticRegression(penalty=\"none\", fit_intercept=True).fit(X_trainNorm.iloc[:,row].values.reshape(-1,1), y_train)\n",
    "    list_of_R2.append(accuracy_score(y_test, logit1.predict(X_testNorm.iloc[:,row].values.reshape(-1,1))))\n",
    "\n",
    "best_predictor = X_testNorm.columns[np.argmax(list_of_R2)]\n",
    "print('The gene that provides the highest R^2 is {0} with a an R^2 score of {1:.4f}'.format(best_predictor,np.max(list_of_R2)))                     "
   ]
  },
  {
   "cell_type": "code",
   "execution_count": 33,
   "metadata": {},
   "outputs": [],
   "source": [
    "# splitting the values into the ones that are predicted to be ALL and AML respectively:\n",
    "best_pred_ALL=[]\n",
    "best_pred_AML=[]\n",
    "# slett en av disse linjene: logit1 = LogisticRegression(penalty=\"none\", fit_intercept=True).fit(X_trainNorm, y_train)\n",
    "logit1 = LogisticRegression(penalty=\"none\", fit_intercept=True).fit(X_trainNorm.loc[:,best_predictor].values.reshape(-1,1), y_train)\n",
    "for indeks, row in enumerate(X_trainNorm[best_predictor]):\n",
    "    if (1-int(logit1.predict(X_trainNorm.loc[X_trainNorm.index[indeks], best_predictor].reshape(-1,1)))) == 0:\n",
    "        best_pred_ALL.append(row)\n",
    "    else:\n",
    "        best_pred_AML.append(row)\n",
    "# same for test        \n",
    "best_pred_ALL_test=[]\n",
    "best_pred_AML_test=[]\n",
    "for indeks, row in enumerate(X_testNorm[best_predictor]):\n",
    "    if (1-int(logit1.predict(X_testNorm.loc[X_testNorm.index[indeks], best_predictor].reshape(-1,1)))) == 0:\n",
    "        best_pred_ALL_test.append(row)\n",
    "    else:\n",
    "        best_pred_AML_test.append(row)\n",
    "# best_pred_ALL"
   ]
  },
  {
   "cell_type": "code",
   "execution_count": null,
   "metadata": {},
   "outputs": [],
   "source": []
  },
  {
   "cell_type": "code",
   "execution_count": 36,
   "metadata": {},
   "outputs": [
    {
     "data": {
      "image/png": "[encoded data removed]",
      "text/plain": [
       "<Figure size 1080x360 with 2 Axes>"
      ]
     },
     "metadata": {},
     "output_type": "display_data"
    }
   ],
   "source": [
    "# plt.hist(X_trainNorm[best_predictor], alpha=0.7, label='Train set')\n",
    "fig, ax = plt.subplots(1,2,figsize=(15,5))\n",
    "\n",
    "ax[0].hist(best_pred_ALL, alpha=0.7, label='Predicted to be ALL', bins=10)\n",
    "ax[0].hist(best_pred_AML, alpha=0.7, label='Predicted to be AML', bins=10)\n",
    "ax[0].vlines(0.5,ymin=0,ymax=85, linestyle='--',color='brown',alpha=0.5, label='value=0.5')\n",
    "ax[0].set_xlabel('values in the gene \\\"best predictor\\\"')\n",
    "ax[0].set_ylabel('Count')\n",
    "ax[0].set_title('Train set')\n",
    "ax[0].legend()\n",
    "\n",
    "ax[1].hist(best_pred_ALL_test, alpha=0.7, label='Predicted to be ALL', bins=10)\n",
    "ax[1].hist(best_pred_AML_test, alpha=0.7, label='Predicted to be AML', bins=10)\n",
    "ax[1].set_xlabel('values in the gene \\\"best predictor\\\"')\n",
    "ax[1].vlines(0.5,ymin=0,ymax=25, linestyle='--',color='brown',alpha=0.5, label='value=0.5')\n",
    "ax[1].set_ylabel('Count')\n",
    "ax[1].set_title('Test set')\n",
    "ax[1].legend()\n",
    "\n",
    "plt.show()\n",
    "\n",
    "#So they are asking us to clearly distinguish between the two classes of cancer, in which we will..\n",
    "# have to make a prediction on a model. In this case I have used the logit1 we fit against..\n",
    "# each of the single predictors separately. Not sure if this correct looking at the gap in the plot.."
   ]
  },
  {
   "cell_type": "markdown",
   "metadata": {},
   "source": [
    "**1.4 Using `best_predictor`, create a classification model by simply eye-balling a value for this gene that would discriminate the two classes the best (do not use an algorithm to determine for you the optimal coefficient or threshold; we are asking you to provide a rough estimate / model by manual inspection). Justify your choice in 1-2 sentences. Report the accuracy of your hand-chosen model on the test set.**\n"
   ]
  },
  {
   "cell_type": "code",
   "execution_count": 11,
   "metadata": {},
   "outputs": [
    {
     "name": "stdout",
     "output_type": "stream",
     "text": [
      "\n",
      "The highest value from best_predictor is observation number 116 which is 1 on the standardized scale.\n",
      "\n"
     ]
    }
   ],
   "source": [
    "# fix\n",
    "X_testNorm.loc[X_testNorm.index[116],best_predictor]\n",
    "np.argmax(X_testNorm[best_predictor])\n",
    "\n",
    "print('''\n",
    "The highest value from best_predictor is observation number 116 which is 1 on the standardized scale.\n",
    "''')\n"
   ]
  },
  {
   "cell_type": "markdown",
   "metadata": {},
   "source": [
    "*your answer here*"
   ]
  },
  {
   "cell_type": "markdown",
   "metadata": {},
   "source": [
    "---"
   ]
  },
  {
   "cell_type": "markdown",
   "metadata": {},
   "source": [
    "<div class='exercise'> <b> Question 2 [35pts]: Logistic Regression Modeling </b> </div>\n",
    "\n",
    "\n",
    "**2.1** Fit a simple logistic regression model to the training set using the single gene predictor `best_predictor` to predict cancer type.  Carefully interpret the coefficient estimates for this model.\n",
    "\n",
    "*Remember, you need to set the regularization parameter for sklearn's logistic regression function to be a very large value in order to **not** regularize (use `C=100000` or `penalty = \"none\"`).\n",
    "\n",
    "**2.2** Plot the logistic curves for the model in 2.1 ($y$-axis is probability scale, $x$-axis is `best_predictor`).  Interpret this plot: at what values of your `best_predictor` will you predict the patient to have ALL?  How does this compare to your eeballed value from 1.4?\n",
    "\n",
    "**2.3** Calculate the training and test classification accuracies of this model in 2.1. How do these compare to the eye-balled model from 1.4?\n",
    "\n",
    "\n",
    "**2.4** Next, fit a multiple logistic regression model with **all** the gene predictors from the data set (reminder: for this assignment, we are always using the normalized values). How does the classification accuracy of this model compare with the models fitted with a single gene (on both the training and test sets)?  \n",
    "\n",
    "**2.5** Print out and interpret the logistic regression coefficients for  `best_predictor` from both the simple logistic and multiple logistic regression models from the previous two parts.  Do they agree or disagree?  What does this indicate?\n",
    "\n",
    "**2.6** Now let's use regularization to improve the predictions from the multiple logistic regression model. Specifically, use LASSO-like regularization and 5-fold cross-validation to fit the model on the training set (choose between 20 reasonable values of $\\lambda$). Report the classification accuracy on both the training and testing set.\n",
    "\n",
    "**2.7** How many predictors are considered as important features in this regularized model?  What does that say about the full logistic regression model in problem 2.4?"
   ]
  },
  {
   "cell_type": "markdown",
   "metadata": {},
   "source": [
    "\n",
    "## Answers"
   ]
  },
  {
   "cell_type": "markdown",
   "metadata": {},
   "source": [
    "**2.1 Fit a simple logistic regression model to the training set using the single gene predictor `best_predictor` to predict cancer type. Carefully interpret the coefficient estimates for this model.**"
   ]
  },
  {
   "cell_type": "code",
   "execution_count": 42,
   "metadata": {},
   "outputs": [
    {
     "name": "stdout",
     "output_type": "stream",
     "text": [
      "The intercept for the single reg model is:  1.2684248229969208 . This means that the log odds for type of cancer are ~1.27 when x=0, i.e. when this gene has its lowest value (since the values are normalizaed).\n",
      "The coefficiant for the single reg model is:  -2.5937379099642888 . This means that the log odds for type of cancer decreases with ~2.59 when x goes from 0 to 1, i.e when this gene has the highest observed value rather than the lowest.\n"
     ]
    }
   ],
   "source": [
    "logit = LogisticRegression(penalty=\"none\", fit_intercept=True)\n",
    "logit_single = logit.fit(X_trainNorm[best_predictor].values.reshape(-1, 1), y_train)\n",
    "print('The intercept for the single reg model is: ', logit_single.intercept_[0], '. This means that the log odds for type of cancer are ~1.27 when x=0, i.e. when this gene has its lowest value (since the values are normalizaed).')\n",
    "print('The coefficiant for the single reg model is: ', logit_single.coef_[0][0], '. This means that the log odds for type of cancer decreases with ~2.59 when x goes from 0 to 1, i.e when this gene has the highest observed value rather than the lowest.')"
   ]
  },
  {
   "cell_type": "markdown",
   "metadata": {},
   "source": [
    "*your answer here* \n"
   ]
  },
  {
   "cell_type": "markdown",
   "metadata": {},
   "source": [
    "**2.2 Plot the logistic curves for the model in 2.1 ($y$-axis is probability scale, $x$-axis is `best_predictor`).  Interpret this plot: at what values of your `best_predictor` will you predict the patient to have ALL?  How does this compare to your eeballed value from 1.4?**\n"
   ]
  },
  {
   "cell_type": "code",
   "execution_count": 37,
   "metadata": {},
   "outputs": [],
   "source": [
    "# slett: X_dummy = np.linspace(np.min(X_testNorm[best_predictor]),np.max(X_testNorm[best_predictor]))\n",
    "classification_boundary = -(logit_single.intercept_[0])/logit_single.coef_[0][0]\n",
    "\n",
    "X_trainNorm_sorted = np.sort(X_trainNorm[best_predictor])\n",
    "X_testNorm_sorted = np.sort(X_testNorm[best_predictor])\n",
    "y_pred_single_train = logit_single.predict(X_trainNorm_sorted.reshape(-1, 1))\n",
    "y_pred_single_test = logit_single.predict(X_testNorm_sorted.reshape(-1, 1))\n",
    "y_predproba_single_train = logit_single.predict_proba(X_trainNorm_sorted.reshape(-1, 1))[:,0]\n",
    "y_predproba_single_test = logit_single.predict_proba(X_testNorm_sorted.reshape(-1, 1))[:,0]"
   ]
  },
  {
   "cell_type": "code",
   "execution_count": 38,
   "metadata": {},
   "outputs": [
    {
     "data": {
      "image/png": "[encoded data removed]",
      "text/plain": [
       "<Figure size 432x288 with 1 Axes>"
      ]
     },
     "metadata": {},
     "output_type": "display_data"
    },
    {
     "name": "stdout",
     "output_type": "stream",
     "text": [
      "Since the classification boundary is 0.489,the model will predict patients to have ALL for all scores below this value, and AML for all scores above.\n"
     ]
    }
   ],
   "source": [
    "# Plot:\n",
    "\n",
    "plt.plot(X_testNorm_sorted, y_predproba_single_test, label='Train set prediction', alpha=0.5)\n",
    "plt.plot(X_trainNorm_sorted, y_predproba_single_train, label='Test set prediction', alpha=0.5)\n",
    "plt.vlines(classification_boundary,ymin=np.min(X_testNorm_sorted),ymax=np.max(X_testNorm_sorted), linestyles='--', color='g', label='Classification boundary = {:.3f}'.format(classification_boundary))\n",
    "plt.hlines(0.5,xmin=np.min(X_testNorm_sorted),xmax=np.max(X_testNorm_sorted), linestyles='--', color='brown',label='Probability=0.5')\n",
    "plt.xlabel('best_predictor values')\n",
    "plt.ylabel('probability scale')\n",
    "plt.title('Predicted probability of ALL (0) or AML(1) based on best_predictor gene')\n",
    "plt.legend()\n",
    "plt.show()\n",
    "\n",
    "print('Since the classification boundary is {:.3f},the model will predict patients to have ALL for all scores below this value, and AML for all scores above.'.format(classification_boundary))"
   ]
  },
  {
   "cell_type": "markdown",
   "metadata": {},
   "source": [
    "**2.3 Calculate the training and test classification accuracies of this model in 2.1.  How do these compare to the eye-balled model from 1.4?**"
   ]
  },
  {
   "cell_type": "code",
   "execution_count": 17,
   "metadata": {},
   "outputs": [
    {
     "name": "stdout",
     "output_type": "stream",
     "text": [
      "The accurracy for the train set it: -0.8238188109468385\n",
      "The accurracy for the test set it: -0.8731884057971013\n",
      " They compare to the eye-balled model ......\n"
     ]
    }
   ],
   "source": [
    "print('The accurracy for the train set it:', sk.metrics.r2_score(y_train ,  y_pred_single_train))\n",
    "print('The accurracy for the test set it:', sk.metrics.r2_score(y_test ,  y_pred_single_test))\n",
    "print(' They compare to the eye-balled model ......')  \n",
    "        #fix"
   ]
  },
  {
   "cell_type": "markdown",
   "metadata": {},
   "source": [
    "*your answer here* \n"
   ]
  },
  {
   "cell_type": "markdown",
   "metadata": {},
   "source": [
    "**2.4 Next, fit a multiple logistic regression model with *all* the gene predictors from the data set (reminder: for this assignment, we are always using the normalized values). How does the classification accuracy of this model compare with the models fitted with a single gene (on both the training and test sets)?**\n"
   ]
  },
  {
   "cell_type": "code",
   "execution_count": 51,
   "metadata": {},
   "outputs": [
    {
     "name": "stdout",
     "output_type": "stream",
     "text": [
      "The accurracy for the mutliple regression train set it: 1.0\n",
      "The accurracy for the mutliple regression test set it: 0.1060\n",
      "For comparison the accurracy for the single predictor was 0.6011 for train and 0.6702 for test.\n"
     ]
    }
   ],
   "source": [
    "logit = LogisticRegression(penalty=\"none\", fit_intercept=True)\n",
    "logit_multiple = logit.fit(X_trainNorm.values.reshape(-1, 7129), y_train)\n",
    "y_pred_multiple_train = logit_multiple.predict(X_trainNorm)\n",
    "y_pred_multiple_test = logit_multiple.predict(X_testNorm) \n",
    "\n",
    "    \n",
    "print('The accurracy for the mutliple regression train set it:', sk.metrics.r2_score(y_train, y_pred_multiple_train))\n",
    "print('The accurracy for the mutliple regression test set it: {:.4f}'.format(sk.metrics.r2_score(y_test ,  y_pred_multiple_test)))\n",
    "\n",
    "print('For comparison the accurracy for the single predictor was {0:.4f} for train and {1:.4f} for test.'.format(accuracy_score(y_train, logit_single.predict(X_trainNorm.loc[:,best_predictor].values.reshape(-1,1))), np.max(list_of_R2)))\n"
   ]
  },
  {
   "cell_type": "markdown",
   "metadata": {},
   "source": [
    "##### Answer 2.4:\n",
    "As we would expect we get an R-squared of 1 for our train-set when we have more predictors than observations. This is clearly overfit, and we get an R-squared of 0.106 the test set. This is much worse than our single predictor model for our best predictor, which got an R^2 score of 0.670 for train and 0.601 for train."
   ]
  },
  {
   "cell_type": "markdown",
   "metadata": {},
   "source": [
    "**2.5 Print out and interpret the logistic regression coefficients for `best_predictor` from both the simple logistic and multiple logistic regression models from the previous two parts.  Do they agree or disagree?  What does this indicate?**"
   ]
  },
  {
   "cell_type": "code",
   "execution_count": 68,
   "metadata": {},
   "outputs": [
    {
     "name": "stdout",
     "output_type": "stream",
     "text": [
      "The coefficient for best_predictor for the multiple regression model is: -1.8751379379201865  \n",
      "This negative coefficient means that a higher value of this predictor indicates a higher probability of having ALL rather than AML (0 rather than 1 in the response)\n",
      "\n",
      "The coefficient for the single reg model is:  -2.5937379099642888 . The reason this coefficien is higher is probably because the single predictor model is explaining variance that has collinearity with other variables that are included in the multiple regression model\n"
     ]
    }
   ],
   "source": [
    "# print(logit_multiple.coef_[0])\n",
    "print('The coefficient for best_predictor for the multiple regression model is:', logit_multiple.coef_[0][X_trainNorm.columns.tolist().index(best_predictor)], ' \\nThis negative coefficient means that a higher value of this predictor indicates a higher probability of having ALL rather than AML (0 rather than 1 in the response)')\n",
    "print('\\nThe coefficient for the single reg model is: ', logit_single.coef_[0][0], '. The reason this coefficien is higher is probably because the single predictor model is explaining variance that has collinearity with other variables that are included in the multiple regression model') \n",
    "\n",
    "#delete this:\n",
    "# print('\\nThe intercept for the multiple regression model is:', logit_multiple.intercept_[0], '.\\nThis defines the log odds for type of cancer when x=0, i.e. when this gene has its lowest value (since the values are normalizaed).')\n",
    "# print('\\nThe intercept for the single reg model is: ', logit_single.intercept_[0],  ' and is individually interpreted in task 2.1.') "
   ]
  },
  {
   "cell_type": "markdown",
   "metadata": {},
   "source": [
    "**2.6 Now let's use regularization to improve the predictions from the multiple logistic regression model. Specifically, use LASSO-like regularization and 5-fold cross-validation to fit the model on the training set (choose between 20 reasonable values of $\\lambda$). Report the classification accuracy on both the training and testing set.**"
   ]
  },
  {
   "cell_type": "code",
   "execution_count": 72,
   "metadata": {},
   "outputs": [
    {
     "name": "stdout",
     "output_type": "stream",
     "text": [
      "Best training set Score (average of the 5 folds)):  0.5935600237992562\n",
      "Best training set Params:  {'alpha': 0.00379269019073225}\n",
      "Best test set Score (average of the 5 folds):  0.3451886036275259\n",
      "Best test set Params:  {'alpha': 0.00379269019073225}\n"
     ]
    }
   ],
   "source": [
    "from sklearn.linear_model import Lasso\n",
    "from sklearn.model_selection import GridSearchCV\n",
    "lambdas = np.logspace(-3,8,20)\n",
    "\n",
    "\n",
    "def cv_optimize_Lasso(x: np.ndarray, y: np.ndarray, list_of_lambdas: list, n_folds: int = 5):\n",
    "    parameters = {'alpha': list_of_lambdas}\n",
    "    # the scoring parameter below is the default one in ridge, but you can use a different one in the cross-validation phase if you want.\n",
    "    gs = GridSearchCV(Lasso(), param_grid=parameters, cv=n_folds, scoring=\"r2\")\n",
    "    gs.fit(x, y)\n",
    "    return gs\n",
    "\n",
    "lasso_train = cv_optimize_Lasso(X_trainNorm, y_train, lambdas)\n",
    "lasso_test = cv_optimize_Lasso(X_testNorm, y_test, lambdas)\n",
    "\n",
    "print('Best training set Score (average of the 5 folds)): ', lasso_train.best_score_)\n",
    "print('Best training set Params: ', lasso_train.best_params_)\n",
    "print('Best test set Score (average of the 5 folds): ', lasso_test.best_score_)\n",
    "print('Best test set Params: ', lasso_test.best_params_)"
   ]
  },
  {
   "cell_type": "markdown",
   "metadata": {},
   "source": [
    "**2.7 How many predictors are considered as important features in this regularized model?  What does that say about the full logistic regression model in problem 2.4?**\n"
   ]
  },
  {
   "cell_type": "code",
   "execution_count": 165,
   "metadata": {},
   "outputs": [
    {
     "name": "stdout",
     "output_type": "stream",
     "text": [
      "Training set Score:  0.7340151757879942\n",
      "Test set Score:  0.4006241929728108\n",
      "Number of coefficiants that have not been shrinked to zero: 107\n"
     ]
    }
   ],
   "source": [
    "lasso_reg = Lasso(alpha= 0.00379269019073225)\n",
    "lasso_reg.fit(X_trainNorm, y_train)\n",
    "\n",
    "print('Training set Score: ', lasso_reg.score(X_trainNorm,y_train))\n",
    "print('Test set Score: ', lasso_reg.score(X_testNorm,y_test))\n",
    "\n",
    "# Making a list of all coefficients that have not been shrinked to 0:\n",
    "coef_list = []\n",
    "for value in lasso_reg.coef_.tolist():\n",
    "    if value != 0:\n",
    "        coef_list.append(value)\n",
    "print('Number of coefficiants that have not been shrinked to zero:',len(coef_list))"
   ]
  },
  {
   "cell_type": "markdown",
   "metadata": {},
   "source": [
    "##### Answer 2.7:\n",
    "We see that the number of important features has been shrinked from 7129 to 107. We also see that we were correct about the overfitting of the model including all predictors, and that the model is doing much better at prediction with this subset of predictors."
   ]
  },
  {
   "cell_type": "markdown",
   "metadata": {},
   "source": [
    "---"
   ]
  },
  {
   "cell_type": "markdown",
   "metadata": {},
   "source": [
    "<div class='exercise'> <b> Question 3 [10pts]: $k$-NN Classification </b> </div>"
   ]
  },
  {
   "cell_type": "markdown",
   "metadata": {},
   "source": [
    "**3.1** Use 5-fold cross-validation to select $k$ for a $k$-NN classification model based on the full predictor set.  Choose between `ks = [1,3,5,7,10,15,20,50,100]`. \n",
    "\n",
    "**3.2** Provide the confusion matrix for 3 models: (i) the full multiple logistic regression model from 2.4, (ii) the best regularized model from 2.6, and (iii) the best $k$-NN from the previous part. Report the false positive and false negative rates (all in the test set).  Briefly interpret what you notice."
   ]
  },
  {
   "cell_type": "markdown",
   "metadata": {},
   "source": [
    "\n",
    "### Answers"
   ]
  },
  {
   "cell_type": "markdown",
   "metadata": {},
   "source": [
    "**3.1 Use 5-fold cross-validation to select $k$ for a $k$-NN classification model based on the full predictor set.  Choose between `ks = [1,3,5,7,10,15,20,50,100]`.  Report your chosen $k$, and report the misclassification rate on both the train and test sets for the model using your chosen $k$.**"
   ]
  },
  {
   "cell_type": "code",
   "execution_count": 162,
   "metadata": {},
   "outputs": [
    {
     "data": {
      "text/html": [
       "<div>\n",
       "<style scoped>\n",
       "    .dataframe tbody tr th:only-of-type {\n",
       "        vertical-align: middle;\n",
       "    }\n",
       "\n",
       "    .dataframe tbody tr th {\n",
       "        vertical-align: top;\n",
       "    }\n",
       "\n",
       "    .dataframe thead th {\n",
       "        text-align: right;\n",
       "    }\n",
       "</style>\n",
       "<table border=\"1\" class=\"dataframe\">\n",
       "  <thead>\n",
       "    <tr style=\"text-align: right;\">\n",
       "      <th></th>\n",
       "      <th>k-value</th>\n",
       "      <th>accurracy score</th>\n",
       "    </tr>\n",
       "  </thead>\n",
       "  <tbody>\n",
       "    <tr>\n",
       "      <th>0</th>\n",
       "      <td>1</td>\n",
       "      <td>0.771277</td>\n",
       "    </tr>\n",
       "    <tr>\n",
       "      <th>1</th>\n",
       "      <td>3</td>\n",
       "      <td>0.819149</td>\n",
       "    </tr>\n",
       "    <tr>\n",
       "      <th>2</th>\n",
       "      <td>5</td>\n",
       "      <td>0.861702</td>\n",
       "    </tr>\n",
       "    <tr>\n",
       "      <th>3</th>\n",
       "      <td>7</td>\n",
       "      <td>0.861702</td>\n",
       "    </tr>\n",
       "    <tr>\n",
       "      <th>4</th>\n",
       "      <td>10</td>\n",
       "      <td>0.851064</td>\n",
       "    </tr>\n",
       "    <tr>\n",
       "      <th>5</th>\n",
       "      <td>15</td>\n",
       "      <td>0.845745</td>\n",
       "    </tr>\n",
       "    <tr>\n",
       "      <th>6</th>\n",
       "      <td>20</td>\n",
       "      <td>0.787234</td>\n",
       "    </tr>\n",
       "    <tr>\n",
       "      <th>7</th>\n",
       "      <td>50</td>\n",
       "      <td>0.712766</td>\n",
       "    </tr>\n",
       "    <tr>\n",
       "      <th>8</th>\n",
       "      <td>100</td>\n",
       "      <td>0.601064</td>\n",
       "    </tr>\n",
       "  </tbody>\n",
       "</table>\n",
       "</div>"
      ],
      "text/plain": [
       "   k-value  accurracy score\n",
       "0        1         0.771277\n",
       "1        3         0.819149\n",
       "2        5         0.861702\n",
       "3        7         0.861702\n",
       "4       10         0.851064\n",
       "5       15         0.845745\n",
       "6       20         0.787234\n",
       "7       50         0.712766\n",
       "8      100         0.601064"
      ]
     },
     "metadata": {},
     "output_type": "display_data"
    },
    {
     "name": "stdout",
     "output_type": "stream",
     "text": [
      "The best k-NN model is when k=5 and k=7 as they are identical in those two situations.\n",
      "Selecting k=5 for my model\n",
      "Score for k=5: 0.8617021276595744\n",
      "Score for k=7: 0.8617021276595744\n"
     ]
    }
   ],
   "source": [
    "from sklearn.model_selection import KFold\n",
    "n_folds = 5  #antallet folds du vil ha\n",
    "kfold = KFold(n_folds, shuffle=True)\n",
    "ks = [1,3,5,7,10,15,20,50,100]\n",
    "#list(kfold.split(range(48)))\n",
    "\n",
    "score_list = [[],[],[],[],[],[],[],[],[]]\n",
    "for i,k in enumerate(ks):\n",
    "    fittedModel = KNeighborsClassifier(n_neighbors=k).fit(X_trainNorm, y_train)\n",
    "    score_list[i].append(k)\n",
    "    score_list[i].append(fittedModel.score(X_testNorm,y_test))\n",
    "    \n",
    "score_df = pd.DataFrame(score_list, columns=['k-value','accurracy score'])\n",
    "display(score_df)\n",
    "print('The best k-NN model is when k=5 and k=7 as they are identical in those two situations.')\n",
    "print('Selecting k={} for my model'.format(score_df['k-value'][np.argmax(score_df['accurracy score'])]))\n",
    "\n",
    "print('Score for k=5:', score_df['accurracy score'][2])\n",
    "print('Score for k=7:', score_df['accurracy score'][3])"
   ]
  },
  {
   "cell_type": "code",
   "execution_count": 158,
   "metadata": {},
   "outputs": [
    {
     "name": "stdout",
     "output_type": "stream",
     "text": [
      "Overall misclassification rate in train: 0.099290780141844\n",
      "Overall misclassification rate in test: 0.13829787234042556\n"
     ]
    },
    {
     "data": {
      "text/plain": [
       "0.8617021276595744"
      ]
     },
     "execution_count": 158,
     "metadata": {},
     "output_type": "execute_result"
    }
   ],
   "source": [
    "# The misclassification rate for k = 5 is (1-accuracy rate):\n",
    "\n",
    "fittedModel_5 = KNeighborsClassifier(n_neighbors=5).fit(X_trainNorm, y_train)\n",
    "print(\"Overall misclassification rate in train:\",1-fittedModel_5.score(X_trainNorm,y_train))\n",
    "print(\"Overall misclassification rate in test:\",1-fittedModel_5.score(X_testNorm,y_test))\n"
   ]
  },
  {
   "cell_type": "markdown",
   "metadata": {},
   "source": [
    "**3.2 Provide the confusion matrix for 3 models: (i) the full multiple logistic regression model from 2.4, (ii) the best regularized model from 2.6, and (iii) the best $k$-NN from the previous part. what are the  false positive and false negative rates in these 3 models (all in the test set)?  Briefly interpret what you notice.**"
   ]
  },
  {
   "cell_type": "code",
   "execution_count": 4,
   "metadata": {},
   "outputs": [],
   "source": [
    "######\n",
    "# your code here\n",
    "######"
   ]
  },
  {
   "cell_type": "markdown",
   "metadata": {},
   "source": [
    "*your answer here*"
   ]
  },
  {
   "cell_type": "markdown",
   "metadata": {},
   "source": [
    "---"
   ]
  },
  {
   "cell_type": "markdown",
   "metadata": {},
   "source": [
    "#### <div class='exercise'><b> Question 4 [15 pts]: Performing Principal Components Analysis </b></div>"
   ]
  },
  {
   "cell_type": "markdown",
   "metadata": {},
   "source": [
    "**4.1** Create the full PCA decomposition of `X_train` and apply the transformation to both `X_train` and `X_test`.  Report the shape of both of these.  What is the limiting factor for the maximum number of PCA components for this data set? \n",
    "\n",
    "*Hint: be sure to standardize before performing PCA.\n",
    "\n",
    "**4.2** PCA is often solely used to help in visualizing high-dimensional problems.  Plot the scatterplot of the second PCA vector of train on the $Y$-axis and the first PCA vector of train on the $X$-axis (be sure to denote the classes via different colors and markings).  In 2-3 sentences, explain why using the scatterplot of the top 2 PCA vectors is a useful approach to visualize a high dimensional classification problem.\n",
    "\n",
    "**4.3** Determine and report the variance explained in `X_train` based on the top 2 PCA vectors.  Determine and report how many PCA vectors are needed so that 90\\% of the variability in the predictors is explained, and create a plot to illustrate this result (Hint: look at cumulative explained variability vs. number of PCA components used).  Select a reasonable value for the number of components that balances representativeness (of the predictors) with parsimony. \n"
   ]
  },
  {
   "cell_type": "markdown",
   "metadata": {},
   "source": [
    "\n",
    "### Answers"
   ]
  },
  {
   "cell_type": "markdown",
   "metadata": {},
   "source": [
    "**4.1 Create the full PCA decomposition of X_train and apply the transformation to both X_train and X_test. Report the shape of both of these. What is the limiting factor for the maximum number of PCA components for this data set?**"
   ]
  },
  {
   "cell_type": "code",
   "execution_count": null,
   "metadata": {},
   "outputs": [],
   "source": [
    "######\n",
    "# your code here\n",
    "######"
   ]
  },
  {
   "cell_type": "markdown",
   "metadata": {},
   "source": [
    "*Your answer here*\n"
   ]
  },
  {
   "cell_type": "markdown",
   "metadata": {},
   "source": [
    "**4.2 PCA is often solely used to help in visualizing high-dimensional problems. Plot the scatterplot of the second PCA vector on the  𝑌 -axis and the first PCA vector on the  𝑋 -axis (be sure to denote the classes via different color/markings). In 2-3 sentences, explain why using the scatterplot of the top 2 PCA vectors is a useful approach to visualize a high dimensional classification problem.**"
   ]
  },
  {
   "cell_type": "code",
   "execution_count": null,
   "metadata": {},
   "outputs": [],
   "source": [
    "######\n",
    "# your code here\n",
    "######"
   ]
  },
  {
   "cell_type": "markdown",
   "metadata": {},
   "source": [
    "*your answer here*\n"
   ]
  },
  {
   "cell_type": "markdown",
   "metadata": {},
   "source": [
    "**4.3 Determine and report the variance explained in `X_train` based on the top 2 PCA vectors.  Determine and report how many PCA vectors are needed so that 90\\% of the variability in the predictors is explained, and create a plot to illustrate this result (Hint: look at cumulative explained variability vs. number of PCA components used).  Select a reasonable value for the number of components that balances representativeness (of the predictors) with parsimony.**"
   ]
  },
  {
   "cell_type": "code",
   "execution_count": null,
   "metadata": {},
   "outputs": [],
   "source": [
    "######\n",
    "# your code here\n",
    "######"
   ]
  },
  {
   "cell_type": "markdown",
   "metadata": {},
   "source": [
    "*your answer here*"
   ]
  },
  {
   "cell_type": "markdown",
   "metadata": {},
   "source": [
    "---"
   ]
  },
  {
   "cell_type": "markdown",
   "metadata": {},
   "source": [
    "<div class='exercise'><b> Question 5 [10 pts]: Principal Components Regression (PCR) </b></div>\n",
    "\n",
    "**5.1** Fit three separate Logistic Regression models using principal components as the predictors: (1) with just the first 2 PCA vectors, (2) with the number of component vectors you chose from 5.4 above, and (3) with the number of components that explain at least 90% of the variability in the predictor set. How do the classification accuracy values on both the training and test sets compare with these models?\n",
    "\n",
    "**5.2** Use cross-validation to determine the best number of principal components. Try out the 3 values from the previous sub-part and optionally include other values as well. For the best performing model according to cross-validation, interpret what the model says about the relationship between `best_predictor` and `Cancer_type`.\n"
   ]
  },
  {
   "cell_type": "markdown",
   "metadata": {},
   "source": [
    "\n",
    "### Answers"
   ]
  },
  {
   "cell_type": "markdown",
   "metadata": {},
   "source": [
    "**5.1 Fit three separate Logistic Regression models using principal components as the predictors: (1) with just the first 2 PCA vectors, (2) with the number of component vectors you chose from 5.4 above, and (3) with the number of components that explain at least 90% of the variability in the predictor set. How do the classification accuracy values on both the training and test sets compare with these models?**"
   ]
  },
  {
   "cell_type": "code",
   "execution_count": null,
   "metadata": {},
   "outputs": [],
   "source": [
    "######\n",
    "# your code here\n",
    "######\n"
   ]
  },
  {
   "cell_type": "markdown",
   "metadata": {},
   "source": [
    "*your answer here*\n"
   ]
  },
  {
   "cell_type": "markdown",
   "metadata": {},
   "source": [
    "**5.2 Use cross-validation to determine the best number of principal components. Try out the 3 values from the previous sub-part and optionally include other values as well. For the best performing model according to cross-validation, interpret what the model says about the relationship between your `best_predictor` and `Cancer_type`**."
   ]
  },
  {
   "cell_type": "code",
   "execution_count": null,
   "metadata": {},
   "outputs": [],
   "source": [
    "######\n",
    "# your code here\n",
    "######\n"
   ]
  },
  {
   "cell_type": "markdown",
   "metadata": {},
   "source": [
    "* your answer here*"
   ]
  },
  {
   "cell_type": "markdown",
   "metadata": {},
   "source": [
    "<div class='exercise'><b> Question 6 [15 pts]: Evaluating Classifiers </b></div>\n",
    "\n",
    "**6.1**: Another way to evaluate models in a classification setting is through an Area-under-the-ROC-Curve (AUC). Briefly explain what the AUC and the ROC are trying to do and how this approach differs from evaluating models based on misclassification rate (as you have done thus far in this problem set).\n",
    "\n",
    "**6.2** Evaluate the 'best' models (best based on test misclassification: if there is a tie, choose the 'simplest' model) from each class of classification models using AUC.  That is calculate AUC for the following models:\n",
    "- the best logistic regression model, whether regularized or not (question 2)\n",
    "- the best $k$-NN model (question 3)\n",
    "- the best PCR model (question 5)\n",
    "\n",
    "For the model with the best AUC, plot the ROC. Briefly interpret your plot.\n",
    "\n",
    "**6.3** Based on AUC, is there one clear stand-out winner or are a lot of models similar in prediction?  If you were to predict real cancer patients, how would use these models to predict cancer type?\n",
    "\n",
    "*See extra information about ALL and AML at the bottom of this notebook.*"
   ]
  },
  {
   "cell_type": "markdown",
   "metadata": {},
   "source": [
    "### Answers"
   ]
  },
  {
   "cell_type": "markdown",
   "metadata": {},
   "source": [
    "**6.1 Another way to evaluate models in a classification setting is through an Area-under-the-ROC-Curve (AUC). Briefly explain what the AUC and the ROC are trying to do and how this approach differs from evaluating models based on misclassification rate (as you have done thus far in this problem set).**"
   ]
  },
  {
   "cell_type": "markdown",
   "metadata": {},
   "source": [
    "*your answer here*\n"
   ]
  },
  {
   "cell_type": "markdown",
   "metadata": {},
   "source": [
    "**6.2 use AUC to evaluate the 'best' models (best based on test misclassification: if there is a tie, choose the 'simplest' model) from each class of classification models.  That is calculate AUC for the following models:**\n",
    "- the best logistic regression model, whether regularized or not (question 2)\n",
    "- the best $k$-NN model (question 3)\n",
    "- the best PCR model (question 5)\n",
    "\n",
    "**For the model with the best AUC, plot the ROC. Briefly interpret your plot.**\n",
    "\n"
   ]
  },
  {
   "cell_type": "code",
   "execution_count": null,
   "metadata": {},
   "outputs": [],
   "source": [
    "######\n",
    "# your code here\n",
    "######\n"
   ]
  },
  {
   "cell_type": "markdown",
   "metadata": {},
   "source": [
    "*your answer here*"
   ]
  },
  {
   "cell_type": "markdown",
   "metadata": {},
   "source": [
    "**6.3 Based on AUC, is there one clear stand-out winner or are a lot of models similar in prediction?  If you were to predict real cancer patients, how would use these models to predict cancer type?**"
   ]
  },
  {
   "cell_type": "markdown",
   "metadata": {},
   "source": [
    "*your answer here*\n"
   ]
  },
  {
   "cell_type": "markdown",
   "metadata": {},
   "source": [
    "<hr style=\"height:2pt\">"
   ]
  },
  {
   "cell_type": "markdown",
   "metadata": {},
   "source": [
    "\n",
    "**Additional Information**\n",
    "\n",
    "Acute Lymphoblastic Leukemia (ALL):\n",
    "- About 98% of children with ALL go into remission within weeks after starting treatment.\n",
    "- About 90% of those children can be cured. Patients are considered cured after 10 years in remission.\n",
    "\n",
    "Acute Myeloid Leukemia (AML):\n",
    "- In general, children with AML are seen as lower risk than adults. \n",
    "- Around 85 to 90 percent of children with AML will go into remission after induction, according to the American Cancer Society. AML will return in some cases.  \n",
    "- The five-year-survival-rate for children with AML is 60 to 70 percent."
   ]
  },
  {
   "cell_type": "markdown",
   "metadata": {},
   "source": [
    "<hr style=\"height:2pt\">"
   ]
  }
 ],
 "metadata": {
  "anaconda-cloud": {},
  "kernelspec": {
   "display_name": "Python 3",
   "language": "python",
   "name": "python3"
  },
  "language_info": {
   "codemirror_mode": {
    "name": "ipython",
    "version": 3
   },
   "file_extension": ".py",
   "mimetype": "text/x-python",
   "name": "python",
   "nbconvert_exporter": "python",
   "pygments_lexer": "ipython3",
   "version": "3.8.8"
  }
 },
 "nbformat": 4,
 "nbformat_minor": 2
}
