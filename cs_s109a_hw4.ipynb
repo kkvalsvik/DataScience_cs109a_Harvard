{
 "cells": [
  {
   "cell_type": "markdown",
   "metadata": {
    "button": false,
    "new_sheet": false,
    "run_control": {
     "read_only": false
    }
   },
   "source": [
    "# <img style=\"float: left; padding-right: 10px; width: 45px\" src=\"https://github.com/Harvard-IACS/2021-s109a/blob/master/lectures/crest.png?raw=true\"> CS-S109A Introduction to Data Science \n",
    "\n",
    "## Homework 4:  Logistic Regression and PCA\n",
    "\n",
    "**Harvard University**<br/>\n",
    "**Summer 2021**<br/>\n",
    "**Instructors**: Kevin Rader\n",
    "\n",
    "\n",
    "<hr style='height:2px'>\n",
    "\n",
    "---\n",
    "\n"
   ]
  },
  {
   "cell_type": "code",
   "execution_count": 1,
   "metadata": {},
   "outputs": [
    {
     "data": {
      "text/html": [
       "<style>\n",
       "blockquote { background: #AEDE94; }\n",
       "h1 { \n",
       "    padding-top: 25px;\n",
       "    padding-bottom: 25px;\n",
       "    text-align: left; \n",
       "    padding-left: 10px;\n",
       "    background-color: #DDDDDD; \n",
       "    color: black;\n",
       "}\n",
       "h2 { \n",
       "    padding-top: 10px;\n",
       "    padding-bottom: 10px;\n",
       "    text-align: left; \n",
       "    padding-left: 5px;\n",
       "    background-color: #EEEEEE; \n",
       "    color: black;\n",
       "}\n",
       "\n",
       "div.exercise {\n",
       "\tbackground-color: #ffcccc;\n",
       "\tborder-color: #E9967A; \t\n",
       "\tborder-left: 5px solid #800080; \n",
       "\tpadding: 0.5em;\n",
       "}\n",
       "\n",
       "div.exercise-r {\n",
       "\tbackground-color: #fce8e8;\n",
       "\tborder-color: #E9967A; \t\n",
       "\tborder-left: 5px solid #800080; \n",
       "\tpadding: 0.5em;\n",
       "}\n",
       "\n",
       "\n",
       "span.sub-q {\n",
       "\tfont-weight: bold;\n",
       "}\n",
       "div.theme {\n",
       "\tbackground-color: #DDDDDD;\n",
       "\tborder-color: #E9967A; \t\n",
       "\tborder-left: 5px solid #800080; \n",
       "\tpadding: 0.5em;\n",
       "\tfont-size: 18pt;\n",
       "}\n",
       "div.gc { \n",
       "\tbackground-color: #AEDE94;\n",
       "\tborder-color: #E9967A; \t \n",
       "\tborder-left: 5px solid #800080; \n",
       "\tpadding: 0.5em;\n",
       "\tfont-size: 12pt;\n",
       "}\n",
       "p.q1 { \n",
       "    padding-top: 5px;\n",
       "    padding-bottom: 5px;\n",
       "    text-align: left; \n",
       "    padding-left: 5px;\n",
       "    background-color: #EEEEEE; \n",
       "    color: black;\n",
       "}\n",
       "header {\n",
       "   padding-top: 35px;\n",
       "    padding-bottom: 35px;\n",
       "    text-align: left; \n",
       "    padding-left: 10px;\n",
       "    background-color: #DDDDDD; \n",
       "    color: black;\n",
       "}\n",
       "</style>\n",
       "\n"
      ],
      "text/plain": [
       "<IPython.core.display.HTML object>"
      ]
     },
     "execution_count": 1,
     "metadata": {},
     "output_type": "execute_result"
    }
   ],
   "source": [
    "## RUN THIS CELL TO GET THE RIGHT FORMATTING \n",
    "import requests\n",
    "from IPython.core.display import HTML\n",
    "styles = requests.get(\"https://raw.githubusercontent.com/Harvard-IACS/2018-CS109A/master/content/styles/cs109.css\").text\n",
    "HTML(styles)"
   ]
  },
  {
   "cell_type": "markdown",
   "metadata": {},
   "source": [
    "### INSTRUCTIONS\n",
    "\n",
    "- To submit your assignment follow the instructions given in Canvas.\n",
    "- Restart the kernel and run the whole notebook again before you submit. \n",
    "- If you submit individually and you have worked with someone, please include the name of your [one] partner below. \n",
    "- As much as possible, try and stick to the hints and functions we import at the top of the homework, as those are the ideas and tools the class supports and is aiming to teach. And if a problem specifies a particular library you're required to use that library, and possibly others from the import list.\n",
    "- Please use .head() when viewing data. Do not submit a notebook that is excessively long because output was not suppressed or otherwise limited. "
   ]
  },
  {
   "cell_type": "code",
   "execution_count": 2,
   "metadata": {},
   "outputs": [],
   "source": [
    "import numpy as np\n",
    "import pandas as pd\n",
    "import sklearn as sk\n",
    "\n",
    "from sklearn.linear_model import LogisticRegression\n",
    "from sklearn.linear_model import LogisticRegressionCV\n",
    "\n",
    "from sklearn.neighbors import KNeighborsClassifier\n",
    "from sklearn.model_selection import cross_val_score\n",
    "from sklearn.metrics import accuracy_score\n",
    "from sklearn.model_selection import KFold\n",
    "from sklearn.preprocessing import MinMaxScaler\n",
    "from sklearn.model_selection import train_test_split\n",
    "from sklearn import metrics\n",
    "from sklearn.decomposition import PCA\n",
    "\n",
    "import matplotlib\n",
    "import matplotlib.pyplot as plt\n",
    "%matplotlib inline\n",
    "\n",
    "import zipfile\n",
    "\n",
    "\n",
    "import seaborn as sns\n",
    "sns.set()\n",
    "\n",
    "# if you want to do a 2-sample t-test:\n",
    "from scipy.stats import ttest_ind"
   ]
  },
  {
   "cell_type": "markdown",
   "metadata": {},
   "source": [
    "<div class='theme'> Cancer Classification from Gene Expressions </div>\n",
    "\n",
    "In this problem, we will build a classification model to distinguish between two related classes of cancer, acute lymphoblastic leukemia (ALL) and acute myeloid leukemia (AML), using gene expression measurements. The dataset is provided in the file `data/genomic_data.csv`. Each row in this file corresponds to a tumor tissue sample from a patient with one of the two forms of Leukemia. The first column contains the cancer type, with **0 indicating the ALL** class and **1 indicating the AML** class. Columns 2-7130 contain expression levels of 7129 genes recorded from each tissue sample. \n",
    "\n",
    "In the following questions, we will use linear and logistic regression to build classification models for this data set. \n"
   ]
  },
  {
   "cell_type": "markdown",
   "metadata": {},
   "source": [
    "<div class='exercise'><b> Question 1 [15 pts]: Data Exploration </b></div>\n",
    "\n",
    "The first step is to split the observations into an approximate 75-25 train-test split.  Below is some code to do this for you (we want to make sure everyone has the same splits). It also prints the dataset's shape before splitting and after splitting. `Cancer_type` is our target column.\n",
    "\n",
    "\n",
    "**1.1** Take a peek at your training set: you should notice the severe differences in the measurements from one gene to the next (some are negative, some hover around zero, and some are well into the thousands). To account for these differences in scale and variability, normalize each predictor to vary between 0 and 1. **NOTE: for the entirety of this homework assignment, you will use these normalized values, not the original, raw values**. Normalizing genomic data is a fairly standard first step.\n",
    "\n",
    "\n",
    "**1.2** The training set contains more predictors than observations. What problem(s) can this lead to in fitting a classification model to such a dataset? Explain in 3 or fewer sentences.\n",
    "\n",
    "\n",
    "**1.3** Determine which single gene individually discriminates between the two cancer classes the best (consider every gene in the dataset) and call it `best_predictor`.\n",
    "\n",
    "Plot two histograms of your `best_predictor` -- one using the training set and another using the testing set. The histogram should clearly distinguish two different `Cancer_type` classes.\n",
    "\n",
    "**Hint:** You may use any reasonable approach to determine the `best_predictor`, but please use something very simple (whether taught in this class or elsewhere).\n",
    "\n",
    "\n",
    "**1.4** Using `best_predictor`, create a classification model by simply eye-balling a value for this gene that would discriminate the two classes the best (do not use an algorithm to determine for you the optimal coefficient or threshold; we are asking you to provide a rough estimate / model by manual inspection). Justify your choice in 1-2 sentences. Report the accuracy of your hand-chosen model on the test set.\n",
    "\n",
    "<hr> "
   ]
  },
  {
   "cell_type": "markdown",
   "metadata": {},
   "source": [
    "\n",
    "### Answers"
   ]
  },
  {
   "cell_type": "markdown",
   "metadata": {},
   "source": [
    "**The first step is to split the observations into an approximate 75-25 train-test split. Below is some code to do this for you (we want to make sure everyone has the same splits). Print dataset shape before splitting and after splitting. `Cancer_type` is our target column.**"
   ]
  },
  {
   "cell_type": "code",
   "execution_count": 3,
   "metadata": {},
   "outputs": [],
   "source": [
    "np.random.seed(10)\n",
    "df = pd.read_csv('data/genomic_data.csv', index_col=0)\n",
    "X_train, X_test, y_train, y_test = train_test_split(df.loc[:, df.columns != 'Cancer_type'], \n",
    "                                                         df.Cancer_type, test_size=0.25, \n",
    "                                                         random_state = 109, \n",
    "                                                         stratify = df.Cancer_type)"
   ]
  },
  {
   "cell_type": "code",
   "execution_count": 4,
   "metadata": {},
   "outputs": [
    {
     "name": "stdout",
     "output_type": "stream",
     "text": [
      "shape of full set: (752, 7130)\n",
      "shape of x_train: (564, 7129) \n",
      "shape of x_test: (188, 7129) \n",
      "shape of y_train: (564,) \n",
      "shape of y_test: (188,)\n",
      "value count of dataset: \n",
      " 0.0    0.511968\n",
      "1.0    0.488032\n",
      "Name: Cancer_type, dtype: float64\n"
     ]
    }
   ],
   "source": [
    "print('shape of full set:', df.shape)\n",
    "print('shape of x_train:', X_train.shape,'\\nshape of x_test:',X_test.shape,'\\nshape of y_train:', y_train.shape,'\\nshape of y_test:', y_test.shape)\n",
    "print('value count of dataset: \\n', df.Cancer_type.value_counts(normalize=True))"
   ]
  },
  {
   "cell_type": "markdown",
   "metadata": {},
   "source": [
    "**1.1 Take a peek at your training set: you should notice the severe differences in the measurements from one gene to the next (some are negative, some hover around zero, and some are well into the thousands). To account for these differences in scale and variability, normalize each predictor to vary between 0 and 1. **NOTE: for the entirety of this homework assignment, you will use these normalized values, not the original, raw values.**\n"
   ]
  },
  {
   "cell_type": "code",
   "execution_count": 17,
   "metadata": {},
   "outputs": [],
   "source": [
    "# X_train.describe()"
   ]
  },
  {
   "cell_type": "code",
   "execution_count": 18,
   "metadata": {},
   "outputs": [],
   "source": [
    "# X_test"
   ]
  },
  {
   "cell_type": "code",
   "execution_count": 27,
   "metadata": {},
   "outputs": [],
   "source": [
    "# df.head()"
   ]
  },
  {
   "cell_type": "code",
   "execution_count": 29,
   "metadata": {},
   "outputs": [
    {
     "data": {
      "text/html": [
       "<div>\n",
       "<style scoped>\n",
       "    .dataframe tbody tr th:only-of-type {\n",
       "        vertical-align: middle;\n",
       "    }\n",
       "\n",
       "    .dataframe tbody tr th {\n",
       "        vertical-align: top;\n",
       "    }\n",
       "\n",
       "    .dataframe thead th {\n",
       "        text-align: right;\n",
       "    }\n",
       "</style>\n",
       "<table border=\"1\" class=\"dataframe\">\n",
       "  <thead>\n",
       "    <tr style=\"text-align: right;\">\n",
       "      <th></th>\n",
       "      <th>AFFX-BioB-5_at</th>\n",
       "      <th>AFFX-BioB-M_at</th>\n",
       "      <th>AFFX-BioB-3_at</th>\n",
       "      <th>AFFX-BioC-5_at</th>\n",
       "      <th>AFFX-BioC-3_at</th>\n",
       "      <th>AFFX-BioDn-5_at</th>\n",
       "      <th>AFFX-BioDn-3_at</th>\n",
       "      <th>AFFX-CreX-5_at</th>\n",
       "      <th>AFFX-CreX-3_at</th>\n",
       "      <th>AFFX-BioB-5_st</th>\n",
       "      <th>...</th>\n",
       "      <th>U48730_at</th>\n",
       "      <th>U58516_at</th>\n",
       "      <th>U73738_at</th>\n",
       "      <th>X06956_at</th>\n",
       "      <th>X16699_at</th>\n",
       "      <th>X83863_at</th>\n",
       "      <th>Z17240_at</th>\n",
       "      <th>L49218_f_at</th>\n",
       "      <th>M71243_f_at</th>\n",
       "      <th>Z78285_f_at</th>\n",
       "    </tr>\n",
       "  </thead>\n",
       "  <tbody>\n",
       "    <tr>\n",
       "      <th>730</th>\n",
       "      <td>0.551231</td>\n",
       "      <td>0.491834</td>\n",
       "      <td>0.446073</td>\n",
       "      <td>0.683776</td>\n",
       "      <td>0.582740</td>\n",
       "      <td>0.706226</td>\n",
       "      <td>0.600837</td>\n",
       "      <td>0.279027</td>\n",
       "      <td>0.795057</td>\n",
       "      <td>0.139594</td>\n",
       "      <td>...</td>\n",
       "      <td>0.459868</td>\n",
       "      <td>0.475715</td>\n",
       "      <td>0.690460</td>\n",
       "      <td>0.339711</td>\n",
       "      <td>0.138097</td>\n",
       "      <td>0.583479</td>\n",
       "      <td>0.334816</td>\n",
       "      <td>0.000000</td>\n",
       "      <td>0.380770</td>\n",
       "      <td>0.752379</td>\n",
       "    </tr>\n",
       "    <tr>\n",
       "      <th>405</th>\n",
       "      <td>0.416298</td>\n",
       "      <td>0.582563</td>\n",
       "      <td>0.438845</td>\n",
       "      <td>0.395964</td>\n",
       "      <td>0.580600</td>\n",
       "      <td>0.774472</td>\n",
       "      <td>0.328722</td>\n",
       "      <td>0.419572</td>\n",
       "      <td>0.372083</td>\n",
       "      <td>0.561972</td>\n",
       "      <td>...</td>\n",
       "      <td>0.660277</td>\n",
       "      <td>0.655070</td>\n",
       "      <td>0.231898</td>\n",
       "      <td>0.194729</td>\n",
       "      <td>0.708641</td>\n",
       "      <td>0.537605</td>\n",
       "      <td>0.433375</td>\n",
       "      <td>0.550658</td>\n",
       "      <td>0.301676</td>\n",
       "      <td>0.467305</td>\n",
       "    </tr>\n",
       "    <tr>\n",
       "      <th>146</th>\n",
       "      <td>0.269916</td>\n",
       "      <td>0.688088</td>\n",
       "      <td>0.376977</td>\n",
       "      <td>0.490495</td>\n",
       "      <td>0.619277</td>\n",
       "      <td>0.625425</td>\n",
       "      <td>0.623749</td>\n",
       "      <td>0.775985</td>\n",
       "      <td>0.515638</td>\n",
       "      <td>0.201543</td>\n",
       "      <td>...</td>\n",
       "      <td>0.557309</td>\n",
       "      <td>0.244917</td>\n",
       "      <td>0.428507</td>\n",
       "      <td>0.259558</td>\n",
       "      <td>0.553007</td>\n",
       "      <td>0.338148</td>\n",
       "      <td>0.562251</td>\n",
       "      <td>0.232694</td>\n",
       "      <td>0.470838</td>\n",
       "      <td>0.483762</td>\n",
       "    </tr>\n",
       "    <tr>\n",
       "      <th>130</th>\n",
       "      <td>0.000000</td>\n",
       "      <td>0.578855</td>\n",
       "      <td>0.400594</td>\n",
       "      <td>0.872766</td>\n",
       "      <td>0.205733</td>\n",
       "      <td>0.374758</td>\n",
       "      <td>0.394855</td>\n",
       "      <td>0.670381</td>\n",
       "      <td>0.492747</td>\n",
       "      <td>0.183372</td>\n",
       "      <td>...</td>\n",
       "      <td>0.666246</td>\n",
       "      <td>0.597685</td>\n",
       "      <td>0.553157</td>\n",
       "      <td>0.330940</td>\n",
       "      <td>0.692364</td>\n",
       "      <td>0.667400</td>\n",
       "      <td>1.000000</td>\n",
       "      <td>0.376459</td>\n",
       "      <td>0.309709</td>\n",
       "      <td>0.158615</td>\n",
       "    </tr>\n",
       "    <tr>\n",
       "      <th>620</th>\n",
       "      <td>0.180012</td>\n",
       "      <td>0.536142</td>\n",
       "      <td>0.144838</td>\n",
       "      <td>0.343449</td>\n",
       "      <td>0.411867</td>\n",
       "      <td>0.314464</td>\n",
       "      <td>0.968593</td>\n",
       "      <td>0.420012</td>\n",
       "      <td>0.476040</td>\n",
       "      <td>0.318838</td>\n",
       "      <td>...</td>\n",
       "      <td>0.365856</td>\n",
       "      <td>0.656925</td>\n",
       "      <td>0.138411</td>\n",
       "      <td>0.286228</td>\n",
       "      <td>0.556621</td>\n",
       "      <td>0.780834</td>\n",
       "      <td>0.721513</td>\n",
       "      <td>0.522074</td>\n",
       "      <td>0.421493</td>\n",
       "      <td>0.342380</td>\n",
       "    </tr>\n",
       "    <tr>\n",
       "      <th>...</th>\n",
       "      <td>...</td>\n",
       "      <td>...</td>\n",
       "      <td>...</td>\n",
       "      <td>...</td>\n",
       "      <td>...</td>\n",
       "      <td>...</td>\n",
       "      <td>...</td>\n",
       "      <td>...</td>\n",
       "      <td>...</td>\n",
       "      <td>...</td>\n",
       "      <td>...</td>\n",
       "      <td>...</td>\n",
       "      <td>...</td>\n",
       "      <td>...</td>\n",
       "      <td>...</td>\n",
       "      <td>...</td>\n",
       "      <td>...</td>\n",
       "      <td>...</td>\n",
       "      <td>...</td>\n",
       "      <td>...</td>\n",
       "      <td>...</td>\n",
       "    </tr>\n",
       "    <tr>\n",
       "      <th>161</th>\n",
       "      <td>0.102031</td>\n",
       "      <td>0.738981</td>\n",
       "      <td>0.597432</td>\n",
       "      <td>0.374311</td>\n",
       "      <td>0.461244</td>\n",
       "      <td>0.430339</td>\n",
       "      <td>0.604786</td>\n",
       "      <td>0.577060</td>\n",
       "      <td>0.627416</td>\n",
       "      <td>0.347594</td>\n",
       "      <td>...</td>\n",
       "      <td>0.814914</td>\n",
       "      <td>0.966929</td>\n",
       "      <td>0.818381</td>\n",
       "      <td>0.293913</td>\n",
       "      <td>0.867871</td>\n",
       "      <td>0.818321</td>\n",
       "      <td>0.548880</td>\n",
       "      <td>0.680098</td>\n",
       "      <td>0.521110</td>\n",
       "      <td>0.431207</td>\n",
       "    </tr>\n",
       "    <tr>\n",
       "      <th>393</th>\n",
       "      <td>0.574094</td>\n",
       "      <td>0.818686</td>\n",
       "      <td>0.368954</td>\n",
       "      <td>0.393693</td>\n",
       "      <td>0.510911</td>\n",
       "      <td>0.592302</td>\n",
       "      <td>0.731582</td>\n",
       "      <td>0.268844</td>\n",
       "      <td>0.327339</td>\n",
       "      <td>0.465086</td>\n",
       "      <td>...</td>\n",
       "      <td>0.666029</td>\n",
       "      <td>0.243248</td>\n",
       "      <td>0.353895</td>\n",
       "      <td>0.110635</td>\n",
       "      <td>0.895056</td>\n",
       "      <td>0.517048</td>\n",
       "      <td>0.465522</td>\n",
       "      <td>0.312341</td>\n",
       "      <td>0.406788</td>\n",
       "      <td>0.324980</td>\n",
       "    </tr>\n",
       "    <tr>\n",
       "      <th>417</th>\n",
       "      <td>0.353467</td>\n",
       "      <td>0.663533</td>\n",
       "      <td>0.668569</td>\n",
       "      <td>0.615557</td>\n",
       "      <td>0.627144</td>\n",
       "      <td>0.144345</td>\n",
       "      <td>0.582416</td>\n",
       "      <td>0.243039</td>\n",
       "      <td>0.529310</td>\n",
       "      <td>0.126011</td>\n",
       "      <td>...</td>\n",
       "      <td>0.509497</td>\n",
       "      <td>0.274163</td>\n",
       "      <td>0.188150</td>\n",
       "      <td>0.298216</td>\n",
       "      <td>0.438359</td>\n",
       "      <td>0.605212</td>\n",
       "      <td>0.398731</td>\n",
       "      <td>0.592874</td>\n",
       "      <td>0.460222</td>\n",
       "      <td>0.504823</td>\n",
       "    </tr>\n",
       "    <tr>\n",
       "      <th>109</th>\n",
       "      <td>0.564385</td>\n",
       "      <td>0.818292</td>\n",
       "      <td>0.427021</td>\n",
       "      <td>0.712689</td>\n",
       "      <td>0.552737</td>\n",
       "      <td>0.242634</td>\n",
       "      <td>0.456397</td>\n",
       "      <td>0.437528</td>\n",
       "      <td>0.506769</td>\n",
       "      <td>0.645919</td>\n",
       "      <td>...</td>\n",
       "      <td>0.403056</td>\n",
       "      <td>0.663272</td>\n",
       "      <td>0.526994</td>\n",
       "      <td>0.211653</td>\n",
       "      <td>0.499265</td>\n",
       "      <td>0.722499</td>\n",
       "      <td>0.568509</td>\n",
       "      <td>0.474708</td>\n",
       "      <td>0.697113</td>\n",
       "      <td>0.489629</td>\n",
       "    </tr>\n",
       "    <tr>\n",
       "      <th>525</th>\n",
       "      <td>0.871242</td>\n",
       "      <td>0.284231</td>\n",
       "      <td>0.543812</td>\n",
       "      <td>0.597192</td>\n",
       "      <td>0.610617</td>\n",
       "      <td>0.439028</td>\n",
       "      <td>0.303964</td>\n",
       "      <td>0.745012</td>\n",
       "      <td>0.416414</td>\n",
       "      <td>0.384581</td>\n",
       "      <td>...</td>\n",
       "      <td>0.673305</td>\n",
       "      <td>0.595149</td>\n",
       "      <td>0.349481</td>\n",
       "      <td>0.354006</td>\n",
       "      <td>0.502190</td>\n",
       "      <td>0.822746</td>\n",
       "      <td>0.579128</td>\n",
       "      <td>0.672988</td>\n",
       "      <td>0.635304</td>\n",
       "      <td>0.288971</td>\n",
       "    </tr>\n",
       "  </tbody>\n",
       "</table>\n",
       "<p>188 rows × 7129 columns</p>\n",
       "</div>"
      ],
      "text/plain": [
       "     AFFX-BioB-5_at  AFFX-BioB-M_at  AFFX-BioB-3_at  AFFX-BioC-5_at  \\\n",
       "730        0.551231        0.491834        0.446073        0.683776   \n",
       "405        0.416298        0.582563        0.438845        0.395964   \n",
       "146        0.269916        0.688088        0.376977        0.490495   \n",
       "130        0.000000        0.578855        0.400594        0.872766   \n",
       "620        0.180012        0.536142        0.144838        0.343449   \n",
       "..              ...             ...             ...             ...   \n",
       "161        0.102031        0.738981        0.597432        0.374311   \n",
       "393        0.574094        0.818686        0.368954        0.393693   \n",
       "417        0.353467        0.663533        0.668569        0.615557   \n",
       "109        0.564385        0.818292        0.427021        0.712689   \n",
       "525        0.871242        0.284231        0.543812        0.597192   \n",
       "\n",
       "     AFFX-BioC-3_at  AFFX-BioDn-5_at  AFFX-BioDn-3_at  AFFX-CreX-5_at  \\\n",
       "730        0.582740         0.706226         0.600837        0.279027   \n",
       "405        0.580600         0.774472         0.328722        0.419572   \n",
       "146        0.619277         0.625425         0.623749        0.775985   \n",
       "130        0.205733         0.374758         0.394855        0.670381   \n",
       "620        0.411867         0.314464         0.968593        0.420012   \n",
       "..              ...              ...              ...             ...   \n",
       "161        0.461244         0.430339         0.604786        0.577060   \n",
       "393        0.510911         0.592302         0.731582        0.268844   \n",
       "417        0.627144         0.144345         0.582416        0.243039   \n",
       "109        0.552737         0.242634         0.456397        0.437528   \n",
       "525        0.610617         0.439028         0.303964        0.745012   \n",
       "\n",
       "     AFFX-CreX-3_at  AFFX-BioB-5_st  ...  U48730_at  U58516_at  U73738_at  \\\n",
       "730        0.795057        0.139594  ...   0.459868   0.475715   0.690460   \n",
       "405        0.372083        0.561972  ...   0.660277   0.655070   0.231898   \n",
       "146        0.515638        0.201543  ...   0.557309   0.244917   0.428507   \n",
       "130        0.492747        0.183372  ...   0.666246   0.597685   0.553157   \n",
       "620        0.476040        0.318838  ...   0.365856   0.656925   0.138411   \n",
       "..              ...             ...  ...        ...        ...        ...   \n",
       "161        0.627416        0.347594  ...   0.814914   0.966929   0.818381   \n",
       "393        0.327339        0.465086  ...   0.666029   0.243248   0.353895   \n",
       "417        0.529310        0.126011  ...   0.509497   0.274163   0.188150   \n",
       "109        0.506769        0.645919  ...   0.403056   0.663272   0.526994   \n",
       "525        0.416414        0.384581  ...   0.673305   0.595149   0.349481   \n",
       "\n",
       "     X06956_at  X16699_at  X83863_at  Z17240_at  L49218_f_at  M71243_f_at  \\\n",
       "730   0.339711   0.138097   0.583479   0.334816     0.000000     0.380770   \n",
       "405   0.194729   0.708641   0.537605   0.433375     0.550658     0.301676   \n",
       "146   0.259558   0.553007   0.338148   0.562251     0.232694     0.470838   \n",
       "130   0.330940   0.692364   0.667400   1.000000     0.376459     0.309709   \n",
       "620   0.286228   0.556621   0.780834   0.721513     0.522074     0.421493   \n",
       "..         ...        ...        ...        ...          ...          ...   \n",
       "161   0.293913   0.867871   0.818321   0.548880     0.680098     0.521110   \n",
       "393   0.110635   0.895056   0.517048   0.465522     0.312341     0.406788   \n",
       "417   0.298216   0.438359   0.605212   0.398731     0.592874     0.460222   \n",
       "109   0.211653   0.499265   0.722499   0.568509     0.474708     0.697113   \n",
       "525   0.354006   0.502190   0.822746   0.579128     0.672988     0.635304   \n",
       "\n",
       "     Z78285_f_at  \n",
       "730     0.752379  \n",
       "405     0.467305  \n",
       "146     0.483762  \n",
       "130     0.158615  \n",
       "620     0.342380  \n",
       "..           ...  \n",
       "161     0.431207  \n",
       "393     0.324980  \n",
       "417     0.504823  \n",
       "109     0.489629  \n",
       "525     0.288971  \n",
       "\n",
       "[188 rows x 7129 columns]"
      ]
     },
     "execution_count": 29,
     "metadata": {},
     "output_type": "execute_result"
    }
   ],
   "source": [
    "X_testNorm"
   ]
  },
  {
   "cell_type": "code",
   "execution_count": 33,
   "metadata": {},
   "outputs": [
    {
     "data": {
      "text/html": [
       "<div>\n",
       "<style scoped>\n",
       "    .dataframe tbody tr th:only-of-type {\n",
       "        vertical-align: middle;\n",
       "    }\n",
       "\n",
       "    .dataframe tbody tr th {\n",
       "        vertical-align: top;\n",
       "    }\n",
       "\n",
       "    .dataframe thead th {\n",
       "        text-align: right;\n",
       "    }\n",
       "</style>\n",
       "<table border=\"1\" class=\"dataframe\">\n",
       "  <thead>\n",
       "    <tr style=\"text-align: right;\">\n",
       "      <th></th>\n",
       "      <th>Cancer_type</th>\n",
       "      <th>AFFX-BioB-5_at</th>\n",
       "      <th>AFFX-BioB-M_at</th>\n",
       "      <th>AFFX-BioB-3_at</th>\n",
       "      <th>AFFX-BioC-5_at</th>\n",
       "      <th>AFFX-BioC-3_at</th>\n",
       "      <th>AFFX-BioDn-5_at</th>\n",
       "      <th>AFFX-BioDn-3_at</th>\n",
       "      <th>AFFX-CreX-5_at</th>\n",
       "      <th>AFFX-CreX-3_at</th>\n",
       "      <th>...</th>\n",
       "      <th>U48730_at</th>\n",
       "      <th>U58516_at</th>\n",
       "      <th>U73738_at</th>\n",
       "      <th>X06956_at</th>\n",
       "      <th>X16699_at</th>\n",
       "      <th>X83863_at</th>\n",
       "      <th>Z17240_at</th>\n",
       "      <th>L49218_f_at</th>\n",
       "      <th>M71243_f_at</th>\n",
       "      <th>Z78285_f_at</th>\n",
       "    </tr>\n",
       "  </thead>\n",
       "  <tbody>\n",
       "    <tr>\n",
       "      <th>0</th>\n",
       "      <td>0.0</td>\n",
       "      <td>0.482348</td>\n",
       "      <td>0.636828</td>\n",
       "      <td>0.421504</td>\n",
       "      <td>0.354724</td>\n",
       "      <td>0.541964</td>\n",
       "      <td>0.313961</td>\n",
       "      <td>0.656215</td>\n",
       "      <td>0.557102</td>\n",
       "      <td>0.751598</td>\n",
       "      <td>...</td>\n",
       "      <td>0.577873</td>\n",
       "      <td>0.430681</td>\n",
       "      <td>0.346731</td>\n",
       "      <td>0.386057</td>\n",
       "      <td>0.611047</td>\n",
       "      <td>0.499519</td>\n",
       "      <td>0.370208</td>\n",
       "      <td>0.549853</td>\n",
       "      <td>0.470914</td>\n",
       "      <td>0.434172</td>\n",
       "    </tr>\n",
       "    <tr>\n",
       "      <th>1</th>\n",
       "      <td>0.0</td>\n",
       "      <td>0.538320</td>\n",
       "      <td>0.663173</td>\n",
       "      <td>0.653266</td>\n",
       "      <td>0.302249</td>\n",
       "      <td>0.463755</td>\n",
       "      <td>0.298072</td>\n",
       "      <td>0.644340</td>\n",
       "      <td>0.479530</td>\n",
       "      <td>0.602312</td>\n",
       "      <td>...</td>\n",
       "      <td>0.624184</td>\n",
       "      <td>0.522397</td>\n",
       "      <td>0.715986</td>\n",
       "      <td>0.349330</td>\n",
       "      <td>0.498395</td>\n",
       "      <td>0.471359</td>\n",
       "      <td>0.310147</td>\n",
       "      <td>0.387588</td>\n",
       "      <td>0.460523</td>\n",
       "      <td>0.317450</td>\n",
       "    </tr>\n",
       "    <tr>\n",
       "      <th>2</th>\n",
       "      <td>0.0</td>\n",
       "      <td>0.558867</td>\n",
       "      <td>0.655742</td>\n",
       "      <td>0.408589</td>\n",
       "      <td>0.409961</td>\n",
       "      <td>0.582961</td>\n",
       "      <td>0.475211</td>\n",
       "      <td>0.599733</td>\n",
       "      <td>0.611503</td>\n",
       "      <td>0.617755</td>\n",
       "      <td>...</td>\n",
       "      <td>0.553454</td>\n",
       "      <td>0.469745</td>\n",
       "      <td>0.542662</td>\n",
       "      <td>0.405702</td>\n",
       "      <td>0.628022</td>\n",
       "      <td>0.407405</td>\n",
       "      <td>0.364542</td>\n",
       "      <td>0.508344</td>\n",
       "      <td>0.449332</td>\n",
       "      <td>0.460110</td>\n",
       "    </tr>\n",
       "    <tr>\n",
       "      <th>3</th>\n",
       "      <td>0.0</td>\n",
       "      <td>0.582957</td>\n",
       "      <td>0.642908</td>\n",
       "      <td>0.633893</td>\n",
       "      <td>0.331939</td>\n",
       "      <td>0.476370</td>\n",
       "      <td>0.318081</td>\n",
       "      <td>0.636519</td>\n",
       "      <td>0.554080</td>\n",
       "      <td>0.658937</td>\n",
       "      <td>...</td>\n",
       "      <td>0.447358</td>\n",
       "      <td>0.517868</td>\n",
       "      <td>0.289674</td>\n",
       "      <td>0.345401</td>\n",
       "      <td>0.640367</td>\n",
       "      <td>0.558384</td>\n",
       "      <td>0.428003</td>\n",
       "      <td>0.500796</td>\n",
       "      <td>0.499371</td>\n",
       "      <td>0.423364</td>\n",
       "    </tr>\n",
       "    <tr>\n",
       "      <th>4</th>\n",
       "      <td>0.0</td>\n",
       "      <td>0.341354</td>\n",
       "      <td>0.564548</td>\n",
       "      <td>0.468144</td>\n",
       "      <td>0.292583</td>\n",
       "      <td>0.386808</td>\n",
       "      <td>0.177429</td>\n",
       "      <td>0.518919</td>\n",
       "      <td>0.267971</td>\n",
       "      <td>0.617755</td>\n",
       "      <td>...</td>\n",
       "      <td>0.665444</td>\n",
       "      <td>0.464084</td>\n",
       "      <td>0.388716</td>\n",
       "      <td>0.371196</td>\n",
       "      <td>0.703637</td>\n",
       "      <td>0.670006</td>\n",
       "      <td>0.414405</td>\n",
       "      <td>0.593250</td>\n",
       "      <td>0.565236</td>\n",
       "      <td>0.557378</td>\n",
       "    </tr>\n",
       "    <tr>\n",
       "      <th>...</th>\n",
       "      <td>...</td>\n",
       "      <td>...</td>\n",
       "      <td>...</td>\n",
       "      <td>...</td>\n",
       "      <td>...</td>\n",
       "      <td>...</td>\n",
       "      <td>...</td>\n",
       "      <td>...</td>\n",
       "      <td>...</td>\n",
       "      <td>...</td>\n",
       "      <td>...</td>\n",
       "      <td>...</td>\n",
       "      <td>...</td>\n",
       "      <td>...</td>\n",
       "      <td>...</td>\n",
       "      <td>...</td>\n",
       "      <td>...</td>\n",
       "      <td>...</td>\n",
       "      <td>...</td>\n",
       "      <td>...</td>\n",
       "      <td>...</td>\n",
       "    </tr>\n",
       "    <tr>\n",
       "      <th>747</th>\n",
       "      <td>0.0</td>\n",
       "      <td>0.696528</td>\n",
       "      <td>0.584498</td>\n",
       "      <td>0.379790</td>\n",
       "      <td>0.437056</td>\n",
       "      <td>0.422404</td>\n",
       "      <td>0.294715</td>\n",
       "      <td>0.631741</td>\n",
       "      <td>0.330545</td>\n",
       "      <td>0.747420</td>\n",
       "      <td>...</td>\n",
       "      <td>0.560462</td>\n",
       "      <td>0.651464</td>\n",
       "      <td>0.435819</td>\n",
       "      <td>0.311584</td>\n",
       "      <td>0.508865</td>\n",
       "      <td>0.516085</td>\n",
       "      <td>0.323915</td>\n",
       "      <td>0.654308</td>\n",
       "      <td>0.857588</td>\n",
       "      <td>0.324064</td>\n",
       "    </tr>\n",
       "    <tr>\n",
       "      <th>748</th>\n",
       "      <td>1.0</td>\n",
       "      <td>0.640335</td>\n",
       "      <td>0.709007</td>\n",
       "      <td>0.145601</td>\n",
       "      <td>0.640275</td>\n",
       "      <td>0.543410</td>\n",
       "      <td>0.819101</td>\n",
       "      <td>0.498926</td>\n",
       "      <td>0.753030</td>\n",
       "      <td>0.840198</td>\n",
       "      <td>...</td>\n",
       "      <td>0.793460</td>\n",
       "      <td>0.295969</td>\n",
       "      <td>0.402568</td>\n",
       "      <td>0.676392</td>\n",
       "      <td>0.560715</td>\n",
       "      <td>0.575147</td>\n",
       "      <td>0.336958</td>\n",
       "      <td>0.699631</td>\n",
       "      <td>0.752875</td>\n",
       "      <td>0.557553</td>\n",
       "    </tr>\n",
       "    <tr>\n",
       "      <th>749</th>\n",
       "      <td>1.0</td>\n",
       "      <td>0.519750</td>\n",
       "      <td>0.459566</td>\n",
       "      <td>0.198037</td>\n",
       "      <td>0.314083</td>\n",
       "      <td>0.582719</td>\n",
       "      <td>0.369624</td>\n",
       "      <td>0.658192</td>\n",
       "      <td>0.444315</td>\n",
       "      <td>1.000000</td>\n",
       "      <td>...</td>\n",
       "      <td>0.506640</td>\n",
       "      <td>0.212257</td>\n",
       "      <td>0.585057</td>\n",
       "      <td>0.331757</td>\n",
       "      <td>0.773867</td>\n",
       "      <td>0.800121</td>\n",
       "      <td>0.176060</td>\n",
       "      <td>0.352877</td>\n",
       "      <td>0.379286</td>\n",
       "      <td>0.726550</td>\n",
       "    </tr>\n",
       "    <tr>\n",
       "      <th>750</th>\n",
       "      <td>0.0</td>\n",
       "      <td>0.622598</td>\n",
       "      <td>0.732820</td>\n",
       "      <td>0.621132</td>\n",
       "      <td>0.303219</td>\n",
       "      <td>0.065618</td>\n",
       "      <td>0.375281</td>\n",
       "      <td>0.557282</td>\n",
       "      <td>0.373386</td>\n",
       "      <td>0.490326</td>\n",
       "      <td>...</td>\n",
       "      <td>0.559916</td>\n",
       "      <td>0.536638</td>\n",
       "      <td>0.238878</td>\n",
       "      <td>0.297934</td>\n",
       "      <td>0.806955</td>\n",
       "      <td>0.564062</td>\n",
       "      <td>0.510765</td>\n",
       "      <td>0.436667</td>\n",
       "      <td>0.348156</td>\n",
       "      <td>0.405826</td>\n",
       "    </tr>\n",
       "    <tr>\n",
       "      <th>751</th>\n",
       "      <td>1.0</td>\n",
       "      <td>0.566346</td>\n",
       "      <td>0.749340</td>\n",
       "      <td>0.520202</td>\n",
       "      <td>0.586949</td>\n",
       "      <td>0.549270</td>\n",
       "      <td>0.179827</td>\n",
       "      <td>0.547697</td>\n",
       "      <td>0.673164</td>\n",
       "      <td>0.734504</td>\n",
       "      <td>...</td>\n",
       "      <td>0.614662</td>\n",
       "      <td>0.400230</td>\n",
       "      <td>0.437619</td>\n",
       "      <td>0.376556</td>\n",
       "      <td>0.671358</td>\n",
       "      <td>0.803143</td>\n",
       "      <td>0.303995</td>\n",
       "      <td>0.243517</td>\n",
       "      <td>0.534543</td>\n",
       "      <td>0.648342</td>\n",
       "    </tr>\n",
       "  </tbody>\n",
       "</table>\n",
       "<p>752 rows × 7130 columns</p>\n",
       "</div>"
      ],
      "text/plain": [
       "     Cancer_type  AFFX-BioB-5_at  AFFX-BioB-M_at  AFFX-BioB-3_at  \\\n",
       "0            0.0        0.482348        0.636828        0.421504   \n",
       "1            0.0        0.538320        0.663173        0.653266   \n",
       "2            0.0        0.558867        0.655742        0.408589   \n",
       "3            0.0        0.582957        0.642908        0.633893   \n",
       "4            0.0        0.341354        0.564548        0.468144   \n",
       "..           ...             ...             ...             ...   \n",
       "747          0.0        0.696528        0.584498        0.379790   \n",
       "748          1.0        0.640335        0.709007        0.145601   \n",
       "749          1.0        0.519750        0.459566        0.198037   \n",
       "750          0.0        0.622598        0.732820        0.621132   \n",
       "751          1.0        0.566346        0.749340        0.520202   \n",
       "\n",
       "     AFFX-BioC-5_at  AFFX-BioC-3_at  AFFX-BioDn-5_at  AFFX-BioDn-3_at  \\\n",
       "0          0.354724        0.541964         0.313961         0.656215   \n",
       "1          0.302249        0.463755         0.298072         0.644340   \n",
       "2          0.409961        0.582961         0.475211         0.599733   \n",
       "3          0.331939        0.476370         0.318081         0.636519   \n",
       "4          0.292583        0.386808         0.177429         0.518919   \n",
       "..              ...             ...              ...              ...   \n",
       "747        0.437056        0.422404         0.294715         0.631741   \n",
       "748        0.640275        0.543410         0.819101         0.498926   \n",
       "749        0.314083        0.582719         0.369624         0.658192   \n",
       "750        0.303219        0.065618         0.375281         0.557282   \n",
       "751        0.586949        0.549270         0.179827         0.547697   \n",
       "\n",
       "     AFFX-CreX-5_at  AFFX-CreX-3_at  ...  U48730_at  U58516_at  U73738_at  \\\n",
       "0          0.557102        0.751598  ...   0.577873   0.430681   0.346731   \n",
       "1          0.479530        0.602312  ...   0.624184   0.522397   0.715986   \n",
       "2          0.611503        0.617755  ...   0.553454   0.469745   0.542662   \n",
       "3          0.554080        0.658937  ...   0.447358   0.517868   0.289674   \n",
       "4          0.267971        0.617755  ...   0.665444   0.464084   0.388716   \n",
       "..              ...             ...  ...        ...        ...        ...   \n",
       "747        0.330545        0.747420  ...   0.560462   0.651464   0.435819   \n",
       "748        0.753030        0.840198  ...   0.793460   0.295969   0.402568   \n",
       "749        0.444315        1.000000  ...   0.506640   0.212257   0.585057   \n",
       "750        0.373386        0.490326  ...   0.559916   0.536638   0.238878   \n",
       "751        0.673164        0.734504  ...   0.614662   0.400230   0.437619   \n",
       "\n",
       "     X06956_at  X16699_at  X83863_at  Z17240_at  L49218_f_at  M71243_f_at  \\\n",
       "0     0.386057   0.611047   0.499519   0.370208     0.549853     0.470914   \n",
       "1     0.349330   0.498395   0.471359   0.310147     0.387588     0.460523   \n",
       "2     0.405702   0.628022   0.407405   0.364542     0.508344     0.449332   \n",
       "3     0.345401   0.640367   0.558384   0.428003     0.500796     0.499371   \n",
       "4     0.371196   0.703637   0.670006   0.414405     0.593250     0.565236   \n",
       "..         ...        ...        ...        ...          ...          ...   \n",
       "747   0.311584   0.508865   0.516085   0.323915     0.654308     0.857588   \n",
       "748   0.676392   0.560715   0.575147   0.336958     0.699631     0.752875   \n",
       "749   0.331757   0.773867   0.800121   0.176060     0.352877     0.379286   \n",
       "750   0.297934   0.806955   0.564062   0.510765     0.436667     0.348156   \n",
       "751   0.376556   0.671358   0.803143   0.303995     0.243517     0.534543   \n",
       "\n",
       "     Z78285_f_at  \n",
       "0       0.434172  \n",
       "1       0.317450  \n",
       "2       0.460110  \n",
       "3       0.423364  \n",
       "4       0.557378  \n",
       "..           ...  \n",
       "747     0.324064  \n",
       "748     0.557553  \n",
       "749     0.726550  \n",
       "750     0.405826  \n",
       "751     0.648342  \n",
       "\n",
       "[752 rows x 7130 columns]"
      ]
     },
     "execution_count": 33,
     "metadata": {},
     "output_type": "execute_result"
    }
   ],
   "source": [
    "from sklearn import preprocessing\n",
    "\n",
    "scaler = preprocessing.MinMaxScaler()\n",
    "# scaler = scaler.fit(X_train)\n",
    "dfNorm = scaler.fit_transform(df)\n",
    "dfNorm = pd.DataFrame(dfNorm, columns = df.columns, index = df.index)\n",
    "X_trainNorm = scaler.fit_transform(X_train)\n",
    "X_trainNorm = pd.DataFrame(X_trainNorm, columns = X_train.columns, index = X_train.index)\n",
    "X_testNorm = scaler.fit_transform(X_test)\n",
    "X_testNorm = pd.DataFrame(X_testNorm, columns = X_test.columns, index = X_test.index)\n",
    "dfNorm"
   ]
  },
  {
   "cell_type": "markdown",
   "metadata": {},
   "source": [
    "**1.2 The training set contains more predictors than observations. What problem(s) can this lead to in fitting a classification model to such a dataset? Explain in 3 or fewer sentences.**"
   ]
  },
  {
   "cell_type": "markdown",
   "metadata": {},
   "source": [
    "#### Answer 1.2.:\n",
    "When p > n we obtain perfect collinearity of the predictor set, and our model is susceptible to overfitting. \n",
    "Other problems that can arise with high dimentionality are that matrices may not be invertible (issue in OLS).\n"
   ]
  },
  {
   "cell_type": "markdown",
   "metadata": {},
   "source": [
    "**1.3 Determine which single gene individually discriminates between the two cancer classes the best (consider every gene in the dataset) and call it `best_predictor`.**\n",
    "\n",
    "**Plot two histograms of your `best_predictor` -- one using the training set and another using the testing set. The histogram should clearly distinguish two different `Cancer_type` classes.**"
   ]
  },
  {
   "cell_type": "code",
   "execution_count": 152,
   "metadata": {},
   "outputs": [
    {
     "data": {
      "text/plain": [
       "-0.9583333333333333"
      ]
     },
     "execution_count": 152,
     "metadata": {},
     "output_type": "execute_result"
    }
   ],
   "source": [
    "#scribbles - delete\n",
    "X_trainNorm.shape\n",
    "logit1 = LogisticRegression(penalty=\"none\", fit_intercept=True).fit(X_trainNorm.iloc[:,2].values.reshape(-1,1), y_train)\n",
    "sk.metrics.r2_score(y_test, logit1.predict(X_testNorm.iloc[:,2].values.reshape(-1,1)))\n",
    "# logit1.predict(X_testNorm.iloc[:,2].values.reshape(-1,1))\n",
    "# y_test"
   ]
  },
  {
   "cell_type": "code",
   "execution_count": 288,
   "metadata": {},
   "outputs": [
    {
     "name": "stdout",
     "output_type": "stream",
     "text": [
      "Accuracy_score gave this as the best:      AFFX-BioC-5_st\n",
      "sk.metrics.r2_score gave this as the best: AFFX-BioC-5_st. Still it is negative, and better to use y-bar\n"
     ]
    },
    {
     "data": {
      "text/plain": [
       "'AFFX-BioC-5_st'"
      ]
     },
     "execution_count": 288,
     "metadata": {},
     "output_type": "execute_result"
    }
   ],
   "source": [
    "# Calculating highest R2 from using single predictor log regression on each gene.\n",
    "\n",
    "logit1 = LogisticRegression(penalty=\"none\", fit_intercept=True).fit(X_trainNorm, y_train)\n",
    "highestBeta = np.argmin(logit1.coef_) #dette er høyeste beta\n",
    "# len(logit1.coef_[0])\n",
    "# highestBeta\n",
    "X_trainNorm.columns[highestBeta]\n",
    "list_of_R2= []\n",
    "for row in np.arange(len(y_test)):\n",
    "    logit1 = LogisticRegression(penalty=\"none\", fit_intercept=True).fit(X_trainNorm.iloc[:,row].values.reshape(-1,1), y_train)\n",
    "    list_of_R2.append(accuracy_score(y_test, logit1.predict(X_testNorm.iloc[:,row].values.reshape(-1,1))))\n",
    "# tror det er feil, da dette viser HØYEST(negativ) beta, men sjekke mot svaret jeg får for \"best\" beta ved regressjon.\n",
    "# list_of_R2\n",
    "np.max(list_of_R2)\n",
    "np.argmax(list_of_R2)\n",
    "print('Accuracy_score gave this as the best:      AFFX-BioC-5_st')\n",
    "print('sk.metrics.r2_score gave this as the best: AFFX-BioC-5_st. Still it is negative, and better to use y-bar')\n",
    "X_testNorm.columns[np.argmax(list_of_R2)]\n"
   ]
  },
  {
   "cell_type": "code",
   "execution_count": 326,
   "metadata": {},
   "outputs": [],
   "source": [
    "# splitting the values into the ones that are predicted to be ALL and AML respectively:\n",
    "best_pred_ALL=[]\n",
    "best_pred_AML=[]\n",
    "for indeks, row in enumerate(X_trainNorm[best_predictor]):\n",
    "    if (1-int(logit1.predict(X_trainNorm.loc[X_trainNorm.index[indeks], best_predictor].reshape(-1,1)))) == 0:\n",
    "        best_pred_ALL.append(row)\n",
    "    else:\n",
    "        best_pred_AML.append(row)\n",
    "# same for test        \n",
    "best_pred_ALL_test=[]\n",
    "best_pred_AML_test=[]\n",
    "for indeks, row in enumerate(X_testNorm[best_predictor]):\n",
    "    if (1-int(logit1.predict(X_testNorm.loc[X_testNorm.index[indeks], best_predictor].reshape(-1,1)))) == 0:\n",
    "        best_pred_ALL_test.append(row)\n",
    "    else:\n",
    "        best_pred_AML_test.append(row)\n",
    "# best_pred_ALL"
   ]
  },
  {
   "cell_type": "code",
   "execution_count": 320,
   "metadata": {},
   "outputs": [],
   "source": [
    "# slett:\n",
    "\n",
    "# best_predictor = X_testNorm.columns[np.argmax(list_of_R2)]\n",
    "# best_predictor\n",
    "\n",
    "# # X_trainNorm[best_predictor].index(logit1.predict(X_trainNorm[best_predictor].values.reshape(-1,1))==1)\n",
    "# np.unique(pd.DataFrame(logit1.predict(X_trainNorm[best_predictor].values.reshape(-1,1))),return_index=True,return_counts=True)[1]\n",
    "\n",
    "# # creating separate set for values predicted to ALL and AML:\n",
    "# best_pred_AML = logit1.predict(X_trainNorm[best_predictor].values.reshape(-1,1))*X_trainNorm[best_predictor]\n",
    "# best_pred_ALL =  lambda X_trainNorm[best_predictor]: (1-logit1.predict(X_trainNorm[best_predictor].values.reshape(-1,1))) if X_trainNorm[best_predictor]==0 \n",
    "# best_pred_ALL.describe()"
   ]
  },
  {
   "cell_type": "code",
   "execution_count": 336,
   "metadata": {},
   "outputs": [
    {
     "data": {
      "image/png": "[encoded data removed]",
      "text/plain": [
       "<Figure size 1080x360 with 2 Axes>"
      ]
     },
     "metadata": {},
     "output_type": "display_data"
    }
   ],
   "source": [
    "# plt.hist(X_trainNorm[best_predictor], alpha=0.7, label='Train set')\n",
    "fig, ax = plt.subplots(1,2,figsize=(15,5))\n",
    "\n",
    "ax[0].hist(best_pred_ALL, alpha=0.7, label='Predicted to be ALL', bins=10)\n",
    "ax[0].hist(best_pred_AML, alpha=0.7, label='Predicted to be AML', bins=10)\n",
    "ax[0].set_xlabel('values in the gene \\\"best predictor\\\"')\n",
    "ax[0].set_ylabel('Count')\n",
    "ax[0].set_title('Train set')\n",
    "ax[0].legend()\n",
    "\n",
    "ax[1].hist(best_pred_ALL_test, alpha=0.7, label='Predicted to be ALL', bins=10)\n",
    "ax[1].hist(best_pred_AML_test, alpha=0.7, label='Predicted to be AML', bins=10)\n",
    "ax[1].set_xlabel('values in the gene \\\"best predictor\\\"')\n",
    "ax[1].set_ylabel('Count')\n",
    "ax[1].set_title('Test set')\n",
    "ax[1].legend()\n",
    "\n",
    "plt.show()"
   ]
  },
  {
   "cell_type": "code",
   "execution_count": 337,
   "metadata": {},
   "outputs": [],
   "source": [
    "# delete all this\n",
    "\n",
    "#Plot two histograms of your best_predictor --\n",
    "#one using the training set and another using the testing set.\n",
    "#The histogram should clearly distinguish two different Cancer_type classes.\n",
    "\n",
    "#we might want to plot the values instead, and first categorize them in which one are predicted to 1\n",
    "\n",
    "# plt.hist(X_trainNorm[best_predictor], alpha=0.7, label='Train set')\n",
    "# plt.hist(logit1.predict(X_trainNorm[best_predictor].values.reshape(-1,1)), alpha=0.7, label='Train set')\n",
    "# plt.hist(logit1.predict(X_testNorm[best_predictor].values.reshape(-1,1)), alpha=0.7, label='Test set')\n",
    "# plt.xlabel('prediction of ALL (0) or AML (1) from the gene \\\"best predictor\\\"')\n",
    "# plt.ylabel('Count')\n",
    "# plt.title('Comparison of distribution of predictions of gene in train and test set')\n",
    "# plt.legend()\n",
    "# plt.show()"
   ]
  },
  {
   "cell_type": "code",
   "execution_count": 48,
   "metadata": {},
   "outputs": [
    {
     "name": "stdout",
     "output_type": "stream",
     "text": [
      "0.718446785368679\n",
      "0.2684675722196719\n",
      "0.7114533099610166\n",
      "0.26198710609369513\n",
      "The column with highest mean from set 1 is  5455\n",
      "The column with highest mean from set 0 is  1475\n",
      "The column with lowest mean from set 1 is  661\n",
      "The column with lowest mean from set 0 is  4078\n"
     ]
    }
   ],
   "source": [
    "# dette er feil, slett\n",
    "dfType1 = dfNorm[dfNorm['Cancer_type']==1].drop(columns='Cancer_type')\n",
    "dfType0 = dfNorm[dfNorm['Cancer_type']==0].drop(columns='Cancer_type')\n",
    "\n",
    "print(np.max(dfType0.mean()))\n",
    "print(np.min(dfType0.mean()))\n",
    "\n",
    "print(np.max(dfType1.mean()))\n",
    "print(np.min(dfType1.mean()))\n",
    "\n",
    "print('The column with highest mean from set 1 is ',np.argmax(dfType1.mean()))\n",
    "print('The column with highest mean from set 0 is ',np.argmax(dfType0.mean()))\n",
    "print('The column with lowest mean from set 1 is ',np.argmin(dfType1.mean()))\n",
    "print('The column with lowest mean from set 0 is ',np.argmin(dfType0.mean()))"
   ]
  },
  {
   "cell_type": "code",
   "execution_count": 348,
   "metadata": {},
   "outputs": [
    {
     "data": {
      "text/plain": [
       "1.0"
      ]
     },
     "execution_count": 348,
     "metadata": {},
     "output_type": "execute_result"
    }
   ],
   "source": []
  },
  {
   "cell_type": "markdown",
   "metadata": {},
   "source": [
    "**1.4 Using `best_predictor`, create a classification model by simply eye-balling a value for this gene that would discriminate the two classes the best (do not use an algorithm to determine for you the optimal coefficient or threshold; we are asking you to provide a rough estimate / model by manual inspection). Justify your choice in 1-2 sentences. Report the accuracy of your hand-chosen model on the test set.**\n"
   ]
  },
  {
   "cell_type": "code",
   "execution_count": 351,
   "metadata": {},
   "outputs": [
    {
     "name": "stdout",
     "output_type": "stream",
     "text": [
      "\n",
      "The highest value from best_predictor is observation number 116 which is 1 on the standardized scale.\n",
      "\n"
     ]
    }
   ],
   "source": [
    "# fix\n",
    "X_testNorm.loc[X_testNorm.index[116],best_predictor]\n",
    "np.argmax(X_testNorm[best_predictor])\n",
    "\n",
    "print('''\n",
    "The highest value from best_predictor is observation number 116 which is 1 on the standardized scale.\n",
    "''')\n"
   ]
  },
  {
   "cell_type": "markdown",
   "metadata": {},
   "source": [
    "*your answer here*"
   ]
  },
  {
   "cell_type": "markdown",
   "metadata": {},
   "source": [
    "---"
   ]
  },
  {
   "cell_type": "markdown",
   "metadata": {},
   "source": [
    "<div class='exercise'> <b> Question 2 [35pts]: Logistic Regression Modeling </b> </div>\n",
    "\n",
    "\n",
    "**2.1** Fit a simple logistic regression model to the training set using the single gene predictor `best_predictor` to predict cancer type.  Carefully interpret the coefficient estimates for this model.\n",
    "\n",
    "*Remember, you need to set the regularization parameter for sklearn's logistic regression function to be a very large value in order to **not** regularize (use `C=100000` or `penalty = \"none\"`).\n",
    "\n",
    "**2.2** Plot the logistic curves for the model in 2.1 ($y$-axis is probability scale, $x$-axis is `best_predictor`).  Interpret this plot: at what values of your `best_predictor` will you predict the patient to have ALL?  How does this compare to your eeballed value from 1.4?\n",
    "\n",
    "**2.3** Calculate the training and test classification accuracies of this model in 2.1. How do these compare to the eye-balled model from 1.4?\n",
    "\n",
    "\n",
    "**2.4** Next, fit a multiple logistic regression model with **all** the gene predictors from the data set (reminder: for this assignment, we are always using the normalized values). How does the classification accuracy of this model compare with the models fitted with a single gene (on both the training and test sets)?  \n",
    "\n",
    "**2.5** Print out and interpret the logistic regression coefficients for  `best_predictor` from both the simple logistic and multiple logistic regression models from the previous two parts.  Do they agree or disagree?  What does this indicate?\n",
    "\n",
    "**2.6** Now let's use regularization to improve the predictions from the multiple logistic regression model. Specifically, use LASSO-like regularization and 5-fold cross-validation to fit the model on the training set (choose between 20 reasonable values of $\\lambda$). Report the classification accuracy on both the training and testing set.\n",
    "\n",
    "**2.7** How many predictors are considered as important features in this regularized model?  What does that say about the full logistic regression model in problem 2.4?"
   ]
  },
  {
   "cell_type": "markdown",
   "metadata": {},
   "source": [
    "\n",
    "## Answers"
   ]
  },
  {
   "cell_type": "markdown",
   "metadata": {},
   "source": [
    "**2.1 Fit a simple logistic regression model to the training set using the single gene predictor `best_predictor` to predict cancer type. Carefully interpret the coefficient estimates for this model.**"
   ]
  },
  {
   "cell_type": "code",
   "execution_count": 365,
   "metadata": {},
   "outputs": [
    {
     "name": "stdout",
     "output_type": "stream",
     "text": [
      "The intercept for the single reg model is:  1.2684248229969208 . This means that the log odds for type of cancer are ~1.27 when x=0, i.e. when this gene has its lowest value (since the values are normalizaed).\n",
      "The coefficiant for the single reg model is:  -2.5937379099642888 . This means that the log odds for type of cancer decreases with ~2.59 when x goes from 0 to 1, i.e when this gene has the highest observed value rather than the lowest.\n"
     ]
    }
   ],
   "source": [
    "logit = LogisticRegression(penalty=\"none\", fit_intercept=True)\n",
    "logit_single = logit.fit(X_trainNorm[best_predictor].values.reshape(-1, 1), y_train)\n",
    "\n",
    "print('The intercept for the single reg model is: ', logit_single.intercept_[0], '. This means that the log odds for type of cancer are ~1.27 when x=0, i.e. when this gene has its lowest value (since the values are normalizaed).')\n",
    "print('The coefficiant for the single reg model is: ', logit_single.coef_[0][0], '. This means that the log odds for type of cancer decreases with ~2.59 when x goes from 0 to 1, i.e when this gene has the highest observed value rather than the lowest.')"
   ]
  },
  {
   "cell_type": "markdown",
   "metadata": {},
   "source": [
    "*your answer here* \n"
   ]
  },
  {
   "cell_type": "markdown",
   "metadata": {},
   "source": [
    "**2.2 Plot the logistic curves for the model in 2.1 ($y$-axis is probability scale, $x$-axis is `best_predictor`).  Interpret this plot: at what values of your `best_predictor` will you predict the patient to have ALL?  How does this compare to your eeballed value from 1.4?**\n"
   ]
  },
  {
   "cell_type": "code",
   "execution_count": 507,
   "metadata": {},
   "outputs": [],
   "source": [
    "# slett: X_dummy = np.linspace(np.min(X_testNorm[best_predictor]),np.max(X_testNorm[best_predictor]))\n",
    "classification_boundary = -(logit_single.intercept_[0])/logit_single.coef_[0][0]\n",
    "\n",
    "X_trainNorm_sorted = np.sort(X_trainNorm[best_predictor])\n",
    "X_testNorm_sorted = np.sort(X_testNorm[best_predictor])\n",
    "y_pred_single_train = logit_single.predict(X_trainNorm_sorted.reshape(-1, 1))\n",
    "y_pred_single_test = logit_single.predict(X_testNorm_sorted.reshape(-1, 1))\n",
    "y_predproba_single_train = logit_single.predict_proba(X_trainNorm_sorted.reshape(-1, 1))[:,0]\n",
    "y_predproba_single_test = logit_single.predict_proba(X_testNorm_sorted.reshape(-1, 1))[:,0]"
   ]
  },
  {
   "cell_type": "code",
   "execution_count": 504,
   "metadata": {},
   "outputs": [
    {
     "data": {
      "image/png": "[encoded data removed]",
      "text/plain": [
       "<Figure size 432x288 with 1 Axes>"
      ]
     },
     "metadata": {},
     "output_type": "display_data"
    },
    {
     "name": "stdout",
     "output_type": "stream",
     "text": [
      "Since the classification boundary is 0.489, the model will predict patients to have ALL for all scored below this value, and AML for all scores above.\n"
     ]
    }
   ],
   "source": [
    "# Plot:\n",
    "\n",
    "plt.plot(X_testNorm_sorted, y_predproba_single_test, label='Train set prediction', alpha=0.5)\n",
    "plt.plot(X_trainNorm_sorted, y_predproba_single_train, label='Test set prediction', alpha=0.5)\n",
    "plt.vlines(classification_boundary,ymin=np.min(X_testNorm_sorted),ymax=np.max(X_testNorm_sorted), linestyles='--', color='g', label='Classification boundary = {:.3f}'.format(classification_boundary))\n",
    "plt.hlines(0.5,xmin=np.min(X_testNorm_sorted),xmax=np.max(X_testNorm_sorted), linestyles='--', color='brown',label='Probability=0.5')\n",
    "plt.xlabel('best_predictor values')\n",
    "plt.ylabel('probability scale')\n",
    "plt.title('Predicted probability of ALL (0) or AML(1) based on best_predictor gene')\n",
    "plt.legend()\n",
    "plt.show()\n",
    "\n",
    "print('Since the classification boundary is {:.3f}, the model will predict patients to have ALL for all scored below this value, and AML for all scores above.'.format(classification_boundary))"
   ]
  },
  {
   "cell_type": "markdown",
   "metadata": {},
   "source": [
    "**2.3 Calculate the training and test classification accuracies of this model in 2.1.  How do these compare to the eye-balled model from 1.4?**"
   ]
  },
  {
   "cell_type": "code",
   "execution_count": 510,
   "metadata": {},
   "outputs": [
    {
     "name": "stdout",
     "output_type": "stream",
     "text": [
      "The accurracy for the train set it: -0.8238188109468385\n",
      "The accurracy for the test set it: -0.8731884057971013\n",
      " They compare to the eye-balled model ......\n"
     ]
    }
   ],
   "source": [
    "print('The accurracy for the train set it:', sk.metrics.r2_score(y_train ,  y_pred_single_train))\n",
    "print('The accurracy for the test set it:', sk.metrics.r2_score(y_test ,  y_pred_single_test))\n",
    "print(' They compare to the eye-balled model ......')  \n",
    "        #fix"
   ]
  },
  {
   "cell_type": "markdown",
   "metadata": {},
   "source": [
    "*your answer here* \n"
   ]
  },
  {
   "cell_type": "markdown",
   "metadata": {},
   "source": [
    "**2.4 Next, fit a multiple logistic regression model with *all* the gene predictors from the data set (reminder: for this assignment, we are always using the normalized values). How does the classification accuracy of this model compare with the models fitted with a single gene (on both the training and test sets)?**\n"
   ]
  },
  {
   "cell_type": "code",
   "execution_count": 491,
   "metadata": {},
   "outputs": [
    {
     "name": "stdout",
     "output_type": "stream",
     "text": [
      "The accurracy for the train set it: 1.0\n",
      "The accurracy for the test set it: 0.10597826086956519\n"
     ]
    }
   ],
   "source": [
    "logit = LogisticRegression(penalty=\"none\", fit_intercept=True)\n",
    "logit_multiple = logit.fit(X_trainNorm.values.reshape(-1, 7129), y_train)\n",
    "y_pred_multiple_train = logit_multiple.predict(X_trainNorm)\n",
    "y_pred_multiple_test = logit_multiple.predict(X_testNorm) \n",
    "\n",
    "    \n",
    "print('The accurracy for the train set it:', sk.metrics.r2_score(y_train, y_pred_multiple_train))\n",
    "print('The accurracy for the test set it:', sk.metrics.r2_score(y_test ,  y_pred_multiple_test))"
   ]
  },
  {
   "cell_type": "markdown",
   "metadata": {},
   "source": [
    "##### Answer 2.4:\n",
    "As we would expect we get an R-squared for our train-set when we have more predictors than observations. This is clearly overfit, and we get a much lower R-squared on the test set. However this is a better model than our simple regression model on \"best predictor\"."
   ]
  },
  {
   "cell_type": "markdown",
   "metadata": {},
   "source": [
    "**2.5 Print out and interpret the logistic regression coefficients for `best_predictor` from both the simple logistic and multiple logistic regression models from the previous two parts.  Do they agree or disagree?  What does this indicate?**"
   ]
  },
  {
   "cell_type": "code",
   "execution_count": 547,
   "metadata": {},
   "outputs": [
    {
     "name": "stdout",
     "output_type": "stream",
     "text": [
      "The coefficients for the multiple regression model is:\n",
      " [ 3.65104993  1.69644023 -1.32174481 ... -0.53882007  4.14380294\n",
      "  1.08813499] .\n",
      "Each of these betas define how much the probability of type of cancer changes when the associated x is increased from 0 to 1, holding all other factors constant.\n",
      "\n",
      "The intercept for the multiple regression model is: -0.12937187791625676 .\n",
      "This defines the log odds for type of cancer when x=0, i.e. when this gene has its lowest value (since the values are normalizaed).\n",
      "\n",
      "The coefficient for the single reg model is:  -2.5937379099642888  and is individually interpreted in task 2.1.\n",
      "\n",
      "The intercept for the single reg model is:  1.2684248229969208  and is individually interpreted in task 2.1.\n"
     ]
    }
   ],
   "source": [
    "# print(logit_multiple.coef_[0])\n",
    "print('The coefficients for the multiple regression model is:\\n', logit_multiple.coef_[0], '.\\nEach of these betas define how much the probability of type of cancer changes when the associated x is increased from 0 to 1, holding all other factors constant.')\n",
    "\n",
    "print('\\nThe intercept for the multiple regression model is:', logit_multiple.intercept_[0], '.\\nThis defines the log odds for type of cancer when x=0, i.e. when this gene has its lowest value (since the values are normalizaed).')\n",
    "\n",
    "print('\\nThe coefficient for the single reg model is: ', logit_single.coef_[0][0], ' and is individually interpreted in task 2.1.') \n",
    "print('\\nThe intercept for the single reg model is: ', logit_single.intercept_[0],  ' and is individually interpreted in task 2.1.') "
   ]
  },
  {
   "cell_type": "markdown",
   "metadata": {},
   "source": [
    "**2.6 Now let's use regularization to improve the predictions from the multiple logistic regression model. Specifically, use LASSO-like regularization and 5-fold cross-validation to fit the model on the training set (choose between 20 reasonable values of $\\lambda$). Report the classification accuracy on both the training and testing set.**"
   ]
  },
  {
   "cell_type": "code",
   "execution_count": null,
   "metadata": {},
   "outputs": [],
   "source": [
    "from sklearn.linear_model import Lasso\n",
    "from sklearn.model_selection import GridSearchCV\n",
    "lambdas = np.logspace(-3,8,20)\n",
    "\n",
    "\n",
    "def cv_optimize_Lasso(x: np.ndarray, y: np.ndarray, list_of_lambdas: list, n_folds: int = 5):\n",
    "    parameters = {'alpha': list_of_lambdas}\n",
    "    # the scoring parameter below is the default one in ridge, but you can use a different one in the cross-validation phase if you want.\n",
    "    gs = GridSearchCV(Lasso(), param_grid=parameters, cv=n_folds, scoring=\"r2\")\n",
    "    gs.fit(x, y)\n",
    "    return gs\n",
    "\n",
    "lasso_train = cv_optimize_Lasso(X_trainNorm, y_train, lambdas)\n",
    "lasso_test = cv_optimize_Lasso(X_testNorm, y_test, lambdas)\n",
    "\n",
    "print('Best training set Score: ', lasso_train.best_score_)\n",
    "print('Best training set Params: ', lasso_train.best_params_)\n",
    "print('Best test set Score: ', lasso_test.best_score_)\n",
    "print('Best test set Params: ', lasso_test.best_params_)"
   ]
  },
  {
   "cell_type": "markdown",
   "metadata": {},
   "source": [
    "**2.7 How many predictors are considered as important features in this regularized model?  What does that say about the full logistic regression model in problem 2.4?**\n"
   ]
  },
  {
   "cell_type": "code",
   "execution_count": null,
   "metadata": {},
   "outputs": [],
   "source": []
  },
  {
   "cell_type": "markdown",
   "metadata": {},
   "source": [
    "*your answer here*"
   ]
  },
  {
   "cell_type": "markdown",
   "metadata": {},
   "source": [
    "---"
   ]
  },
  {
   "cell_type": "markdown",
   "metadata": {},
   "source": [
    "<div class='exercise'> <b> Question 3 [10pts]: $k$-NN Classification </b> </div>"
   ]
  },
  {
   "cell_type": "markdown",
   "metadata": {},
   "source": [
    "**3.1** Use 5-fold cross-validation to select $k$ for a $k$-NN classification model based on the full predictor set.  Choose between `ks = [1,3,5,7,10,15,20,50,100]`. \n",
    "\n",
    "**3.2** Provide the confusion matrix for 3 models: (i) the full multiple logistic regression model from 2.4, (ii) the best regularized model from 2.6, and (iii) the best $k$-NN from the previous part. Report the false positive and false negative rates (all in the test set).  Briefly interpret what you notice."
   ]
  },
  {
   "cell_type": "markdown",
   "metadata": {},
   "source": [
    "\n",
    "### Answers"
   ]
  },
  {
   "cell_type": "markdown",
   "metadata": {},
   "source": [
    "**3.1 Use 5-fold cross-validation to select $k$ for a $k$-NN classification model based on the full predictor set.  Choose between `ks = [1,3,5,7,10,15,20,50,100]`.  Report your chosen $k$, and report the misclassification rate on both the train and test sets for the model using your chosen $k$.**"
   ]
  },
  {
   "cell_type": "code",
   "execution_count": 3,
   "metadata": {},
   "outputs": [],
   "source": [
    "######\n",
    "# your code here\n",
    "######"
   ]
  },
  {
   "cell_type": "markdown",
   "metadata": {},
   "source": [
    "**3.2 Provide the confusion matrix for 3 models: (i) the full multiple logistic regression model from 2.4, (ii) the best regularized model from 2.6, and (iii) the best $k$-NN from the previous part. what are the  false positive and false negative rates in these 3 models (all in the test set)?  Briefly interpret what you notice.**"
   ]
  },
  {
   "cell_type": "code",
   "execution_count": 4,
   "metadata": {},
   "outputs": [],
   "source": [
    "######\n",
    "# your code here\n",
    "######"
   ]
  },
  {
   "cell_type": "markdown",
   "metadata": {},
   "source": [
    "*your answer here*"
   ]
  },
  {
   "cell_type": "markdown",
   "metadata": {},
   "source": [
    "---"
   ]
  },
  {
   "cell_type": "markdown",
   "metadata": {},
   "source": [
    "#### <div class='exercise'><b> Question 4 [15 pts]: Performing Principal Components Analysis </b></div>"
   ]
  },
  {
   "cell_type": "markdown",
   "metadata": {},
   "source": [
    "**4.1** Create the full PCA decomposition of `X_train` and apply the transformation to both `X_train` and `X_test`.  Report the shape of both of these.  What is the limiting factor for the maximum number of PCA components for this data set? \n",
    "\n",
    "*Hint: be sure to standardize before performing PCA.\n",
    "\n",
    "**4.2** PCA is often solely used to help in visualizing high-dimensional problems.  Plot the scatterplot of the second PCA vector of train on the $Y$-axis and the first PCA vector of train on the $X$-axis (be sure to denote the classes via different colors and markings).  In 2-3 sentences, explain why using the scatterplot of the top 2 PCA vectors is a useful approach to visualize a high dimensional classification problem.\n",
    "\n",
    "**4.3** Determine and report the variance explained in `X_train` based on the top 2 PCA vectors.  Determine and report how many PCA vectors are needed so that 90\\% of the variability in the predictors is explained, and create a plot to illustrate this result (Hint: look at cumulative explained variability vs. number of PCA components used).  Select a reasonable value for the number of components that balances representativeness (of the predictors) with parsimony. \n"
   ]
  },
  {
   "cell_type": "markdown",
   "metadata": {},
   "source": [
    "\n",
    "### Answers"
   ]
  },
  {
   "cell_type": "markdown",
   "metadata": {},
   "source": [
    "**4.1 Create the full PCA decomposition of X_train and apply the transformation to both X_train and X_test. Report the shape of both of these. What is the limiting factor for the maximum number of PCA components for this data set?**"
   ]
  },
  {
   "cell_type": "code",
   "execution_count": null,
   "metadata": {},
   "outputs": [],
   "source": [
    "######\n",
    "# your code here\n",
    "######"
   ]
  },
  {
   "cell_type": "markdown",
   "metadata": {},
   "source": [
    "*Your answer here*\n"
   ]
  },
  {
   "cell_type": "markdown",
   "metadata": {},
   "source": [
    "**4.2 PCA is often solely used to help in visualizing high-dimensional problems. Plot the scatterplot of the second PCA vector on the  𝑌 -axis and the first PCA vector on the  𝑋 -axis (be sure to denote the classes via different color/markings). In 2-3 sentences, explain why using the scatterplot of the top 2 PCA vectors is a useful approach to visualize a high dimensional classification problem.**"
   ]
  },
  {
   "cell_type": "code",
   "execution_count": null,
   "metadata": {},
   "outputs": [],
   "source": [
    "######\n",
    "# your code here\n",
    "######"
   ]
  },
  {
   "cell_type": "markdown",
   "metadata": {},
   "source": [
    "*your answer here*\n"
   ]
  },
  {
   "cell_type": "markdown",
   "metadata": {},
   "source": [
    "**4.3 Determine and report the variance explained in `X_train` based on the top 2 PCA vectors.  Determine and report how many PCA vectors are needed so that 90\\% of the variability in the predictors is explained, and create a plot to illustrate this result (Hint: look at cumulative explained variability vs. number of PCA components used).  Select a reasonable value for the number of components that balances representativeness (of the predictors) with parsimony.**"
   ]
  },
  {
   "cell_type": "code",
   "execution_count": null,
   "metadata": {},
   "outputs": [],
   "source": [
    "######\n",
    "# your code here\n",
    "######"
   ]
  },
  {
   "cell_type": "markdown",
   "metadata": {},
   "source": [
    "*your answer here*"
   ]
  },
  {
   "cell_type": "markdown",
   "metadata": {},
   "source": [
    "---"
   ]
  },
  {
   "cell_type": "markdown",
   "metadata": {},
   "source": [
    "<div class='exercise'><b> Question 5 [10 pts]: Principal Components Regression (PCR) </b></div>\n",
    "\n",
    "**5.1** Fit three separate Logistic Regression models using principal components as the predictors: (1) with just the first 2 PCA vectors, (2) with the number of component vectors you chose from 5.4 above, and (3) with the number of components that explain at least 90% of the variability in the predictor set. How do the classification accuracy values on both the training and test sets compare with these models?\n",
    "\n",
    "**5.2** Use cross-validation to determine the best number of principal components. Try out the 3 values from the previous sub-part and optionally include other values as well. For the best performing model according to cross-validation, interpret what the model says about the relationship between `best_predictor` and `Cancer_type`.\n"
   ]
  },
  {
   "cell_type": "markdown",
   "metadata": {},
   "source": [
    "\n",
    "### Answers"
   ]
  },
  {
   "cell_type": "markdown",
   "metadata": {},
   "source": [
    "**5.1 Fit three separate Logistic Regression models using principal components as the predictors: (1) with just the first 2 PCA vectors, (2) with the number of component vectors you chose from 5.4 above, and (3) with the number of components that explain at least 90% of the variability in the predictor set. How do the classification accuracy values on both the training and test sets compare with these models?**"
   ]
  },
  {
   "cell_type": "code",
   "execution_count": null,
   "metadata": {},
   "outputs": [],
   "source": [
    "######\n",
    "# your code here\n",
    "######\n"
   ]
  },
  {
   "cell_type": "markdown",
   "metadata": {},
   "source": [
    "*your answer here*\n"
   ]
  },
  {
   "cell_type": "markdown",
   "metadata": {},
   "source": [
    "**5.2 Use cross-validation to determine the best number of principal components. Try out the 3 values from the previous sub-part and optionally include other values as well. For the best performing model according to cross-validation, interpret what the model says about the relationship between your `best_predictor` and `Cancer_type`**."
   ]
  },
  {
   "cell_type": "code",
   "execution_count": null,
   "metadata": {},
   "outputs": [],
   "source": [
    "######\n",
    "# your code here\n",
    "######\n"
   ]
  },
  {
   "cell_type": "markdown",
   "metadata": {},
   "source": [
    "* your answer here*"
   ]
  },
  {
   "cell_type": "markdown",
   "metadata": {},
   "source": [
    "<div class='exercise'><b> Question 6 [15 pts]: Evaluating Classifiers </b></div>\n",
    "\n",
    "**6.1**: Another way to evaluate models in a classification setting is through an Area-under-the-ROC-Curve (AUC). Briefly explain what the AUC and the ROC are trying to do and how this approach differs from evaluating models based on misclassification rate (as you have done thus far in this problem set).\n",
    "\n",
    "**6.2** Evaluate the 'best' models (best based on test misclassification: if there is a tie, choose the 'simplest' model) from each class of classification models using AUC.  That is calculate AUC for the following models:\n",
    "- the best logistic regression model, whether regularized or not (question 2)\n",
    "- the best $k$-NN model (question 3)\n",
    "- the best PCR model (question 5)\n",
    "\n",
    "For the model with the best AUC, plot the ROC. Briefly interpret your plot.\n",
    "\n",
    "**6.3** Based on AUC, is there one clear stand-out winner or are a lot of models similar in prediction?  If you were to predict real cancer patients, how would use these models to predict cancer type?\n",
    "\n",
    "*See extra information about ALL and AML at the bottom of this notebook.*"
   ]
  },
  {
   "cell_type": "markdown",
   "metadata": {},
   "source": [
    "### Answers"
   ]
  },
  {
   "cell_type": "markdown",
   "metadata": {},
   "source": [
    "**6.1 Another way to evaluate models in a classification setting is through an Area-under-the-ROC-Curve (AUC). Briefly explain what the AUC and the ROC are trying to do and how this approach differs from evaluating models based on misclassification rate (as you have done thus far in this problem set).**"
   ]
  },
  {
   "cell_type": "markdown",
   "metadata": {},
   "source": [
    "*your answer here*\n"
   ]
  },
  {
   "cell_type": "markdown",
   "metadata": {},
   "source": [
    "**6.2 use AUC to evaluate the 'best' models (best based on test misclassification: if there is a tie, choose the 'simplest' model) from each class of classification models.  That is calculate AUC for the following models:**\n",
    "- the best logistic regression model, whether regularized or not (question 2)\n",
    "- the best $k$-NN model (question 3)\n",
    "- the best PCR model (question 5)\n",
    "\n",
    "**For the model with the best AUC, plot the ROC. Briefly interpret your plot.**\n",
    "\n"
   ]
  },
  {
   "cell_type": "code",
   "execution_count": null,
   "metadata": {},
   "outputs": [],
   "source": [
    "######\n",
    "# your code here\n",
    "######\n"
   ]
  },
  {
   "cell_type": "markdown",
   "metadata": {},
   "source": [
    "*your answer here*"
   ]
  },
  {
   "cell_type": "markdown",
   "metadata": {},
   "source": [
    "**6.3 Based on AUC, is there one clear stand-out winner or are a lot of models similar in prediction?  If you were to predict real cancer patients, how would use these models to predict cancer type?**"
   ]
  },
  {
   "cell_type": "markdown",
   "metadata": {},
   "source": [
    "*your answer here*\n"
   ]
  },
  {
   "cell_type": "markdown",
   "metadata": {},
   "source": [
    "<hr style=\"height:2pt\">"
   ]
  },
  {
   "cell_type": "markdown",
   "metadata": {},
   "source": [
    "\n",
    "**Additional Information**\n",
    "\n",
    "Acute Lymphoblastic Leukemia (ALL):\n",
    "- About 98% of children with ALL go into remission within weeks after starting treatment.\n",
    "- About 90% of those children can be cured. Patients are considered cured after 10 years in remission.\n",
    "\n",
    "Acute Myeloid Leukemia (AML):\n",
    "- In general, children with AML are seen as lower risk than adults. \n",
    "- Around 85 to 90 percent of children with AML will go into remission after induction, according to the American Cancer Society. AML will return in some cases.  \n",
    "- The five-year-survival-rate for children with AML is 60 to 70 percent."
   ]
  },
  {
   "cell_type": "markdown",
   "metadata": {},
   "source": [
    "<hr style=\"height:2pt\">"
   ]
  }
 ],
 "metadata": {
  "anaconda-cloud": {},
  "kernelspec": {
   "display_name": "Python 3",
   "language": "python",
   "name": "python3"
  },
  "language_info": {
   "codemirror_mode": {
    "name": "ipython",
    "version": 3
   },
   "file_extension": ".py",
   "mimetype": "text/x-python",
   "name": "python",
   "nbconvert_exporter": "python",
   "pygments_lexer": "ipython3",
   "version": "3.8.8"
  }
 },
 "nbformat": 4,
 "nbformat_minor": 2
}
