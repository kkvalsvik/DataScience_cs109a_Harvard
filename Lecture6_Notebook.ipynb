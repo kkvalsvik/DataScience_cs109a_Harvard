{
 "cells": [
  {
   "cell_type": "markdown",
   "metadata": {},
   "source": [
    "# <img style=\"float: left; padding-right: 10px; width: 45px\" src=\"https://github.com/Harvard-IACS/2021-s109a/blob/master/lectures/crest.png?raw=true\"> CS-S109A Introduction to Data Science \n",
    "\n",
    "## Lecture 6: Classification and Logistic Regression\n",
    "\n",
    "**Harvard University**<br>\n",
    "**Summer 2021**<br>\n",
    "**Instructors:** Kevin Rader<br>\n",
    "**Authors:** Rahul Dave, David Sondak, Will Claybaugh, Pavlos Protopapas, Chris Tanner, Kevin Rader\n",
    "\n",
    "---"
   ]
  },
  {
   "cell_type": "markdown",
   "metadata": {},
   "source": [
    "# Table of Contents \n",
    "<ol start=\"0\">\n",
    "<li> Learning Goals </li>\n",
    "<li> Logistic Regression</li> \n",
    "<li> More Logistic Regression </li> \n",
    "<li> Classification Accuracy</li>\n",
    "\n",
    "    "
   ]
  },
  {
   "cell_type": "markdown",
   "metadata": {},
   "source": [
    "## Learning Goals\n",
    "\n",
    "This Jupyter notebook accompanies Lecture 6. By the end of this lecture, you should be able to:\n",
    "\n",
    "- Fit, plot, and interpret logistic regression models and their coefficients\n",
    "- Determine classification boundaries for logistic regression models\n",
    "- Know how to evaluate classification methods via miclassification rate, ROC curves, and AUC.\n"
   ]
  },
  {
   "cell_type": "code",
   "execution_count": 4,
   "metadata": {},
   "outputs": [],
   "source": [
    "%matplotlib inline\n",
    "import numpy as np\n",
    "import matplotlib.pyplot as plt\n",
    "import pandas as pd\n",
    "import seaborn as sns\n",
    "import sklearn as sk\n",
    "from sklearn.preprocessing import PolynomialFeatures\n",
    "from sklearn.linear_model import LinearRegression\n",
    "from sklearn.linear_model import LogisticRegression\n",
    "\n",
    "pd.set_option('display.width', 500)\n",
    "pd.set_option('display.max_columns', 100)"
   ]
  },
  {
   "cell_type": "markdown",
   "metadata": {},
   "source": [
    "## Part 0: Reading the data \n",
    "\n",
    "In this notebook, we will be using the Heart dataset from lecture.  The variables we will be using today include:\n",
    "\n",
    "- `AHD`: whether or not the patient presents atherosclerotic heart disease (a heart attack): `Yes` or `No`\n",
    "- `Sex`: a binary indicator for whether the patient is male (Sex=1) or female (Sex=0)\n",
    "- `Age`: age of patient, in years\n",
    "- `MaxHR`: the maximum heart rate of patient based on exercise testing\n",
    "- `RestBP`: the resting systolic blood pressure of the patient\n",
    "- `Chol`: the HDL cholesterol level of the patient\n",
    "\n",
    "For further information on the dataset, please see the [UC Irvine Machine Learning Repository](https://archive.ics.uci.edu/ml/datasets/Heart+Disease)."
   ]
  },
  {
   "cell_type": "code",
   "execution_count": 5,
   "metadata": {},
   "outputs": [
    {
     "name": "stdout",
     "output_type": "stream",
     "text": [
      "(303, 15)\n"
     ]
    },
    {
     "data": {
      "text/html": [
       "<div>\n",
       "<style scoped>\n",
       "    .dataframe tbody tr th:only-of-type {\n",
       "        vertical-align: middle;\n",
       "    }\n",
       "\n",
       "    .dataframe tbody tr th {\n",
       "        vertical-align: top;\n",
       "    }\n",
       "\n",
       "    .dataframe thead th {\n",
       "        text-align: right;\n",
       "    }\n",
       "</style>\n",
       "<table border=\"1\" class=\"dataframe\">\n",
       "  <thead>\n",
       "    <tr style=\"text-align: right;\">\n",
       "      <th></th>\n",
       "      <th>Unnamed: 0</th>\n",
       "      <th>Age</th>\n",
       "      <th>Sex</th>\n",
       "      <th>ChestPain</th>\n",
       "      <th>RestBP</th>\n",
       "      <th>Chol</th>\n",
       "      <th>Fbs</th>\n",
       "      <th>RestECG</th>\n",
       "      <th>MaxHR</th>\n",
       "      <th>ExAng</th>\n",
       "      <th>Oldpeak</th>\n",
       "      <th>Slope</th>\n",
       "      <th>Ca</th>\n",
       "      <th>Thal</th>\n",
       "      <th>AHD</th>\n",
       "    </tr>\n",
       "  </thead>\n",
       "  <tbody>\n",
       "    <tr>\n",
       "      <th>0</th>\n",
       "      <td>1</td>\n",
       "      <td>63</td>\n",
       "      <td>1</td>\n",
       "      <td>typical</td>\n",
       "      <td>145</td>\n",
       "      <td>233</td>\n",
       "      <td>1</td>\n",
       "      <td>2</td>\n",
       "      <td>150</td>\n",
       "      <td>0</td>\n",
       "      <td>2.3</td>\n",
       "      <td>3</td>\n",
       "      <td>0.0</td>\n",
       "      <td>fixed</td>\n",
       "      <td>0</td>\n",
       "    </tr>\n",
       "    <tr>\n",
       "      <th>1</th>\n",
       "      <td>2</td>\n",
       "      <td>67</td>\n",
       "      <td>1</td>\n",
       "      <td>asymptomatic</td>\n",
       "      <td>160</td>\n",
       "      <td>286</td>\n",
       "      <td>0</td>\n",
       "      <td>2</td>\n",
       "      <td>108</td>\n",
       "      <td>1</td>\n",
       "      <td>1.5</td>\n",
       "      <td>2</td>\n",
       "      <td>3.0</td>\n",
       "      <td>normal</td>\n",
       "      <td>1</td>\n",
       "    </tr>\n",
       "    <tr>\n",
       "      <th>2</th>\n",
       "      <td>3</td>\n",
       "      <td>67</td>\n",
       "      <td>1</td>\n",
       "      <td>asymptomatic</td>\n",
       "      <td>120</td>\n",
       "      <td>229</td>\n",
       "      <td>0</td>\n",
       "      <td>2</td>\n",
       "      <td>129</td>\n",
       "      <td>1</td>\n",
       "      <td>2.6</td>\n",
       "      <td>2</td>\n",
       "      <td>2.0</td>\n",
       "      <td>reversable</td>\n",
       "      <td>1</td>\n",
       "    </tr>\n",
       "    <tr>\n",
       "      <th>3</th>\n",
       "      <td>4</td>\n",
       "      <td>37</td>\n",
       "      <td>1</td>\n",
       "      <td>nonanginal</td>\n",
       "      <td>130</td>\n",
       "      <td>250</td>\n",
       "      <td>0</td>\n",
       "      <td>0</td>\n",
       "      <td>187</td>\n",
       "      <td>0</td>\n",
       "      <td>3.5</td>\n",
       "      <td>3</td>\n",
       "      <td>0.0</td>\n",
       "      <td>normal</td>\n",
       "      <td>0</td>\n",
       "    </tr>\n",
       "    <tr>\n",
       "      <th>4</th>\n",
       "      <td>5</td>\n",
       "      <td>41</td>\n",
       "      <td>0</td>\n",
       "      <td>nontypical</td>\n",
       "      <td>130</td>\n",
       "      <td>204</td>\n",
       "      <td>0</td>\n",
       "      <td>2</td>\n",
       "      <td>172</td>\n",
       "      <td>0</td>\n",
       "      <td>1.4</td>\n",
       "      <td>1</td>\n",
       "      <td>0.0</td>\n",
       "      <td>normal</td>\n",
       "      <td>0</td>\n",
       "    </tr>\n",
       "  </tbody>\n",
       "</table>\n",
       "</div>"
      ],
      "text/plain": [
       "   Unnamed: 0  Age  Sex     ChestPain  RestBP  Chol  Fbs  RestECG  MaxHR  ExAng  Oldpeak  Slope   Ca        Thal  AHD\n",
       "0           1   63    1       typical     145   233    1        2    150      0      2.3      3  0.0       fixed    0\n",
       "1           2   67    1  asymptomatic     160   286    0        2    108      1      1.5      2  3.0      normal    1\n",
       "2           3   67    1  asymptomatic     120   229    0        2    129      1      2.6      2  2.0  reversable    1\n",
       "3           4   37    1    nonanginal     130   250    0        0    187      0      3.5      3  0.0      normal    0\n",
       "4           5   41    0    nontypical     130   204    0        2    172      0      1.4      1  0.0      normal    0"
      ]
     },
     "execution_count": 5,
     "metadata": {},
     "output_type": "execute_result"
    }
   ],
   "source": [
    "df_heart = pd.read_csv('../data/Heart.csv')\n",
    "\n",
    "# Force the response into a binary indicator:\n",
    "df_heart['AHD'] = 1*(df_heart['AHD'] == \"Yes\")\n",
    "\n",
    "print(df_heart.shape)\n",
    "df_heart.head()"
   ]
  },
  {
   "cell_type": "markdown",
   "metadata": {},
   "source": [
    "**Q0.1** Do some EDA to see how each of the 3 predictors `['Sex','Age','MaxHR']` separately relate to the response: `AHD`.  Consider looking at summary statistics, contingency tables, and relevant visuals comparing the two groups in the response variable.\n",
    "Hint: [`pd.crosstab`](https://pandas.pydata.org/pandas-docs/stable/reference/api/pandas.crosstab.html) could be very useful for creating contigency tables"
   ]
  },
  {
   "cell_type": "code",
   "execution_count": 55,
   "metadata": {},
   "outputs": [
    {
     "data": {
      "text/html": [
       "<div>\n",
       "<style scoped>\n",
       "    .dataframe tbody tr th:only-of-type {\n",
       "        vertical-align: middle;\n",
       "    }\n",
       "\n",
       "    .dataframe tbody tr th {\n",
       "        vertical-align: top;\n",
       "    }\n",
       "\n",
       "    .dataframe thead tr th {\n",
       "        text-align: left;\n",
       "    }\n",
       "\n",
       "    .dataframe thead tr:last-of-type th {\n",
       "        text-align: right;\n",
       "    }\n",
       "</style>\n",
       "<table border=\"1\" class=\"dataframe\">\n",
       "  <thead>\n",
       "    <tr>\n",
       "      <th>col_0</th>\n",
       "      <th>56.625899</th>\n",
       "    </tr>\n",
       "    <tr>\n",
       "      <th>col_1</th>\n",
       "      <th>52.585366</th>\n",
       "    </tr>\n",
       "    <tr>\n",
       "      <th>AHD</th>\n",
       "      <th></th>\n",
       "    </tr>\n",
       "  </thead>\n",
       "  <tbody>\n",
       "    <tr>\n",
       "      <th>0</th>\n",
       "      <td>164</td>\n",
       "    </tr>\n",
       "    <tr>\n",
       "      <th>1</th>\n",
       "      <td>139</td>\n",
       "    </tr>\n",
       "  </tbody>\n",
       "</table>\n",
       "</div>"
      ],
      "text/plain": [
       "col_0 56.625899\n",
       "col_1 52.585366\n",
       "AHD            \n",
       "0           164\n",
       "1           139"
      ]
     },
     "metadata": {},
     "output_type": "display_data"
    },
    {
     "data": {
      "image/png": "[encoded data removed]",
      "text/plain": [
       "<Figure size 432x288 with 1 Axes>"
      ]
     },
     "metadata": {
      "needs_background": "light"
     },
     "output_type": "display_data"
    }
   ],
   "source": [
    "df_heart.loc[:,['AHD','Sex','Age','MaxHR']]\n",
    "pd.crosstab(df_heart['AHD'], df_heart['Sex'])\n",
    "pd.crosstab(df_heart['AHD'], df_heart['Age'])\n",
    "\n",
    "hasAHD = df_heart[df_heart['AHD']==1]\n",
    "hasntAHD = df_heart[df_heart['AHD']==0]\n",
    "vector=[np.mean(hasAHD['Age']),np.mean(hasntAHD['Age'])]\n",
    "#np.mean(hasAHD)\n",
    "#display(pd.crosstab(df_heart['AHD'], np.mean(df_heart['MaxHR']), colnames=[\"MeanHR\"],))\n",
    "plt.hist(hasAHD['MaxHR'],alpha=0.5,label='Has AHD')\n",
    "plt.hist(hasntAHD['MaxHR'],alpha=0.5,label='Does not have AHD')\n",
    "plt.legend()\n",
    "#vector\n",
    "display(pd.crosstab(df_heart['AHD'], vector))\n"
   ]
  },
  {
   "cell_type": "markdown",
   "metadata": {},
   "source": [
    "**Q0.2** Interpret your EDA in the previous part.  Which of the predictors would be most useful in a classification model to predict `AHD`?"
   ]
  },
  {
   "cell_type": "markdown",
   "metadata": {},
   "source": [
    "Answer KK : \n",
    "Interpretations:\n",
    "* Sex is related to AHD (men has higher chance of AHD)\n",
    "* Lower MaxHR has a relationship with higher AHD\n",
    "* Older people have more AHD than younger, on average\n",
    "\n",
    "###### Sex seems to have the stronges relationship amongst these. To check it formally we could perform a t-test on regression with each of the predictors towards AHD"
   ]
  },
  {
   "cell_type": "markdown",
   "metadata": {},
   "source": [
    "---"
   ]
  },
  {
   "cell_type": "markdown",
   "metadata": {},
   "source": [
    "## Part 1: Logistic Regression Modeling"
   ]
  },
  {
   "cell_type": "markdown",
   "metadata": {},
   "source": [
    "Below are both a linear regression model and a [logistic regression model](https://scikit-learn.org/stable/modules/generated/sklearn.linear_model.LogisticRegression.html) fit using sklearn to predict `AHD` from `Age`."
   ]
  },
  {
   "cell_type": "code",
   "execution_count": 61,
   "metadata": {},
   "outputs": [
    {
     "data": {
      "text/plain": [
       "array([2, 3, 5])"
      ]
     },
     "execution_count": 61,
     "metadata": {},
     "output_type": "execute_result"
    }
   ],
   "source": [
    "np.sort([3,2,5])"
   ]
  },
  {
   "cell_type": "code",
   "execution_count": 121,
   "metadata": {},
   "outputs": [
    {
     "data": {
      "image/png": "[encoded data removed]",
      "text/plain": [
       "<Figure size 432x288 with 1 Axes>"
      ]
     },
     "metadata": {
      "needs_background": "light"
     },
     "output_type": "display_data"
    },
    {
     "name": "stdout",
     "output_type": "stream",
     "text": [
      "Linear Regression Estimated Betas: -0.21198629605591568 [0.01232082]\n",
      "Logistic Regression Estimated Betas: [-3.00591177] [[0.05198618]]\n"
     ]
    }
   ],
   "source": [
    "data_x = df_heart[['Age']]\n",
    "data_y = df_heart['AHD']\n",
    "dummi = np.arange(0,100).reshape(-1, 1)\n",
    "\n",
    "regress1 = LinearRegression(fit_intercept=True).fit(data_x, data_y)\n",
    "logit1 = LogisticRegression(C=10000,fit_intercept=True).fit(data_x, data_y)\n",
    "plt.plot(np.sort(dummi),regress1.predict(dummi),label='lin reg')\n",
    "plt.plot(np.sort(dummi),logit1.predict_proba(dummi)[:,1], alpha=0.3,label='log reg')\n",
    "plt.xlabel('age')\n",
    "plt.ylabel('AHD')\n",
    "plt.scatter(data_x,data_y)\n",
    "plt.legend()\n",
    "plt.show()\n",
    "print(\"Linear Regression Estimated Betas:\",regress1.intercept_,regress1.coef_)\n",
    "print(\"Logistic Regression Estimated Betas:\",logit1.intercept_,logit1.coef_)"
   ]
  },
  {
   "cell_type": "markdown",
   "metadata": {},
   "source": [
    "Two different prediction commands can be used on a logistic regression model in sklearn (be careful of the form of the output from them):\n",
    "- `model.predict(X)`: to get the predicted classifications (0 or 1, here)\n",
    "- `model.predict_proba(X)`: to get the predicted probabilities of 'success' and 'failure'\n",
    "        \n",
    "**Q1.1** Calculate both types of predictions for the patients in the data set for `logit1`.  What do you notice?"
   ]
  },
  {
   "cell_type": "code",
   "execution_count": 82,
   "metadata": {},
   "outputs": [],
   "source": [
    "######\n",
    "# your code here\n",
    "######\n",
    "\n",
    "yhat_prob = logit1.predict_proba(data_x)\n",
    "\n",
    "#print(yhat_prob[:,1])\n",
    "#(yhat_prob)"
   ]
  },
  {
   "cell_type": "markdown",
   "metadata": {},
   "source": [
    "**Q1.2** Use the array of predicted probabilities to perform the classifications manually (feel free to check your answers with sklearn's classifications). "
   ]
  },
  {
   "cell_type": "code",
   "execution_count": 94,
   "metadata": {},
   "outputs": [
    {
     "data": {
      "text/plain": [
       "range(0, 303)"
      ]
     },
     "execution_count": 94,
     "metadata": {},
     "output_type": "execute_result"
    }
   ],
   "source": [
    " range(len(data_x))"
   ]
  },
  {
   "cell_type": "code",
   "execution_count": 108,
   "metadata": {},
   "outputs": [
    {
     "data": {
      "text/plain": [
       "(array([0, 1]), array([179, 124], dtype=int64))"
      ]
     },
     "execution_count": 108,
     "metadata": {},
     "output_type": "execute_result"
    }
   ],
   "source": [
    "classificationAHD=[]\n",
    "for i in range(len(data_x)):\n",
    "    if yhat_prob[i,1] < 0.5:\n",
    "        classificationAHD.append([0])\n",
    "    else:\n",
    "        classificationAHD.append([1])\n",
    "np.unique(classificationAHD,return_counts=True)"
   ]
  },
  {
   "cell_type": "code",
   "execution_count": 111,
   "metadata": {},
   "outputs": [
    {
     "data": {
      "text/plain": [
       "(array([0, 1]), array([179, 124], dtype=int64))"
      ]
     },
     "execution_count": 111,
     "metadata": {},
     "output_type": "execute_result"
    }
   ],
   "source": [
    "np.unique(logit1.predict(data_x), return_counts=True)"
   ]
  },
  {
   "cell_type": "code",
   "execution_count": 107,
   "metadata": {},
   "outputs": [
    {
     "name": "stdout",
     "output_type": "stream",
     "text": [
      "164\n",
      "139\n",
      "the predictions and actual values are not equal, but similar. should check if they should be equal when they are fitted on the same values.\n"
     ]
    }
   ],
   "source": [
    "print(len(hasntAHD))\n",
    "print(len(hasAHD))\n",
    "\n",
    "print('the predictions and actual values are not equal, but similar. should check if they should be equal when they are fitted on the same values.')"
   ]
  },
  {
   "cell_type": "markdown",
   "metadata": {},
   "source": [
    "**Q1.3** Determine the classification boundary mathematically (using the estimated coefficients): what range of values of `Age` would a patient be predicted to have a heart attack?"
   ]
  },
  {
   "cell_type": "code",
   "execution_count": null,
   "metadata": {},
   "outputs": [],
   "source": [
    "######\n",
    "# your code here\n",
    "######\n",
    "log(y=1/y=0)=beta0+beta1x\n",
    "#der 0 er per endring av age\n",
    "# hva er \"the classification boundry ?\""
   ]
  },
  {
   "cell_type": "markdown",
   "metadata": {},
   "source": [
    "The estimated logistic regression model is (fill in the estimates and answer):\n",
    "$$\\ln\\left(\\frac{\\widehat{P}(Y=1)}{1-\\widehat{P}(Y=1)}\\right) = \\hat{\\beta}_0 + \\hat{\\beta}_1 \\cdot X$$\n"
   ]
  },
  {
   "cell_type": "markdown",
   "metadata": {},
   "source": [
    "Below is some code to plot the predictions from the linear regression model on the probability scale added to he scatterplot of points.\n",
    "\n",
    "**Q1.4** Add the logistic curve for the predicted probabilities from `logit1`.  Which function is better to describe `AHD` from `Age`?  Why?"
   ]
  },
  {
   "cell_type": "code",
   "execution_count": null,
   "metadata": {},
   "outputs": [],
   "source": [
    "dummy_x=np.linspace(np.min(data_x)-10,np.max(data_x)+10)\n",
    "yhat_regress = regress1.predict(dummy_x.reshape(-1,1))\n",
    "plt.plot(data_x, data_y, 'o' ,alpha=0.2, label='Data')\n",
    "plt.plot(dummy_x, yhat_regress, label = \"OLS\")\n",
    "\n",
    "######\n",
    "# your code here\n",
    "######\n",
    "\n"
   ]
  },
  {
   "cell_type": "markdown",
   "metadata": {},
   "source": [
    "---"
   ]
  },
  {
   "cell_type": "markdown",
   "metadata": {},
   "source": [
    "## Part 2: More Logistic Regression Modeling "
   ]
  },
  {
   "cell_type": "markdown",
   "metadata": {},
   "source": [
    "**Q2.1** Fit a logistic regression model (`logit2`) to predict `AHD` from `Sex` and predict the probability of a heart attach for men and women separately from this model.  Confirm that these estimates are correct based on the contingency table .\n",
    "Hint: What proportion of women had heart attacks in the dataset?  What proportion of men?"
   ]
  },
  {
   "cell_type": "code",
   "execution_count": 253,
   "metadata": {},
   "outputs": [
    {
     "name": "stdout",
     "output_type": "stream",
     "text": [
      "intercept: [-1.05778598] coeficient: [[1.27219426]]\n",
      "the prob for AHD for men is: [0.55339767]\n",
      "the prob for AHD for women is: [0.25773278]\n",
      "[-1.05778598]\n"
     ]
    },
    {
     "data": {
      "text/plain": [
       "array([[1.27219426]])"
      ]
     },
     "execution_count": 253,
     "metadata": {},
     "output_type": "execute_result"
    },
    {
     "data": {
      "image/png": "[encoded data removed]",
      "text/plain": [
       "<Figure size 432x288 with 1 Axes>"
      ]
     },
     "metadata": {
      "needs_background": "light"
     },
     "output_type": "display_data"
    }
   ],
   "source": [
    "data_x2 = df_heart[['Sex']]\n",
    "logit2 =  LogisticRegression(penalty=\"none\", fit_intercept=True).fit(data_x2, data_y)\n",
    "print('intercept:', logit2.intercept_,'coeficient:', logit2.coef_)\n",
    "\n",
    "x2dummy = np.linspace(np.min(data_x2),np.max(data_x2))\n",
    "pred_men = logit2.predict_proba(x2dummy)[:,1]\n",
    "# fit the model and print out the coefficient estimates\n",
    "plt.plot(x2dummy,[0.5]*len(x2dummy))\n",
    "# create an np.array with just a single 0 or 1 in it, reshape it, and use it to do the predictions\n",
    "plt.plot(x2dummy,pred_men)\n",
    "plt.scatter(data_x2,data_y)\n",
    "\n",
    "print('the prob for AHD for men is:',logit2.predict_proba([[1]])[:,1])\n",
    "print('the prob for AHD for women is:',str(logit2.predict_proba([[0]])[:,1]))\n",
    "\n",
    "print(logit2.intercept_)\n",
    "logit2.coef_"
   ]
  },
  {
   "cell_type": "code",
   "execution_count": 157,
   "metadata": {},
   "outputs": [
    {
     "data": {
      "text/plain": [
       "array([0.55339767])"
      ]
     },
     "execution_count": 157,
     "metadata": {},
     "output_type": "execute_result"
    }
   ],
   "source": [
    "logit2.predict_proba([[1]])[:,1]"
   ]
  },
  {
   "cell_type": "code",
   "execution_count": null,
   "metadata": {},
   "outputs": [],
   "source": [
    "# observed proportions"
   ]
  },
  {
   "cell_type": "markdown",
   "metadata": {},
   "source": [
    "**Q2.2** Fit two more logistic regression models:\n",
    "- `logit3` to predict `AHD` from `Sex` and `Age`.  \n",
    "- `logit4` to predict `AHD` from `Sex` and `Age` and the interaction between the two predictors.\n",
    "\n",
    "What is the difference betwen these two modeling choices (aka, what does the interaction term allow for)?  "
   ]
  },
  {
   "cell_type": "code",
   "execution_count": 336,
   "metadata": {},
   "outputs": [
    {
     "ename": "SyntaxError",
     "evalue": "can't assign to function call (<ipython-input-336-822d746a2d56>, line 1)",
     "output_type": "error",
     "traceback": [
      "\u001b[1;36m  File \u001b[1;32m\"<ipython-input-336-822d746a2d56>\"\u001b[1;36m, line \u001b[1;32m1\u001b[0m\n\u001b[1;33m    df_heart('Sex_Age') = df_heart['Sex']*df_heart['Age']\u001b[0m\n\u001b[1;37m                                                         ^\u001b[0m\n\u001b[1;31mSyntaxError\u001b[0m\u001b[1;31m:\u001b[0m can't assign to function call\n"
     ]
    }
   ],
   "source": [
    "\n",
    "\n",
    "x_sex = df_heart['Sex']\n",
    "x_age = df_heart['Age']\n",
    "testtt=np.array([x_sex,x_age]).reshape(-1,2)\n",
    "yoyo = sm.tools.tools.add_constant(testtt)\n",
    "df_heart[['Sex','Age']]\n",
    "np.shape(testtt)"
   ]
  },
  {
   "cell_type": "code",
   "execution_count": 337,
   "metadata": {},
   "outputs": [
    {
     "name": "stdout",
     "output_type": "stream",
     "text": [
      "the coefficients without interaction term are: [-4.80775552] [[1.49888219 0.06571155]]\n",
      "the coefficients with interaction term are: [-4.27422447] [[0.77549284 0.05653821 0.01272526]]\n"
     ]
    }
   ],
   "source": [
    "\n",
    "# create the single interaction term\n",
    "df_heart['Sex_Age'] = df_heart['Sex']*df_heart['Age']\n",
    "#fit the models\n",
    "logit3 =  LogisticRegression(penalty=\"none\", fit_intercept=True).fit(df_heart[['Sex','Age']], data_y)\n",
    "logit4 =  LogisticRegression(penalty=\"none\", fit_intercept=True).fit(df_heart[['Sex','Age','interaction_Sex_Age']], data_y)\n",
    "#print out the coefficients\n",
    "print('the coefficients without interaction term are:',logit3.intercept_, logit3.coef_)\n",
    "print('the coefficients with interaction term are:',logit4.intercept_, logit4.coef_)"
   ]
  },
  {
   "cell_type": "markdown",
   "metadata": {},
   "source": [
    "*your answer here*"
   ]
  },
  {
   "cell_type": "markdown",
   "metadata": {},
   "source": [
    "**Q2.3** From `logit4` plot the predicted probability of a heart attack as a function of age separately for females and males (2 separate curves).  What do you notice in these curves?"
   ]
  },
  {
   "cell_type": "code",
   "execution_count": 311,
   "metadata": {},
   "outputs": [
    {
     "name": "stderr",
     "output_type": "stream",
     "text": [
      "C:\\Users\\krist\\anaconda3\\envs\\cs109a\\lib\\site-packages\\numpy\\core\\fromnumeric.py:2580: FutureWarning: Method .ptp is deprecated and will be removed in a future version. Use numpy.ptp instead.\n",
      "  return ptp(axis=axis, out=out, **kwargs)\n"
     ]
    },
    {
     "data": {
      "text/plain": [
       "<matplotlib.collections.LineCollection at 0x1245f684788>"
      ]
     },
     "execution_count": 311,
     "metadata": {},
     "output_type": "execute_result"
    },
    {
     "data": {
      "image/png": "[encoded data removed]",
      "text/plain": [
       "<Figure size 432x288 with 1 Axes>"
      ]
     },
     "metadata": {
      "needs_background": "light"
     },
     "output_type": "display_data"
    }
   ],
   "source": [
    "# logit4.predict(sm.add_constant(dummy_x))\n",
    "ddd= pd.DataFrame(sm.add_constant(dummy_x))\n",
    "ddd[2]=ddd[0]\n",
    "dddNull= ddd.copy\n",
    "dddNull=pd.DataFrame(ddd,copy=True)\n",
    "dddNull[0]=0\n",
    "dddNull[2]=0\n",
    "dddNull\n",
    "# ddd\n",
    "# logit4.coef_[0][1]\n",
    "plt.plot(dummy_x, logit4.predict_proba(sm.add_constant(ddd))[:,1])\n",
    "plt.plot(dummy_x, logit4.predict_proba(dddNull)[:,1])\n",
    "plt.scatter(df_heart['Age'], df_heart['AHD'], alpha=0.2, label='Data')\n",
    "plt.hlines(0.5,xmin=np.min(df_heart['Age'])-1,xmax=np.max(df_heart['Age'])+1,linestyle=\"dashed\")"
   ]
  },
  {
   "cell_type": "code",
   "execution_count": 312,
   "metadata": {},
   "outputs": [
    {
     "data": {
      "text/plain": [
       "<matplotlib.collections.PathCollection at 0x1245fdc7808>"
      ]
     },
     "execution_count": 312,
     "metadata": {},
     "output_type": "execute_result"
    },
    {
     "data": {
      "image/png": "[encoded data removed]",
      "text/plain": [
       "<Figure size 432x288 with 1 Axes>"
      ]
     },
     "metadata": {
      "needs_background": "light"
     },
     "output_type": "display_data"
    }
   ],
   "source": [
    "# dummy_x = np.arange(np.min(df_heart['Age'])-1,np.max(df_heart['Age'])+1,0.5)\n",
    "plt.plot(dummy_x, logit3.predict_proba(sm.add_constant(dummy_x))[:,1])\n",
    "plt.scatter(df_heart['Age'], df_heart['AHD'], alpha=0.2, label='Data')"
   ]
  },
  {
   "cell_type": "code",
   "execution_count": 282,
   "metadata": {
    "scrolled": true
   },
   "outputs": [
    {
     "data": {
      "image/png": "[encoded data removed]",
      "text/plain": [
       "<Figure size 432x288 with 1 Axes>"
      ]
     },
     "metadata": {
      "needs_background": "light"
     },
     "output_type": "display_data"
    }
   ],
   "source": [
    "dummy_x = np.arange(np.min(df_heart['Age'])-1,np.max(df_heart['Age'])+1,0.5)\n",
    "yhat_female = (logit4.intercept_[0])+(logit4.coef_[0][1])*dummy_x\n",
    "yhat_male = (logit4.intercept_[0])+(logit4.coef_[0][1])*dummy_x\n",
    "\n",
    "# plt.hlines(0.3)\n",
    "\n",
    "plt.scatter(df_heart['Age'], df_heart['AHD'], alpha=0.2, label='Data')\n",
    "plt.plot(dummy_x,1/(1+np.exp(-yhat_female)),label=\"females\")\n",
    "plt.plot(dummy_x,1/(1+np.exp(-yhat_male)),label=\"males\")\n",
    "plt.hlines(0.5,xmin=np.min(df_heart['Age'])-1,xmax=np.max(df_heart['Age'])+1,linestyle=\"dashed\")\n",
    "plt.legend()\n",
    "plt.show()"
   ]
  },
  {
   "cell_type": "markdown",
   "metadata": {},
   "source": [
    "*your answer here*"
   ]
  },
  {
   "cell_type": "markdown",
   "metadata": {},
   "source": [
    "**Q2.5** Using `logit4`, at what ages will males be predicted to have a heart attack in a classification?  At what ages will females be predicted to have a heart attack?  Justify based on the plot above."
   ]
  },
  {
   "cell_type": "code",
   "execution_count": 329,
   "metadata": {},
   "outputs": [
    {
     "data": {
      "text/plain": [
       "0.06926346917815795"
      ]
     },
     "execution_count": 329,
     "metadata": {},
     "output_type": "execute_result"
    }
   ],
   "source": [
    "sum(logit4.coef_[0][1:3])\n",
    "# logit4.coef_"
   ]
  },
  {
   "cell_type": "code",
   "execution_count": 331,
   "metadata": {
    "scrolled": true
   },
   "outputs": [
    {
     "data": {
      "text/plain": [
       "50.513375665243"
      ]
     },
     "execution_count": 331,
     "metadata": {},
     "output_type": "execute_result"
    }
   ],
   "source": [
    "######\n",
    "# your code here\n",
    "######\n",
    "# print(logit4.coef_)\n",
    "logit4.intercept_\n",
    "Xclass_age = -(logit4.intercept_[0]+logit4.coef_[0][0])/sum(logit4.coef_[0][1:3])\n",
    "Xclass_age\n",
    "\n"
   ]
  },
  {
   "cell_type": "markdown",
   "metadata": {},
   "source": [
    "*your answer here*\n"
   ]
  },
  {
   "cell_type": "markdown",
   "metadata": {},
   "source": [
    "---"
   ]
  },
  {
   "cell_type": "markdown",
   "metadata": {},
   "source": [
    "## Part 3: Classification Accuracy"
   ]
  },
  {
   "cell_type": "markdown",
   "metadata": {},
   "source": [
    "We split the relevant data into train and test (67-33 split) below for you.  Use this to help score several models we suggest below."
   ]
  },
  {
   "cell_type": "code",
   "execution_count": 338,
   "metadata": {},
   "outputs": [
    {
     "name": "stdout",
     "output_type": "stream",
     "text": [
      "(203, 8) (100, 8) (203,) (100,)\n"
     ]
    }
   ],
   "source": [
    "df_heart['Sex_MaxHR']=df_heart['Sex']*df_heart['MaxHR']\n",
    "df_heart['Age_MaxHR']=df_heart['Age']*df_heart['MaxHR']\n",
    "\n",
    "X_data = df_heart[['Sex','Age','MaxHR','RestBP','Chol','Sex_Age','Sex_MaxHR','Age_MaxHR']]\n",
    "y_data = df_heart['AHD']\n",
    "\n",
    "X_train, X_test, y_train, y_test = sk.model_selection.train_test_split(X_data, y_data, test_size=0.33, random_state=42)\n",
    "\n",
    "print(X_train.shape, X_test.shape, y_train.shape, y_test.shape)"
   ]
  },
  {
   "cell_type": "markdown",
   "metadata": {},
   "source": [
    "**Q3.1** Fit an 'unregularized' logistic regression model (`logit5`) to predict `AHD` from all the predictors in the training set.  Determine the misclassification rate in both the train and test sets."
   ]
  },
  {
   "cell_type": "code",
   "execution_count": 365,
   "metadata": {},
   "outputs": [
    {
     "data": {
      "text/html": [
       "<div>\n",
       "<style scoped>\n",
       "    .dataframe tbody tr th:only-of-type {\n",
       "        vertical-align: middle;\n",
       "    }\n",
       "\n",
       "    .dataframe tbody tr th {\n",
       "        vertical-align: top;\n",
       "    }\n",
       "\n",
       "    .dataframe thead th {\n",
       "        text-align: right;\n",
       "    }\n",
       "</style>\n",
       "<table border=\"1\" class=\"dataframe\">\n",
       "  <thead>\n",
       "    <tr style=\"text-align: right;\">\n",
       "      <th></th>\n",
       "      <th>True</th>\n",
       "      <th>False</th>\n",
       "    </tr>\n",
       "  </thead>\n",
       "  <tbody>\n",
       "    <tr>\n",
       "      <th>Positiv</th>\n",
       "      <td>58</td>\n",
       "      <td>32</td>\n",
       "    </tr>\n",
       "    <tr>\n",
       "      <th>Negativ</th>\n",
       "      <td>22</td>\n",
       "      <td>91</td>\n",
       "    </tr>\n",
       "  </tbody>\n",
       "</table>\n",
       "</div>"
      ],
      "text/plain": [
       "         True  False\n",
       "Positiv    58     32\n",
       "Negativ    22     91"
      ]
     },
     "execution_count": 365,
     "metadata": {},
     "output_type": "execute_result"
    }
   ],
   "source": [
    "logit5 = LogisticRegression(penalty=\"none\", fit_intercept=True).fit(X_train, y_train)\n",
    "\n",
    "truePositive = logit5.predict(X_train)*y_train\n",
    "falsePositive = (1-logit5.predict(X_train))*y_train\n",
    "trueNegative = logit5.predict(X_train)*(1-y_train)\n",
    "falseNegative = (1-logit5.predict(X_train))*(1-y_train)\n",
    "tabell = [[np.sum(truePositive),np.sum(falsePositive)],[np.sum(trueNegative),np.sum(falseNegative)]]\n",
    "pd.DataFrame(tabell, index=['Positiv','Negativ'], columns=['True','False'])\n",
    "# np.sum(tabell)"
   ]
  },
  {
   "cell_type": "code",
   "execution_count": 376,
   "metadata": {},
   "outputs": [
    {
     "name": "stdout",
     "output_type": "stream",
     "text": [
      "Overall misclassification rate in train: 0.2660098522167488\n"
     ]
    },
    {
     "data": {
      "text/plain": [
       "0.4273504273504274"
      ]
     },
     "execution_count": 376,
     "metadata": {},
     "output_type": "execute_result"
    }
   ],
   "source": [
    "print(\"Overall misclassification rate in train:\",1-logit5.score(X_train, y_train))\n",
    "1-(np.sum(truePositive)+np.sum(trueNegative))/(np.sum(tabell))\n",
    "1/2.34"
   ]
  },
  {
   "cell_type": "markdown",
   "metadata": {},
   "source": [
    "**Q3.2** Fit a 'regularized' logistic regression model (`logit6`) to predict `AHD` from all the predictors in the training set (with `C=0.001`).  Compare the coefficient estimates in `logit6` to `logit5`, and determine the misclassification rate in both the train and test sets.  How have things changed?"
   ]
  },
  {
   "cell_type": "code",
   "execution_count": 383,
   "metadata": {},
   "outputs": [
    {
     "name": "stdout",
     "output_type": "stream",
     "text": [
      "coefficients for logit6: [[ 6.06488303e-04 -1.35651351e-03 -4.20434233e-02  1.57786995e-02\n",
      "   7.29108428e-03  3.25358386e-02 -5.04632902e-05  1.35226387e-04]]\n",
      "coefficients for logit5: [[ 0.00131957 -0.02639231 -0.04473323  0.02000722  0.00816757  0.04997107\n",
      "  -0.00586439  0.00025235]]\n",
      "intercept is more negative in logit 5, while the coeficcientes are rather similar, but different\n"
     ]
    }
   ],
   "source": [
    "logit6 = LogisticRegression(C=0.001, fit_intercept=True).fit(X_train, y_train)\n",
    "# print('intercept for logit6:',logit6.intercept_)\n",
    "print('coefficients for logit6:',logit6.coef_)\n",
    "# print('intercept for logit5:',logit5.intercept_)\n",
    "print('coefficients for logit5:',logit5.coef_)\n",
    "print('intercept is more negative in logit 5, while the coeficcientes are rather similar, but different')\n"
   ]
  },
  {
   "cell_type": "markdown",
   "metadata": {},
   "source": [
    "*your answer here*"
   ]
  },
  {
   "cell_type": "markdown",
   "metadata": {},
   "source": [
    "**Q3.3** Calculate the confusion tables in the test set for `logit5` when the cut-off is the typical 0.5 and when it is 0.8.  Calculate the sensitivity and specificity of this classification algorithm fior each of these cut-offs.\n",
    "Hint:  [sk.metrics.confusion_matrix](https://scikit-learn.org/stable/modules/generated/sklearn.metrics.confusion_matrix.html) will be useful for this task."
   ]
  },
  {
   "cell_type": "code",
   "execution_count": 399,
   "metadata": {},
   "outputs": [
    {
     "name": "stdout",
     "output_type": "stream",
     "text": [
      "The average predicted probability is 0.491120102059533\n",
      "0.5: \n",
      " [[37 14]\n",
      " [18 31]]\n",
      "0.8:\n",
      " [[49  2]\n",
      " [34 15]]\n"
     ]
    }
   ],
   "source": [
    "from sklearn.metrics import confusion_matrix\n",
    "yhat_test_logit5 = logit5.predict_proba(X_test)[:,1]\n",
    "print('The average predicted probability is',np.mean(yhat_test_logit5))\n",
    "\n",
    "print('0.5: \\n',confusion_matrix(y_test, yhat_test_logit5>0.5))\n",
    "print('0.8:\\n',confusion_matrix(y_test, yhat_test_logit5>0.8))\n",
    "      \n",
    "######\n",
    "# your code here\n",
    "######\n",
    "\n"
   ]
  },
  {
   "cell_type": "markdown",
   "metadata": {},
   "source": [
    "The ROC curve for `logit5` is shown below using `sk.metrics.roc_curve`"
   ]
  },
  {
   "cell_type": "code",
   "execution_count": 400,
   "metadata": {},
   "outputs": [
    {
     "ename": "NameError",
     "evalue": "name 'yhat_test' is not defined",
     "output_type": "error",
     "traceback": [
      "\u001b[1;31m---------------------------------------------------------------------------\u001b[0m",
      "\u001b[1;31mNameError\u001b[0m                                 Traceback (most recent call last)",
      "\u001b[1;32m<ipython-input-400-91f7b65fcee4>\u001b[0m in \u001b[0;36m<module>\u001b[1;34m\u001b[0m\n\u001b[1;32m----> 1\u001b[1;33m \u001b[0mfpr\u001b[0m\u001b[1;33m,\u001b[0m \u001b[0mtpr\u001b[0m\u001b[1;33m,\u001b[0m \u001b[0mthresholds\u001b[0m \u001b[1;33m=\u001b[0m \u001b[0msk\u001b[0m\u001b[1;33m.\u001b[0m\u001b[0mmetrics\u001b[0m\u001b[1;33m.\u001b[0m\u001b[0mroc_curve\u001b[0m\u001b[1;33m(\u001b[0m\u001b[0my_test\u001b[0m\u001b[1;33m,\u001b[0m \u001b[0myhat_test\u001b[0m\u001b[1;33m)\u001b[0m\u001b[1;33m\u001b[0m\u001b[1;33m\u001b[0m\u001b[0m\n\u001b[0m\u001b[0;32m      2\u001b[0m \u001b[1;33m\u001b[0m\u001b[0m\n\u001b[0;32m      3\u001b[0m \u001b[0mx\u001b[0m\u001b[1;33m=\u001b[0m\u001b[0mnp\u001b[0m\u001b[1;33m.\u001b[0m\u001b[0marange\u001b[0m\u001b[1;33m(\u001b[0m\u001b[1;36m0\u001b[0m\u001b[1;33m,\u001b[0m\u001b[1;36m100\u001b[0m\u001b[1;33m)\u001b[0m\u001b[1;33m/\u001b[0m\u001b[1;36m100\u001b[0m\u001b[1;33m\u001b[0m\u001b[1;33m\u001b[0m\u001b[0m\n\u001b[0;32m      4\u001b[0m \u001b[0mplt\u001b[0m\u001b[1;33m.\u001b[0m\u001b[0mplot\u001b[0m\u001b[1;33m(\u001b[0m\u001b[0mx\u001b[0m\u001b[1;33m,\u001b[0m\u001b[0mx\u001b[0m\u001b[1;33m,\u001b[0m\u001b[1;34m'--'\u001b[0m\u001b[1;33m,\u001b[0m\u001b[0mcolor\u001b[0m\u001b[1;33m=\u001b[0m\u001b[1;34m\"gray\"\u001b[0m\u001b[1;33m,\u001b[0m\u001b[0malpha\u001b[0m\u001b[1;33m=\u001b[0m\u001b[1;36m0.3\u001b[0m\u001b[1;33m)\u001b[0m\u001b[1;33m\u001b[0m\u001b[1;33m\u001b[0m\u001b[0m\n\u001b[0;32m      5\u001b[0m \u001b[0mplt\u001b[0m\u001b[1;33m.\u001b[0m\u001b[0mplot\u001b[0m\u001b[1;33m(\u001b[0m\u001b[0mfpr\u001b[0m\u001b[1;33m,\u001b[0m\u001b[0mtpr\u001b[0m\u001b[1;33m)\u001b[0m\u001b[1;33m\u001b[0m\u001b[1;33m\u001b[0m\u001b[0m\n",
      "\u001b[1;31mNameError\u001b[0m: name 'yhat_test' is not defined"
     ]
    }
   ],
   "source": [
    "fpr, tpr, thresholds = sk.metrics.roc_curve(y_test, yhat_test)\n",
    "\n",
    "x=np.arange(0,100)/100\n",
    "plt.plot(x,x,'--',color=\"gray\",alpha=0.3)\n",
    "plt.plot(fpr,tpr)\n",
    "plt.ylabel(\"True Positive Rate\")\n",
    "plt.xlabel(\"False Positive Rate\")\n",
    "plt.title(\"ROC Curve for Predicting AHD in a Logistic Regression Model\")\n",
    "plt.show()"
   ]
  },
  {
   "cell_type": "markdown",
   "metadata": {},
   "source": [
    "**Q3.4** For `logit6`, determine the predicted probabilties in test and calculate and print the ROC Curve for this model (it's helpful if you plot both ROC curves from `logit5` and `logit6` together)."
   ]
  },
  {
   "cell_type": "code",
   "execution_count": null,
   "metadata": {},
   "outputs": [],
   "source": [
    "######\n",
    "# your code here\n",
    "######\n"
   ]
  },
  {
   "cell_type": "markdown",
   "metadata": {},
   "source": [
    "**Q3.5** Use the ROC curves above to eyeball which of `logit5` and `logit6` is a better classification model based on Area Under the ROC Curve (AUC).  Then, calculate the actual AUC for these two models. \n",
    "\n",
    "Hint: use [sklearn.metrics.auc](https://scikit-learn.org/stable/modules/generated/sklearn.metrics.auc.html)"
   ]
  },
  {
   "cell_type": "code",
   "execution_count": null,
   "metadata": {},
   "outputs": [],
   "source": [
    "######\n",
    "# your code here\n",
    "######\n"
   ]
  },
  {
   "cell_type": "code",
   "execution_count": null,
   "metadata": {},
   "outputs": [],
   "source": [
    "*your answer here*"
   ]
  }
 ],
 "metadata": {
  "anaconda-cloud": {},
  "kernelspec": {
   "display_name": "Python 3",
   "language": "python",
   "name": "python3"
  },
  "language_info": {
   "codemirror_mode": {
    "name": "ipython",
    "version": 3
   },
   "file_extension": ".py",
   "mimetype": "text/x-python",
   "name": "python",
   "nbconvert_exporter": "python",
   "pygments_lexer": "ipython3",
   "version": "3.7.10"
  }
 },
 "nbformat": 4,
 "nbformat_minor": 1
}
