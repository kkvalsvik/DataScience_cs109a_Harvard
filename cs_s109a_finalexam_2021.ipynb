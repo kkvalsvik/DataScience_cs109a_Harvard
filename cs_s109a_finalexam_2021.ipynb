{
 "cells": [
  {
   "cell_type": "markdown",
   "metadata": {
    "button": false,
    "new_sheet": false,
    "run_control": {
     "read_only": false
    }
   },
   "source": [
    "# <img style=\"float: left; padding-right: 10px; width: 45px\" src=\"https://github.com/Harvard-IACS/2021-s109a/blob/master/lectures/crest.png?raw=true\"> CS-S109A Introduction to Data Science \n",
    "\n",
    "## Final Exam: COVID-19 Modeling\n",
    "\n",
    "**Harvard University**<br/>\n",
    "**Summer 2021**<br/>\n",
    "**Instructors**: Kevin Rader\n",
    "\n",
    "\n",
    "<hr style='height:2px'>\n",
    "\n",
    "---\n",
    "\n"
   ]
  },
  {
   "cell_type": "markdown",
   "metadata": {},
   "source": [
    "### INSTRUCTIONS\n",
    "\n",
    "- This final exam is to be completed indivudally.  Do not consult with your peers when working on it (you can aks the teaching staff for clarification questions, including private messages on Ed).\n",
    "- To submit your assignment follow the instructions given in Canvas.\n",
    "- Restart the kernel and run the whole notebook again before you submit. \n",
    "- As much as possible, try and stick to the hints and functions we import at the top of the homework, as those are the ideas and tools the class supports and is aiming to teach. And if a problem specifies a particular library you're required to use that library, and possibly others from the import list.\n",
    "- Please use .head() when viewing data. Do not submit a notebook that is excessively long because output was not suppressed or otherwise limited. \n",
    "\n",
    "**Note: for all problems, it is up to you to decide how to transform the data (standardization, log transformations, etc.).  Be sure you use and interpret theses transformations approporiately.**"
   ]
  },
  {
   "cell_type": "code",
   "execution_count": 2,
   "metadata": {},
   "outputs": [],
   "source": [
    "import numpy as np\n",
    "import pandas as pd\n",
    "import scipy as sp\n",
    "import sklearn as sk\n",
    "import statsmodels as sm\n",
    "import matplotlib.pyplot as plt\n",
    "import seaborn as sns\n",
    "\n",
    "# You are free to use any functions/methods within these packages (BS4, ELI5, and LIME are fine too)\n",
    "# if you would like to use any other, please contact hte teaching staff "
   ]
  },
  {
   "cell_type": "markdown",
   "metadata": {},
   "source": [
    "<hr style=\"height:2pt\">"
   ]
  },
  {
   "cell_type": "markdown",
   "metadata": {},
   "source": [
    "# Analyzing the recent spread of COVID-19 \n",
    "\n",
    "![](fig/vaccine.jpeg)"
   ]
  },
  {
   "cell_type": "markdown",
   "metadata": {},
   "source": [
    "You are tasked with using the COVID case and vaccination data across counties presented by the CDC to analyze the recent surge in COVID infections and the association with (amonth other predictors).  You are also tasked with building prediction models to forecast how the disease spread will change based on data from the previous week (and  demographic and other measures.\n",
    "\n",
    "The exam broken into 4 problems:\n",
    "- Problem 1: Data Wrangling and Explorations\n",
    "- Problem 2: Interpretive Linear Regression Modeling\n",
    "- Problem 3: Prediction Modeling\n",
    "- Problem 4: Further Analysis\n",
    "\n",
    "You are provided with four raw data files, and a 5th cleaned file is provided to be used for all EDA and modeling tasks."
   ]
  },
  {
   "cell_type": "markdown",
   "metadata": {},
   "source": [
    "The variables included in each of the four raw data sets are:\n",
    "\n",
    "For 'covid_cases_county.csv' (note: counties show up many times in this dataset: once for each data they report the number of cases):\n",
    "- `date`: the date of the measurement, taken weekly\n",
    "- `county`: county name\n",
    "- `state`: the state in which the county lies\n",
    "- `fips`: the unique Federal Information Processing System (FIPS) codes for the county\n",
    "- `cases`: the cumulative number of confirmed positive cases up to and including that date\n",
    "- `deaths`: the cumulative number of confirmed COVID-related deaths up to and including that date\n",
    "\n",
    "\n",
    "For 'vaccines_county.csv' (note: counties show up many times in this dataset: once for each data they report the number of cases):\n",
    "- `date`: the date of the measurement, taken weekly\n",
    "- `fips`: the unique FIPS code for the county\n",
    "- `fully`: the percent of residents that are fully vaccinated in the county on that date\n",
    "- `dose1`: the percent of residents that have received at least one vaccine dose in the county on that date.\n",
    "\n",
    "For 'masks_county.csv' (note: this is based on a survey conducted by the New York Times in summer of 2020):\n",
    "- `fips`: the unique FIPS code for the county\n",
    "- `never`: the percent of respondents that report they never wore masks in public\n",
    "- `rarely`: the percent of respondents that report they rarely wore masks in public\n",
    "- `sometimes`: the percent of respondents that report they sometimes wore masks in public\t\n",
    "- `frequently`: the percent of respondents that report they frequently wore masks in public\t\n",
    "- `always`: the percent of respondents that report they always wore masks in public\n",
    "\n",
    "For 'demographics_county.csv' (note: these are various measures taken from 2010 to 2020):\n",
    "- `fips`: the unique FIPS code for the county\n",
    "- `population`: total number of residents in the country\t\n",
    "- `hispanic`: the percentage of residents that self-identify as hispanic\n",
    "- `minority`: the percentage of residents that self-identify as a minority group (non-white)\n",
    "- `female`: the percentage of residents that self-identify as female\n",
    "- `unemployed`: the percentage of residents that are unemployed\n",
    "- `income`: the median household income, in thousnads of dollards\n",
    "- `nodegree`: the percentage of residents that report not having graduated high school\n",
    "- `bachelor`: the percentage of residents that report having a college degree\n",
    "- `inactivity`: the percentage of residents that get less than 1 hour of vigorous exercise a week\n",
    "- `obesity`: the percentage of residents that are considered obese based on BMI\n",
    "- `density`: the population density (residents per square mile)\n",
    "- `votergap20`: Biden voting percentage minus Trump voting percentage in the 2020 election\n",
    "- `votergap16`: Clinton voting percentage minus Trump voting percentage in the 2016 election\n",
    "\n",
    "\n",
    "### Data Sources\n",
    "- Vaccinations [here](https://data.cdc.gov/Vaccinations/COVID-19-Vaccinations-in-the-United-States-County/8xkx-amqh).\n",
    "- Cases [here](https://github.com/nytimes/covid-19-data).\n",
    "- Mask Usage [here](https://github.com/nytimes/covid-19-data/tree/master/mask-use).\n",
    "- Demographics [here](https://www.ers.usda.gov/data-products/county-level-data-sets/) \n",
    "- 2020 Election [here](https://dataverse.harvard.edu/dataset.xhtml?persistentId=doi:10.7910/DVN/VOQCHQ)\n",
    "\n"
   ]
  },
  {
   "cell_type": "markdown",
   "metadata": {},
   "source": [
    "## Question 1 [25pts]: Data Wrangling and Explorations </b></div>\n",
    "\n",
    "**1.1** Load the data sets as follows:\n",
    "- 'covid_cases_county.csv' as `covid_raw` \n",
    "- 'vaccines_county.csv' as `vaccines_raw`\n",
    "- 'masks_county.csv' as `masks`\n",
    "- 'demographics_county.csv' as `demo` \n",
    "\n",
    "**1.2** Create a subset of the `covid_raw` data frame that only contains the measures for 5 dates: June 27 and July 4, 11, 18 and 25.  Do the same for the `vaccines_raw`.  Call these subsets `covid` and `vaccines`, respectively, and print out their dimensions (aka, shapes).\n",
    "\n",
    "**1.3** Determine and print the number of counties that are measured for each time period in `covid` and `vaccines` (do not print out the list of counties, just the number/count).  Comment on what this implies for presence of missing data.\n",
    "\n",
    "**1.4** Process both `covid` and `vaccines` so that each county is represented by a single row in each data frame (rather than having 5 separate rows for each county: 1 for each time period in part 1.2).  Call these new generate Pandas data frames `covid_by_county` and `vaccines_by_county` separately.  Print out the dimensions of each resulting data frame, and view the header of `covid_by_county`.  Note: you should use informative names for the columns in the resulting data frames: for example, `cases_w30` for the cumulative number of cases on July 25 (it's the 30th week of the calendar year).\n",
    "\n",
    "**Hint**: Splitting based on dates and then using `pd.DataFrame.merge` (source)[https://pandas.pydata.org/docs/reference/api/pandas.DataFrame.merge.html] could be helpful for this task using the `fips` code as the keys to join on (you should drop any counties that are not measured in all time periods...the default argument for `how` in `pd.DataFrame.merge` will behave this way).\n",
    "\n",
    "**1.5** Merge the 4 data fames (`covid_by_county`, `vaccines_by_county`, `masks`, and `demo`) based on `fips` and save the result as `covid_merged` (you should drop any counties that are not measured in all 4 data frames).  Determine and report how many counties were dropped from `demo` in this process, and view the header of `covid_merged`.\n",
    "\n",
    "**1.6** Use `covid_merged` to calculate the novel case rate (per 1000 residents) for each of the weeks for all of the counties, and save these as 4 new well-named variables in `covid_merged`.  For example, `rate_w30` can mathematically be represented as `1000*(cases_30-cases_29)/population`.  Plot the histogram of the novel case rate in week 29, `rate_w29`, and comment on what you notice.\n",
    "\n",
    "**1.7** We did the steps above (and some other minimal processing) and saved the results in `covid_clean.csv` for you.  Use this data file to answer some exploratory questions and all future analyses: \n",
    "\n",
    "1. Has the overall average case rate increased from week 28 (July 5-11) to week 29 (July 12-18)?  \n",
    "2. Treating the counties as separate and equal observations: in what states did the case rate increase the most?  In what states did the case rate decrease the most (or increse the least)?  List the top 5 for each.  Do you notice any patterns in these states?\n",
    "3. Create and interpret separate visuals to display how the country case rate in week 29 relates to each of the following variables. Interpret what you see (be specific to this domain).\n",
    "\n",
    "    a. The political views in the county (as measured by the votergap in the 2020 election).\n",
    "    \n",
    "    b. The vaccination rate in the county (for week 28) (be sure to throw away the zeros as these represent unreported values).\n",
    "    \n",
    "    c. The population density of the county.\n",
    "    \n",
    "    d. Whether 50% or more of the surveyed residents in the county report that they always wore a mask in public at the time of the survey."
   ]
  },
  {
   "cell_type": "markdown",
   "metadata": {},
   "source": [
    "## Answers"
   ]
  },
  {
   "cell_type": "markdown",
   "metadata": {},
   "source": [
    "**1.1** Load the data sets as follows:\n",
    "- 'covid_cases_county.csv' as `covid_raw` \n",
    "- 'vaccines_county.csv' as `vaccines_raw`\n",
    "- 'masks_county.csv' as `masks`\n",
    "- 'demographics_county.csv' as `demo` \n",
    "\n",
    "Print out each of their dimensions (aka, shapes)."
   ]
  },
  {
   "cell_type": "code",
   "execution_count": 3,
   "metadata": {},
   "outputs": [
    {
     "name": "stdout",
     "output_type": "stream",
     "text": [
      "The shape of covid_raw is (97394, 6)\n",
      "The shape of vaccines_raw is (96720, 4)\n",
      "The shape of masks is (3142, 6)\n",
      "The shape of demo is (3114, 14)\n"
     ]
    }
   ],
   "source": [
    "# Saving data sets\n",
    "covid_raw = pd.read_csv('data/covid_cases_county.csv')\n",
    "vaccines_raw = pd.read_csv('data/vaccines_county.csv')\n",
    "masks = pd.read_csv('data/masks_county.csv')\n",
    "demo = pd.read_csv('data/demographics_county.csv')\n",
    "\n",
    "# Printing dimentions\n",
    "print(f'The shape of covid_raw is {covid_raw.shape}')\n",
    "print(f'The shape of vaccines_raw is {vaccines_raw.shape}')\n",
    "print(f'The shape of masks is {masks.shape}')\n",
    "print(f'The shape of demo is {demo.shape}')"
   ]
  },
  {
   "cell_type": "markdown",
   "metadata": {},
   "source": [
    "**1.2** Create a subset of the `covid_raw` data frame that only contains the measures for 5 dates: June 27 and July 4, 11, 18 and 25.  Do the same for the `vaccines_raw`.  Call these subsets `covid` and `vaccines`, respectively, and print out their dimensions (aka, shapes).\n"
   ]
  },
  {
   "cell_type": "code",
   "execution_count": 4,
   "metadata": {},
   "outputs": [],
   "source": [
    "# Creating a subset for specified dates:\n",
    "covid = covid_raw[(covid_raw['date']=='2021-06-27') | \n",
    "                  (covid_raw['date']=='2021-07-04') | \n",
    "                  (covid_raw['date']=='2021-07-11') |\n",
    "                  (covid_raw['date']=='2021-07-18') | \n",
    "                  (covid_raw['date']=='2021-07-25')]"
   ]
  },
  {
   "cell_type": "code",
   "execution_count": 5,
   "metadata": {},
   "outputs": [
    {
     "name": "stdout",
     "output_type": "stream",
     "text": [
      "The shape of covid is (16227, 6)\n",
      "The shape of vaccines is (16120, 4)\n"
     ]
    }
   ],
   "source": [
    "# Doing the same for vaccines_raw:\n",
    "vaccines = vaccines_raw[(vaccines_raw['date']=='2021-06-27') | \n",
    "                  (vaccines_raw['date']=='2021-07-04') | \n",
    "                  (vaccines_raw['date']=='2021-07-11') |\n",
    "                  (vaccines_raw['date']=='2021-07-18') | \n",
    "                  (vaccines_raw['date']=='2021-07-25')]\n",
    "\n",
    "# Printing dimentions\n",
    "print(f'The shape of covid is {covid.shape}')\n",
    "print(f'The shape of vaccines is {vaccines.shape}')\n",
    "# vaccines"
   ]
  },
  {
   "cell_type": "markdown",
   "metadata": {},
   "source": [
    "**1.3** Determine and print the number of counties that are measured for each time period in `covid` and `vaccines` (do not print out the list of counties, just the number/count).  Comment on what this implies for presence of missing data.\n"
   ]
  },
  {
   "cell_type": "code",
   "execution_count": null,
   "metadata": {},
   "outputs": [],
   "source": []
  },
  {
   "cell_type": "code",
   "execution_count": null,
   "metadata": {},
   "outputs": [],
   "source": []
  },
  {
   "cell_type": "code",
   "execution_count": 6,
   "metadata": {},
   "outputs": [
    {
     "name": "stdout",
     "output_type": "stream",
     "text": [
      "The number of counties in the covid set is:\n",
      " 3218 at date 2021-06-27\n",
      " 3218 at date 2021-07-04\n",
      " 3218 at date 2021-07-11\n",
      " 3218 at date 2021-07-18\n",
      " 3218 at date 2021-07-25\n"
     ]
    }
   ],
   "source": [
    "# There are many cointies names that appears in several states. Therefore we need to use the fips column to identify the \n",
    "#number of unique counties for both sets.\n",
    "\n",
    "# Printing the number of counties for each date in covid, incase one date has less counties:\n",
    "dates = ['2021-06-27','2021-07-04','2021-07-11','2021-07-18','2021-07-25']\n",
    "print('The number of counties in the covid set is:')\n",
    "for d in dates:\n",
    "    nrCounties = len(covid.fips[covid['date']==d].value_counts())  \n",
    "    print(f' {nrCounties} at date {d}')\n",
    "# Choosing not to remove null values yet, and using value_counts to get the number of real values for fips."
   ]
  },
  {
   "cell_type": "code",
   "execution_count": 7,
   "metadata": {},
   "outputs": [
    {
     "name": "stdout",
     "output_type": "stream",
     "text": [
      "The number of counties in the vaccines set is:\n",
      " 3224 at date 2021-06-27\n",
      " 3224 at date 2021-07-04\n",
      " 3224 at date 2021-07-11\n",
      " 3224 at date 2021-07-18\n",
      " 3224 at date 2021-07-25\n"
     ]
    }
   ],
   "source": [
    "# The number of counties in vaccines:\n",
    "print('The number of counties in the vaccines set is:')\n",
    "for d in dates:\n",
    "    nrFips = len(vaccines.fips[vaccines['date']==d].value_counts())\n",
    "    print(f' {nrFips} at date {d}')"
   ]
  },
  {
   "attachments": {},
   "cell_type": "markdown",
   "metadata": {},
   "source": [
    "##### Answer 1.3:\n",
    "The vaccines set has 3224 counties while covid has 3218.\n",
    "This is because the data sets are also including counties in Puerto Rico, Virgin Islands, Northern Mariana and Guam. If you were to only count the 50 states of US you would get 3218-83= 3135 counties for the covid set and 3224-82= 3142 counties in the vaccines set. The number for the vaccines set is almost the same as wikipedias number of counties for the 50 states of US (3143 in 2020), while the covid set is missing 7 more counties. Three of the missing counties have the state column filled, and can be identified as York City, Cansas City and Joplin. These should be added in if we want to use this for prediction or EDA, especially New York City because of its large population. However, I am not doing that here, because the task is not asking for cleaning of the data."
   ]
  },
  {
   "cell_type": "markdown",
   "metadata": {},
   "source": [
    "**1.4** Process both `covid` and `vaccines` so that each county is represented by a single row in each data frame (rather than having 5 separate rows for each county: 1 for each time period in part 1.2).  Call these new generate Pandas data frames `covid_by_county` and `vaccines_by_county` separately.  Print out the dimensions of each resulting data frame, and view the header of `covid_by_county`.  Note: you should use informative names for the columns in the resulting data frames: for example, `cases_w30` for the cumulative number of cases on July 25 (it's the 30th week of the calendar year).\n",
    "\n",
    "**Hint**: Splitting based on dates and then using `pd.DataFrame.merge` (source)[https://pandas.pydata.org/docs/reference/api/pandas.DataFrame.merge.html] could be helpful for this task using the `fips` code as the keys to join on (you should drop any counties that are not measured in all time periods...the default argument for `how` in `pd.DataFrame.merge` will behave this way).\n",
    "\n",
    "\n"
   ]
  },
  {
   "cell_type": "code",
   "execution_count": 8,
   "metadata": {},
   "outputs": [
    {
     "name": "stdout",
     "output_type": "stream",
     "text": [
      "The shape of vaccines_by_county is (3223, 11)\n"
     ]
    }
   ],
   "source": [
    "# Splitting the dataset into separate ones for each week:\n",
    "w26 = vaccines[vaccines['date']=='2021-06-27'].dropna()\n",
    "w27 = vaccines[vaccines['date']=='2021-07-04'].dropna()\n",
    "w28 = vaccines[vaccines['date']=='2021-07-11'].dropna()\n",
    "w29 = vaccines[vaccines['date']=='2021-07-18'].dropna()\n",
    "w30 = vaccines[vaccines['date']=='2021-07-25'].dropna()\n",
    "\n",
    "vaccines_by_county = w26.merge(w27.merge(w28.merge(w29.merge(w30,on='fips'),on='fips'),on='fips'),on='fips')\n",
    "vaccines_by_county.pop('date') # Removing all date columns, since the week number is the new index\n",
    "vaccines_by_county.pop('date_x')\n",
    "vaccines_by_county.pop('date_y')\n",
    "vaccines_by_county.columns = ['fips', 'fully_w26','dose1_w26','fully_w27','dose1_w27',\n",
    "              'fully_w28','dose1_w28','fully_w29','dose1_w29','fully_w30','dose1_w30']\n",
    "\n",
    "print(f'The shape of vaccines_by_county is {vaccines_by_county.shape}')\n",
    "# vaccines_by_county.tail(50)"
   ]
  },
  {
   "cell_type": "code",
   "execution_count": 9,
   "metadata": {},
   "outputs": [
    {
     "name": "stdout",
     "output_type": "stream",
     "text": [
      "The shape of vaccines_by_county is (3223, 11)\n",
      "The shape of covid_by_county is (3140, 13)\n"
     ]
    },
    {
     "data": {
      "text/html": [
       "<div>\n",
       "<style scoped>\n",
       "    .dataframe tbody tr th:only-of-type {\n",
       "        vertical-align: middle;\n",
       "    }\n",
       "\n",
       "    .dataframe tbody tr th {\n",
       "        vertical-align: top;\n",
       "    }\n",
       "\n",
       "    .dataframe thead th {\n",
       "        text-align: right;\n",
       "    }\n",
       "</style>\n",
       "<table border=\"1\" class=\"dataframe\">\n",
       "  <thead>\n",
       "    <tr style=\"text-align: right;\">\n",
       "      <th></th>\n",
       "      <th>county</th>\n",
       "      <th>state</th>\n",
       "      <th>fips</th>\n",
       "      <th>cases_w26</th>\n",
       "      <th>deaths_w26</th>\n",
       "      <th>cases_w27</th>\n",
       "      <th>deaths_w27</th>\n",
       "      <th>cases_w28</th>\n",
       "      <th>deaths_w28</th>\n",
       "      <th>cases_w29</th>\n",
       "      <th>deaths_w29</th>\n",
       "      <th>cases_w30</th>\n",
       "      <th>deaths_w30</th>\n",
       "    </tr>\n",
       "  </thead>\n",
       "  <tbody>\n",
       "  </tbody>\n",
       "</table>\n",
       "</div>"
      ],
      "text/plain": [
       "Empty DataFrame\n",
       "Columns: [county, state, fips, cases_w26, deaths_w26, cases_w27, deaths_w27, cases_w28, deaths_w28, cases_w29, deaths_w29, cases_w30, deaths_w30]\n",
       "Index: []"
      ]
     },
     "execution_count": 9,
     "metadata": {},
     "output_type": "execute_result"
    }
   ],
   "source": [
    "# Same for the covid set:\n",
    "c26 = covid[covid['date']=='2021-06-27'].dropna()\n",
    "c27 = covid[covid['date']=='2021-07-04'].dropna()\n",
    "c28 = covid[covid['date']=='2021-07-11'].dropna()\n",
    "c29 = covid[covid['date']=='2021-07-18'].dropna()\n",
    "c30 = covid[covid['date']=='2021-07-25'].dropna()\n",
    "\n",
    "covid_by_county=c26.merge(c27.merge(c28.merge(c29.merge(c30,on='fips'),on='fips'),on='fips'),on='fips')\n",
    "covid_by_county.pop('date') # Removing all date columns, since the week number is the new index.\n",
    "covid_by_county.pop('date_x')\n",
    "covid_by_county.pop('date_y')\n",
    "covid_by_county.pop('state_x')\n",
    "covid_by_county.pop('state_y')\n",
    "covid_by_county.pop('county_x')\n",
    "covid_by_county.pop('county_y');\n",
    "covid_by_county.columns = ['county','state','fips','cases_w26','deaths_w26','cases_w27', \n",
    "        'deaths_w27', 'cases_w28', 'deaths_w28', 'cases_w29', 'deaths_w29', 'cases_w30', 'deaths_w30']\n",
    "\n",
    "print(f'The shape of vaccines_by_county is {vaccines_by_county.shape}')\n",
    "print(f'The shape of covid_by_county is {covid_by_county.shape}')\n",
    "covid_by_county.head(0)"
   ]
  },
  {
   "attachments": {},
   "cell_type": "markdown",
   "metadata": {},
   "source": [
    "##### Answer 1.4:\n",
    "Some counties, including all the counties from Puerto Rico and Guam has been dropped from the covid_by_county set because there were missing values, while the vaccines_by_county kept most counties. In this task I could have added in the county codes for York City, Cansas City and Joplin, which would have given other shapes of the data from here and onwards. I am choosing to not do that here as well, since it is not specified in the excercise."
   ]
  },
  {
   "cell_type": "markdown",
   "metadata": {},
   "source": [
    "**1.5** Merge the 4 data fames (`covid_by_county`, `vaccines_by_county`, `masks`, and `demo`) based on `fips` and save the result as `covid_merged` (you should drop any counties that are not measured in all 4 data frames).  Determine and report how many counties were dropped from `demo` in this process, and view the header of `covid_merged`.\n",
    "\n"
   ]
  },
  {
   "cell_type": "code",
   "execution_count": 10,
   "metadata": {},
   "outputs": [
    {
     "name": "stdout",
     "output_type": "stream",
     "text": [
      "Demo initially includes 3114 counties, and no NaN values.\n"
     ]
    }
   ],
   "source": [
    "# First checking the current status of demo for my own sanity.\n",
    "demo.shape\n",
    "len(demo.fips.value_counts())\n",
    "np.sum(demo.isnull())\n",
    "print('Demo initially includes 3114 counties, and no NaN values.')"
   ]
  },
  {
   "cell_type": "code",
   "execution_count": 11,
   "metadata": {},
   "outputs": [
    {
     "name": "stdout",
     "output_type": "stream",
     "text": [
      "There are 6 columns that were dropped from demo because they were not measured in all data frames.\n"
     ]
    },
    {
     "data": {
      "text/html": [
       "<div>\n",
       "<style scoped>\n",
       "    .dataframe tbody tr th:only-of-type {\n",
       "        vertical-align: middle;\n",
       "    }\n",
       "\n",
       "    .dataframe tbody tr th {\n",
       "        vertical-align: top;\n",
       "    }\n",
       "\n",
       "    .dataframe thead th {\n",
       "        text-align: right;\n",
       "    }\n",
       "</style>\n",
       "<table border=\"1\" class=\"dataframe\">\n",
       "  <thead>\n",
       "    <tr style=\"text-align: right;\">\n",
       "      <th></th>\n",
       "      <th>county</th>\n",
       "      <th>state</th>\n",
       "      <th>fips</th>\n",
       "      <th>cases_w26</th>\n",
       "      <th>deaths_w26</th>\n",
       "      <th>cases_w27</th>\n",
       "      <th>deaths_w27</th>\n",
       "      <th>cases_w28</th>\n",
       "      <th>deaths_w28</th>\n",
       "      <th>cases_w29</th>\n",
       "      <th>...</th>\n",
       "      <th>female</th>\n",
       "      <th>unemployed</th>\n",
       "      <th>income</th>\n",
       "      <th>nodegree</th>\n",
       "      <th>bachelor</th>\n",
       "      <th>inactivity</th>\n",
       "      <th>obesity</th>\n",
       "      <th>density</th>\n",
       "      <th>votergap20</th>\n",
       "      <th>votergap16</th>\n",
       "    </tr>\n",
       "  </thead>\n",
       "  <tbody>\n",
       "  </tbody>\n",
       "</table>\n",
       "<p>0 rows × 41 columns</p>\n",
       "</div>"
      ],
      "text/plain": [
       "Empty DataFrame\n",
       "Columns: [county, state, fips, cases_w26, deaths_w26, cases_w27, deaths_w27, cases_w28, deaths_w28, cases_w29, deaths_w29, cases_w30, deaths_w30, fully_w26, dose1_w26, fully_w27, dose1_w27, fully_w28, dose1_w28, fully_w29, dose1_w29, fully_w30, dose1_w30, never, rarely, sometimes, frequently, always, population, hispanic, minority, female, unemployed, income, nodegree, bachelor, inactivity, obesity, density, votergap20, votergap16]\n",
       "Index: []\n",
       "\n",
       "[0 rows x 41 columns]"
      ]
     },
     "execution_count": 11,
     "metadata": {},
     "output_type": "execute_result"
    }
   ],
   "source": [
    "data_frames = [covid_by_county, vaccines_by_county, masks, demo]\n",
    "# Can merge manually like I showed above, but assuming we can use functools to simplity this process:\n",
    "from functools import reduce \n",
    "covid_merged = reduce(lambda  left,right: pd.merge(left,right,on=['fips'],\n",
    "                                            how='inner'), data_frames)\n",
    "print(f'There are {demo.shape[0]-covid_merged.shape[0]} columns that were dropped from demo because they were not measured in all data frames.')\n",
    "covid_merged.head(0)"
   ]
  },
  {
   "cell_type": "markdown",
   "metadata": {},
   "source": [
    "#### Comment:\n",
    "Normally I would rearrange the columns so that all columns relating to one week are placed after each other, but since it is not a part of the task I choose to not do this here."
   ]
  },
  {
   "cell_type": "markdown",
   "metadata": {},
   "source": [
    "**1.6** Use `covid_merged` to calculate the novel case rate (per 1000 residents) for each of the weeks for all of the counties, and save these as 4 new well-named variables in `covid_merged`.  For example, `rate_w30` can mathematically be represented as `1000*(cases_30-cases_29)/population`.  Plot the histogram of the novel case rate in week 29, July 12-18, `rate_w29`, and comment on what you notice.\n",
    "\n"
   ]
  },
  {
   "cell_type": "code",
   "execution_count": 12,
   "metadata": {},
   "outputs": [],
   "source": [
    "# Creating new variables for the case rate per 1000 resident for 4 weeks:\n",
    "rate_w27 = 1000*(covid_merged['cases_w27']-covid_merged['cases_w26'])/covid_merged['population']\n",
    "rate_w28 = 1000*(covid_merged['cases_w28']-covid_merged['cases_w27'])/covid_merged['population']\n",
    "rate_w29 = 1000*(covid_merged['cases_w29']-covid_merged['cases_w28'])/covid_merged['population']\n",
    "rate_w30 = 1000*(covid_merged['cases_w30']-covid_merged['cases_w29'])/covid_merged['population']"
   ]
  },
  {
   "cell_type": "code",
   "execution_count": 13,
   "metadata": {},
   "outputs": [
    {
     "data": {
      "image/png": "[encoded data removed]",
      "text/plain": [
       "<Figure size 432x288 with 1 Axes>"
      ]
     },
     "metadata": {
      "needs_background": "light"
     },
     "output_type": "display_data"
    }
   ],
   "source": [
    "plt.hist(rate_w27, bins=50, alpha=0.6, label='Distribution of rates')\n",
    "plt.vlines(np.mean(rate_w27),ymin=0,ymax=1400, color='r', linestyles='-.',alpha=0.6, label='Mean rate')\n",
    "plt.xlabel('covid rates')\n",
    "plt.ylabel('count of counties with assigned rate')\n",
    "plt.title('Distribution of rates of positive covid cases for US counties in week 27')\n",
    "plt.legend()\n",
    "plt.show()"
   ]
  },
  {
   "cell_type": "code",
   "execution_count": 14,
   "metadata": {},
   "outputs": [],
   "source": [
    "# Checking where the negative values come from:\n",
    "rate_w27[rate_w27<0]\n",
    "covid_merged.iloc[175,:];\n",
    "# There seems to occur corrections in the cumulative number of covid cases, where it can be lowered."
   ]
  },
  {
   "cell_type": "markdown",
   "metadata": {},
   "source": [
    "##### Answer 1.6:\n",
    "The plot shows that the rate of covid cases has a distribution that is right skewed with tails in both directions. I would originally not expect a left tail in this situation, but assume that this comes from corrections in the number of cases that is registered, in which it can end up having a lower registered cumulative number of cases in a later week.   \n",
    "Other than that things are as expected with a peak around 0, with a right tail and a mean a bit higher than 0."
   ]
  },
  {
   "cell_type": "markdown",
   "metadata": {},
   "source": [
    "**1.7** We did the steps above (and some other minimal processing) and saved the results in `covid_clean.csv` for you.  Use this data file to answer some exploratory questions and all future analyses: \n",
    "\n",
    "1. Has the overall average case rate increased from week 28 (July 5-11) to week 29 (July 12-18)?  \n",
    "2. Treating the counties as separate and equal observations: in what states did the case rate increase the most?  In what states did the case rate decrease the most (or increse the least)?  List the top 5 for each.  Do you notice any patterns in these states?\n",
    "3. Create and interpret separate visuals to display how the country case rate in week 29 relates to each of the following variables. Interpret what you see (be specific to this domain).\n",
    "\n",
    "    a. The political views in the county (as measured by the votergap in the 2020 election).\n",
    "    \n",
    "    b. The vaccination rate in the county (for week 28) (be sure to throw away the zeros as these represent unreported values).\n",
    "    \n",
    "    c. The population density of the county.\n",
    "    \n",
    "    d. Whether 50% or more of the surveyed residents in the county report that they always wore a mask in public at the time of the survey."
   ]
  },
  {
   "cell_type": "code",
   "execution_count": 17,
   "metadata": {},
   "outputs": [],
   "source": [
    "covid_clean = pd.read_csv('data/covid_clean.csv')\n",
    "\n",
    "# Multiplying rate variables with 1000, to get rate per 1000 resident:\n",
    "covid_clean['rate_w30'] = 1000*covid_clean['rate_w30']\n",
    "covid_clean['rate_w29'] = 1000*covid_clean['rate_w29']\n",
    "covid_clean['rate_w28'] = 1000*covid_clean['rate_w28']\n",
    "covid_clean['rate_w27'] = 1000*covid_clean['rate_w27']"
   ]
  },
  {
   "cell_type": "code",
   "execution_count": 18,
   "metadata": {},
   "outputs": [
    {
     "name": "stdout",
     "output_type": "stream",
     "text": [
      "Overall average case rate week 28: 0.4607\n",
      "Overall average case rate week 29: 0.6592\n",
      "Yes, the overall average case rate has increased from 0.46 to 0.66 positive cases per 1000 resident\n"
     ]
    }
   ],
   "source": [
    "#Q1.7.1: Has the overall average case rate increased from week 28 (July 5-11) to week 29 (July 12-18)?\n",
    "print('Overall average case rate week 28: {:.4}'.format(np.mean(covid_clean['rate_w28'])))\n",
    "print('Overall average case rate week 29: {:.4}'.format(np.mean(covid_clean['rate_w29'])))\n",
    "\n",
    "print('Yes, the overall average case rate has increased from 0.46 to 0.66 positive cases per 1000 resident')"
   ]
  },
  {
   "cell_type": "code",
   "execution_count": 19,
   "metadata": {},
   "outputs": [
    {
     "name": "stdout",
     "output_type": "stream",
     "text": [
      "The five states that had the highest increase in covid rates between week 28 and 29:\n"
     ]
    },
    {
     "data": {
      "text/html": [
       "<div>\n",
       "<style scoped>\n",
       "    .dataframe tbody tr th:only-of-type {\n",
       "        vertical-align: middle;\n",
       "    }\n",
       "\n",
       "    .dataframe tbody tr th {\n",
       "        vertical-align: top;\n",
       "    }\n",
       "\n",
       "    .dataframe thead th {\n",
       "        text-align: right;\n",
       "    }\n",
       "</style>\n",
       "<table border=\"1\" class=\"dataframe\">\n",
       "  <thead>\n",
       "    <tr style=\"text-align: right;\">\n",
       "      <th></th>\n",
       "      <th>rates</th>\n",
       "    </tr>\n",
       "    <tr>\n",
       "      <th>state</th>\n",
       "      <th></th>\n",
       "    </tr>\n",
       "  </thead>\n",
       "  <tbody>\n",
       "    <tr>\n",
       "      <th>Louisiana</th>\n",
       "      <td>0.423863</td>\n",
       "    </tr>\n",
       "    <tr>\n",
       "      <th>Nevada</th>\n",
       "      <td>0.455317</td>\n",
       "    </tr>\n",
       "    <tr>\n",
       "      <th>Arkansas</th>\n",
       "      <td>0.554481</td>\n",
       "    </tr>\n",
       "    <tr>\n",
       "      <th>Missouri</th>\n",
       "      <td>0.758939</td>\n",
       "    </tr>\n",
       "    <tr>\n",
       "      <th>Florida</th>\n",
       "      <td>1.120848</td>\n",
       "    </tr>\n",
       "  </tbody>\n",
       "</table>\n",
       "</div>"
      ],
      "text/plain": [
       "              rates\n",
       "state              \n",
       "Louisiana  0.423863\n",
       "Nevada     0.455317\n",
       "Arkansas   0.554481\n",
       "Missouri   0.758939\n",
       "Florida    1.120848"
      ]
     },
     "metadata": {},
     "output_type": "display_data"
    },
    {
     "name": "stdout",
     "output_type": "stream",
     "text": [
      "The five states that had the highest decrease / lowest increase in covid rates between week 28 and 29:\n"
     ]
    },
    {
     "data": {
      "text/html": [
       "<div>\n",
       "<style scoped>\n",
       "    .dataframe tbody tr th:only-of-type {\n",
       "        vertical-align: middle;\n",
       "    }\n",
       "\n",
       "    .dataframe tbody tr th {\n",
       "        vertical-align: top;\n",
       "    }\n",
       "\n",
       "    .dataframe thead th {\n",
       "        text-align: right;\n",
       "    }\n",
       "</style>\n",
       "<table border=\"1\" class=\"dataframe\">\n",
       "  <thead>\n",
       "    <tr style=\"text-align: right;\">\n",
       "      <th></th>\n",
       "      <th>rates</th>\n",
       "    </tr>\n",
       "    <tr>\n",
       "      <th>state</th>\n",
       "      <th></th>\n",
       "    </tr>\n",
       "  </thead>\n",
       "  <tbody>\n",
       "    <tr>\n",
       "      <th>Iowa</th>\n",
       "      <td>-0.214847</td>\n",
       "    </tr>\n",
       "    <tr>\n",
       "      <th>Colorado</th>\n",
       "      <td>-0.198926</td>\n",
       "    </tr>\n",
       "    <tr>\n",
       "      <th>Montana</th>\n",
       "      <td>-0.041464</td>\n",
       "    </tr>\n",
       "    <tr>\n",
       "      <th>Virginia</th>\n",
       "      <td>-0.009347</td>\n",
       "    </tr>\n",
       "    <tr>\n",
       "      <th>Utah</th>\n",
       "      <td>0.006025</td>\n",
       "    </tr>\n",
       "  </tbody>\n",
       "</table>\n",
       "</div>"
      ],
      "text/plain": [
       "             rates\n",
       "state             \n",
       "Iowa     -0.214847\n",
       "Colorado -0.198926\n",
       "Montana  -0.041464\n",
       "Virginia -0.009347\n",
       "Utah      0.006025"
      ]
     },
     "metadata": {},
     "output_type": "display_data"
    },
    {
     "name": "stdout",
     "output_type": "stream",
     "text": [
      "A pattern here is that the states with the highest increase (except Nevada) are all located close to each other, which makes sense as when there is a surge in covid cases it will normally spread geographically.\n"
     ]
    }
   ],
   "source": [
    "# Q1.7.2:\n",
    "\n",
    "# Using Groupby to get an overview of rates for the states and weeks we care about:\n",
    "state_rates       = covid_clean.groupby('state').agg({'rate_w28': np.mean, 'rate_w29': np.mean})\n",
    "state_rate_change = state_rates['rate_w29']-state_rates['rate_w28']\n",
    "\n",
    "# Sorting the rate changes from lowest to highest:\n",
    "sorted_chang = pd.DataFrame(state_rate_change, columns=['rates']).sort_values(by=['rates'])\n",
    "print('The five states that had the highest increase in covid rates between week 28 and 29:')\n",
    "display(sorted_chang.tail())\n",
    "print('The five states that had the highest decrease / lowest increase in covid rates between week 28 and 29:')\n",
    "display(sorted_chang.head())\n",
    "\n",
    "print('A pattern here is that the states with the highest increase (except Nevada) are all located close to each other, which makes sense as when there is a surge in covid cases it will normally spread geographically.')"
   ]
  },
  {
   "cell_type": "code",
   "execution_count": 20,
   "metadata": {},
   "outputs": [
    {
     "data": {
      "image/png": "[encoded data removed]",
      "text/plain": [
       "<Figure size 432x288 with 1 Axes>"
      ]
     },
     "metadata": {
      "needs_background": "light"
     },
     "output_type": "display_data"
    },
    {
     "data": {
      "image/png": "[encoded data removed]",
      "text/plain": [
       "<Figure size 432x288 with 1 Axes>"
      ]
     },
     "metadata": {
      "needs_background": "light"
     },
     "output_type": "display_data"
    },
    {
     "data": {
      "image/png": "[encoded data removed]",
      "text/plain": [
       "<Figure size 432x288 with 1 Axes>"
      ]
     },
     "metadata": {
      "needs_background": "light"
     },
     "output_type": "display_data"
    }
   ],
   "source": [
    "# Q1.7.2:\n",
    "# a: The political views in the county (as measured by the votergap in the 2020 election).\n",
    "\n",
    "# Don't think we are supposted to begin with regression yet, but do it additionally as it gives a good addition to the plot:\n",
    "from sklearn.neighbors import KNeighborsRegressor\n",
    "knn1 = KNeighborsRegressor(n_neighbors=200)\n",
    "knn1.fit(covid_clean['votergap20'].values.reshape(-1, 1), covid_clean['rate_w29'])\n",
    "x_dummy1 = np.arange(-100,75,1)\n",
    "yhat_dummy100 = knn1.fit(covid_clean['votergap20'].values.reshape(-1, 1), covid_clean['rate_w29']).predict(x_dummy1.reshape(-1, 1))\n",
    "\n",
    "# Plotting: Bar plot\n",
    "plt.bar(covid_clean['votergap20'], covid_clean['rate_w29'], alpha=0.3)\n",
    "plt.xlabel('votergap20 (Biden voting percentage minus Trump voting percentage in the 2020 election)')\n",
    "plt.ylabel('covid rate per 1000 inhabitant')\n",
    "plt.title('    Comparison of votergap20 vs rate_w29 per county')\n",
    "plt.show() # Could make subplots like I do in the next task, but thought this is just as fine here.\n",
    "\n",
    "# Scatter and regression line:\n",
    "plt.scatter(covid_clean['votergap20'], covid_clean['rate_w29'], s=0.5, alpha=0.5, label='observations')\n",
    "plt.plot(x_dummy1,yhat_dummy100, color='r', label='k-NN-regression')\n",
    "plt.legend()\n",
    "\n",
    "plt.xlabel('votergap20 (Biden voting percentage minus Trump voting percentage in the 2020 election)')\n",
    "plt.ylabel('covid rate per 1000 inhabitant')\n",
    "plt.title('    Scatter and k-NN regression of the same plot as above')\n",
    "plt.show()\n",
    "plt.hist(covid_clean['votergap20'])\n",
    "plt.xlabel('votergap20 (Biden voting percentage minus Trump voting percentage in the 2020 election)')\n",
    "plt.ylabel('count')\n",
    "plt.title('    Distribution of votergap20 for information');\n",
    "\n"
   ]
  },
  {
   "cell_type": "markdown",
   "metadata": {},
   "source": [
    "##### Answer Q1.7.3 a:\n",
    "The plot of rates needs to be seen in relation to the histogram showing the density of counties for the different values of votergap20. This is because a higher density leads to a higher probability of getting one county for that value of votergap that is high enough for us to visually interpret this different from other readings in the bar plot.   \n",
    "Since there is a higher density on the trump side of votergap20 we also need to be careful with interpreting the values in this area. A more fair comparison is comparing the values between votergap20: (-90)-(-75) with votergap20: 25-45, since these have a more similar amount of counties. When comparing these ranges we see that there is not a clear \"winner\", but the Biden side (25-45) seems to generally have lower rates, but with sporadic higher values that are on the same level as the compared Trump side."
   ]
  },
  {
   "cell_type": "code",
   "execution_count": 21,
   "metadata": {
    "scrolled": false
   },
   "outputs": [
    {
     "data": {
      "image/png": "[encoded data removed]",
      "text/plain": [
       "<Figure size 1080x864 with 4 Axes>"
      ]
     },
     "metadata": {
      "needs_background": "light"
     },
     "output_type": "display_data"
    }
   ],
   "source": [
    "# b. The vaccination rate in the county for week 28:\n",
    "\n",
    "# Dropping 0 values as suggested in the task:\n",
    "covid_clean_drop0 = covid_clean[(covid_clean.fully_w28 != 0)&(covid_clean.dose1_w28 != 0)]\n",
    "# Plotting for fully vaccinated:    \n",
    "fig, ax = plt.subplots(2,2,figsize=(15,12))\n",
    "ax[0,0].bar(covid_clean_drop0['fully_w28'], covid_clean_drop0['rate_w28'], alpha=0.3)\n",
    "ax[1,0].hist(covid_clean_drop0['fully_w28'], label='distribution')\n",
    "ax[1,0].vlines(np.mean(covid_clean_drop0['fully_w28']),ymin=0,ymax=900, color='r', label='Mean')\n",
    "ax[0,0].set_xlabel('percent of residents that are fully vaccinated in the county this week')\n",
    "ax[0,0].set_ylabel('covid rate per 1000 inhabitant')\n",
    "ax[0,0].set_title('    full vaccinations rate vs covid rate in w28')\n",
    "ax[1,0].set_xlabel('Percent of residents that are fully vaccinated in the county')\n",
    "ax[1,0].legend()\n",
    "ax[1,0].set_ylabel('count')\n",
    "ax[1,0].set_title('Distribution of percent of fully vaccinated per county in week 28')\n",
    "\n",
    "# looking at only dose 1:\n",
    "ax[0,1].bar(covid_clean_drop0['dose1_w28'], covid_clean_drop0['rate_w28'], alpha=0.3)\n",
    "ax[1,1].hist(covid_clean_drop0['dose1_w28'], label='distribution')\n",
    "ax[1,1].vlines(np.mean(covid_clean_drop0['dose1_w28']),ymin=0,ymax=900, color='r', label='Mean')\n",
    "ax[1,1].legend()\n",
    "ax[0,1].set_xlabel('percent of residents that are vaccinated with dose 1 in the county')\n",
    "ax[0,1].set_ylabel('covid rate per 1000 inhabitant')\n",
    "ax[0,1].set_title('dose1 vaccinations vs rate_w28')\n",
    "ax[1,1].set_xlabel('Percent of residents that are are vaccinated with dose 1 in the county')\n",
    "ax[1,1].set_ylabel('count')\n",
    "ax[1,1].set_title('Distribution of percent of dose1 vaccinations per county in week 28')\n",
    "plt.show()"
   ]
  },
  {
   "cell_type": "code",
   "execution_count": 22,
   "metadata": {},
   "outputs": [
    {
     "data": {
      "text/html": [
       "<div>\n",
       "<style scoped>\n",
       "    .dataframe tbody tr th:only-of-type {\n",
       "        vertical-align: middle;\n",
       "    }\n",
       "\n",
       "    .dataframe tbody tr th {\n",
       "        vertical-align: top;\n",
       "    }\n",
       "\n",
       "    .dataframe thead th {\n",
       "        text-align: right;\n",
       "    }\n",
       "</style>\n",
       "<table border=\"1\" class=\"dataframe\">\n",
       "  <thead>\n",
       "    <tr style=\"text-align: right;\">\n",
       "      <th></th>\n",
       "      <th>fips</th>\n",
       "      <th>date</th>\n",
       "      <th>county</th>\n",
       "      <th>state</th>\n",
       "      <th>cases_w30</th>\n",
       "      <th>deaths_w30</th>\n",
       "      <th>fully_w30</th>\n",
       "      <th>dose1_w30</th>\n",
       "      <th>cases_w26</th>\n",
       "      <th>deaths_w26</th>\n",
       "      <th>...</th>\n",
       "      <th>votergap16</th>\n",
       "      <th>never</th>\n",
       "      <th>rarely</th>\n",
       "      <th>sometimes</th>\n",
       "      <th>frequently</th>\n",
       "      <th>always</th>\n",
       "      <th>rate_w30</th>\n",
       "      <th>rate_w29</th>\n",
       "      <th>rate_w28</th>\n",
       "      <th>rate_w27</th>\n",
       "    </tr>\n",
       "  </thead>\n",
       "  <tbody>\n",
       "    <tr>\n",
       "      <th>385</th>\n",
       "      <td>13053</td>\n",
       "      <td>2021-07-25</td>\n",
       "      <td>Chattahoochee</td>\n",
       "      <td>Georgia</td>\n",
       "      <td>4814</td>\n",
       "      <td>17</td>\n",
       "      <td>99.9</td>\n",
       "      <td>99.9</td>\n",
       "      <td>4487</td>\n",
       "      <td>17</td>\n",
       "      <td>...</td>\n",
       "      <td>-11.055</td>\n",
       "      <td>6.1</td>\n",
       "      <td>7.2</td>\n",
       "      <td>10.8</td>\n",
       "      <td>21.4</td>\n",
       "      <td>54.5</td>\n",
       "      <td>1.319261</td>\n",
       "      <td>10.345785</td>\n",
       "      <td>6.94348</td>\n",
       "      <td>4.096653</td>\n",
       "    </tr>\n",
       "  </tbody>\n",
       "</table>\n",
       "<p>1 rows × 46 columns</p>\n",
       "</div>"
      ],
      "text/plain": [
       "      fips        date         county    state  cases_w30  deaths_w30  \\\n",
       "385  13053  2021-07-25  Chattahoochee  Georgia       4814          17   \n",
       "\n",
       "     fully_w30  dose1_w30  cases_w26  deaths_w26  ...  votergap16  never  \\\n",
       "385       99.9       99.9       4487          17  ...     -11.055    6.1   \n",
       "\n",
       "     rarely  sometimes  frequently  always  rate_w30   rate_w29  rate_w28  \\\n",
       "385     7.2       10.8        21.4    54.5  1.319261  10.345785   6.94348   \n",
       "\n",
       "     rate_w27  \n",
       "385  4.096653  \n",
       "\n",
       "[1 rows x 46 columns]"
      ]
     },
     "execution_count": 22,
     "metadata": {},
     "output_type": "execute_result"
    }
   ],
   "source": [
    "# Checking what the 100% value is:\n",
    "np.sort(covid_clean_drop0['fully_w28'])\n",
    "covid_clean_drop0[covid_clean_drop0['fully_w28']==99.9]\n",
    "# Chattahoochee seems to have incorrect data about % vaccinations, and is registered to 99.9% in this set. \n",
    "# This does not align with what i find on Google and should be corrected, but I choose to let it be here."
   ]
  },
  {
   "cell_type": "markdown",
   "metadata": {},
   "source": [
    "##### Answer Q1.7.3 b:\n",
    "From a first glance at the plots to the left we see high covid rates (above 5 per 1000) only for counties where vaccination rates are below 50% both when looking at dose 1 and fully vaccinated (not counting the faulty 99.9% vaccination from Chattahoochee).   \n",
    "When we start digging deeper we need to remember that this bar plot will also have a higher chance of showing a high bar when there are more counties plotted at one range of vaccines (e.g. around 35% vaccinations there are much more occurrances than at 70+). However, on the histogram we can see a resemblence of normal distribution around 35 for 'fully' and 40 for 'dose1' (with a larger left tail on both). A good approach can be to interpret the difference on both sides of these means.    \n",
    "With this in mind we see higher covid rates in the area to the left of each mean, than to the right, showing that the observed values of covid rates was higher for counties that has lower vaccination.   \n",
    "Lastly we also need to remember that even though there should be a causal relationship between vaccines and lower covid rates, that cannot be confirmed statistically without experimental testing. Theoretically these differences could be due to people in states with vaccinations are generally better at following rules than in states where it is not vaccinated as much, or similar."
   ]
  },
  {
   "cell_type": "code",
   "execution_count": 23,
   "metadata": {},
   "outputs": [
    {
     "data": {
      "image/png": "[encoded data removed]",
      "text/plain": [
       "<Figure size 432x288 with 1 Axes>"
      ]
     },
     "metadata": {
      "needs_background": "light"
     },
     "output_type": "display_data"
    }
   ],
   "source": [
    "# Create and interpret separate visuals to display how the country \n",
    "#case rate in week 29 relates to each of the following variables. Interpret what you see (be specific to this domain).\n",
    "# c. The population density of the county.\n",
    "plt.scatter(np.log(covid_clean['population']), covid_clean['rate_w29'], s=0.2)\n",
    "plt.xlabel('Population of county')\n",
    "plt.ylabel('covid rate per 1000 inhabitant')\n",
    "plt.title('    Comparison of population and covid rate in week 29')\n",
    "plt.show()\n"
   ]
  },
  {
   "cell_type": "markdown",
   "metadata": {},
   "source": [
    "##### Answer Q1.7.3 c:\n",
    "When we plot using the log-transformation of the population there is not a clear relationship between the covid rates and the population. There seems to be a rather even spread, with higher max values for the population of e^10 which is the most common population, and thus might be explaining the high max by it's increased variance. So it is hard to say by this plot weather there was a relationship between population and covid rates in week 29.   \n",
    "Can do for example a k-NN regression here as well to see better if there is a relationship."
   ]
  },
  {
   "cell_type": "code",
   "execution_count": 24,
   "metadata": {},
   "outputs": [
    {
     "data": {
      "image/png": "[encoded data removed]",
      "text/plain": [
       "<Figure size 432x288 with 1 Axes>"
      ]
     },
     "metadata": {
      "needs_background": "light"
     },
     "output_type": "display_data"
    },
    {
     "data": {
      "image/png": "[encoded data removed]",
      "text/plain": [
       "<Figure size 432x288 with 1 Axes>"
      ]
     },
     "metadata": {
      "needs_background": "light"
     },
     "output_type": "display_data"
    }
   ],
   "source": [
    "# d. Whether 50% or more of the surveyed residents in the county report that they always wore a mask in public at the \n",
    "#time of the survey.\n",
    "\n",
    "plt.scatter(covid_clean['always'], covid_clean['rate_w29'], s=0.2)\n",
    "plt.xlabel('rate that states they always wears mask')\n",
    "plt.ylabel('covid rate per 1000 inhabitant')\n",
    "plt.title('    Comparison of mask usage and covid rate in week 29')\n",
    "plt.show()\n",
    "plt.hist(covid_clean['always'])\n",
    "plt.title('Distribution of mask usage')\n",
    "plt.xlabel('rate that states they always wears mask');\n",
    "# covid_clean.always"
   ]
  },
  {
   "cell_type": "markdown",
   "metadata": {},
   "source": [
    "##### Answer 1.7.3 d:\n",
    "There is not a clear relationship to see with my bare eye when plotting percentage stating they always use mask towards covid rate. This is curious as one would think mask usage would have a noticable impact on the covid rates. The reason might be that the questionnaire is reflecting the truth about mask usage, or that mask usage only has a minor effect that we need better tools to see than visually on a scatter plot.   \n",
    "This can be better visusalized with a regression line but I don't think I'm supposed to do that here. "
   ]
  },
  {
   "cell_type": "markdown",
   "metadata": {},
   "source": [
    "##### Answer 1.7:  (Recap for convenience, they are also answered below each excercise)\n",
    "Q1.7.1: Check answer under the excercise  \n",
    "Q1.7.2: Check answer under the excercise  \n",
    "Q1.7.3 \n",
    "- a: Check answer under the excercise\n",
    "- b: Check answer under the excercise"
   ]
  },
  {
   "cell_type": "markdown",
   "metadata": {},
   "source": [
    "---"
   ]
  },
  {
   "cell_type": "markdown",
   "metadata": {},
   "source": [
    "## Question 2 [35pts]: Regression modeling \n",
    "\n",
    "**2.1** Fit a linear regression model to predict `rate_w29` (which represent the rate of new cases in the week of July 12-18) from `rate_w28` (July 5-11). Report the 95% confidence intervals for the coefficients, and carefully interpret the coefficients (including their statistical significances).  What does this model suggest about whether the rate of COVID infection increased from week 28 to week 29?\n",
    "\n",
    "\n",
    "**2.2** Fit a linear regression model to predict `rate_w29` from `rate_w28` and `votergap20` along with the interaction between the two.  Interpret the coefficient estimates carefully (no need to mention significances).\n",
    "\n",
    "\n",
    "**2.3** Create a scatterplot of `rate_w29` vs. `rate_w28`.  Add 3 separate predicted lines from your model in 2.2 to this scatterplot: the predicted line from the model in 2.2 for counties...\n",
    "    1. where Biden was favored by 50 percentage points.\n",
    "    2. where Biden and Trump were equal\n",
    "    3. where Trump was favored by 50 percentage points.\n",
    "Interpret what you see.\n",
    "\n",
    "\n",
    "**2.4** Fit a linear regression model to assess the overall association of vaccination rate (`fully_w28`) on `rate_w29`.  Carefully interpret the results (including the statistical significance).  \n",
    "\n",
    "\n",
    "**2.5** Many counties have the value zero for `fully_w28` which really represents a missing/unreported value for vaccinationr rate.  Comment on the effect of ignoring this issue can have on the intepretations and inferences in the model in 2.4.  What would be a better way of handling this issue?\n",
    "\n",
    "\n",
    "**2.6** What factors could be confounded (whether mesured here or not) with the result seen in the model from 2.3 (list up to 3)?  Fit an appropriate linear model that controls for as many of these factors as possible (for those that are measured in this data set). Interpret the coefficient estimates from this model and compare to the results from 2.4.\n",
    "\n",
    "**2.7** What major issue could arise if you fit a model to predict `rate_w29` from `rate_w28` and `rate_w27` (or from `fully_w28` and `fully_w27`) in a linear regression model?  Suggest and explain the use of two different approaches to account for this: one approach should be based on modeling and one approach should be based on feature engineering/variable transformations (not PCA). \n",
    "\n",
    "**2.8** The test set has a response variable that is `rate_w30`.  How would you use your models to predict `rate_w29` in this section in order to predict `rate_w30` instead?  Explain.  What could go wrong in this modification?\n",
    "\n",
    "**Hint**: what should be the predictors to predict `rate_w30` instead of `rate_w29`? \n"
   ]
  },
  {
   "cell_type": "markdown",
   "metadata": {},
   "source": [
    "## Answers"
   ]
  },
  {
   "cell_type": "markdown",
   "metadata": {},
   "source": [
    "**2.1** Fit a linear regression model to predict `rate_w29` (which represent the rate of new cases in the week of July 12-18) from `rate_w28` (July 5-11). Report the 95% confidence intervals for the coefficients, and carefully interpret the coefficients (including their statistical significances).  What does this model suggest about whether the rate of COVID infection increased from week 28 to week 29?\n"
   ]
  },
  {
   "cell_type": "code",
   "execution_count": null,
   "metadata": {},
   "outputs": [],
   "source": [
    "######\n",
    "# your code here\n",
    "######"
   ]
  },
  {
   "cell_type": "markdown",
   "metadata": {},
   "source": [
    "*your answer here*"
   ]
  },
  {
   "cell_type": "markdown",
   "metadata": {},
   "source": [
    "**2.2** Fit a linear regression model to predict `rate_w29` from `rate_w28` and `votergap20` along with the interaction between the two.  Interpret the coefficient estimates carefully (no need to mention significances).\n"
   ]
  },
  {
   "cell_type": "code",
   "execution_count": null,
   "metadata": {},
   "outputs": [],
   "source": [
    "######\n",
    "# your code here\n",
    "######"
   ]
  },
  {
   "cell_type": "markdown",
   "metadata": {},
   "source": [
    "*your answer here*"
   ]
  },
  {
   "cell_type": "markdown",
   "metadata": {},
   "source": [
    "**2.3** Create a scatterplot of `rate_w29` vs. `rate_w28`.  Add 3 separate predicted lines from your model in 2.2 to this scatterplot: the predicted line from the model in 2.2 for counties...\n",
    "    1. where Biden was favored by 50 percentage points.\n",
    "    2. where Biden and Trump were equal\n",
    "    3. where Trump was favored by 50 percentage points.\n",
    "Interpret what you see.\n",
    "\n",
    "\n"
   ]
  },
  {
   "cell_type": "code",
   "execution_count": null,
   "metadata": {},
   "outputs": [],
   "source": [
    "######\n",
    "# your code here\n",
    "######"
   ]
  },
  {
   "cell_type": "markdown",
   "metadata": {},
   "source": [
    "*your answer here*"
   ]
  },
  {
   "cell_type": "markdown",
   "metadata": {},
   "source": [
    "**2.4** Fit a linear regression model to assess the overall association of vaccination rate (`fully_w28`) on `rate_w29`.  Carefully interpret the results (including the statistical significance).  \n",
    "\n",
    "\n"
   ]
  },
  {
   "cell_type": "code",
   "execution_count": null,
   "metadata": {},
   "outputs": [],
   "source": [
    "######\n",
    "# your code here\n",
    "######"
   ]
  },
  {
   "cell_type": "markdown",
   "metadata": {},
   "source": [
    "*your answer here*"
   ]
  },
  {
   "cell_type": "markdown",
   "metadata": {},
   "source": [
    "**2.5** Many counties have the value zero for `fully_w28` which really represents a missing/unreported value for vaccinationr rate.  Comment on the effect of ignoring this issue can have on the intepretations and inferences in the model in 2.4.  What would be a better way of handling this issue?\n",
    "\n",
    "\n"
   ]
  },
  {
   "cell_type": "markdown",
   "metadata": {},
   "source": [
    "*your answer here*"
   ]
  },
  {
   "cell_type": "markdown",
   "metadata": {},
   "source": [
    "**2.6** What factors could be confounded (whether mesured here or not) with the result seen in the model from 2.3 (list up to 3)?  Fit an appropriate linear model that controls for as many of these factors as possible (for those that are measured in this data set). Interpret the coefficient estimates from this model and compare to the results from 2.4.\n",
    "\n"
   ]
  },
  {
   "cell_type": "code",
   "execution_count": null,
   "metadata": {},
   "outputs": [],
   "source": [
    "######\n",
    "# your code here\n",
    "######"
   ]
  },
  {
   "cell_type": "markdown",
   "metadata": {},
   "source": [
    "*your answer here*"
   ]
  },
  {
   "cell_type": "markdown",
   "metadata": {},
   "source": [
    "**2.7** What major issue could arise if you fit a model to predict `rate_w29` from `rate_w28` and `rate_w27` (or from `fully_w28` and `fully_w27`) in a linear regression model?  Suggest and explain the use of two different approaches to account for this: one approach should be based on modeling and one approach should be based on feature engineering/variable transformations (not PCA). \n",
    "\n"
   ]
  },
  {
   "cell_type": "markdown",
   "metadata": {},
   "source": [
    "*your answer here*"
   ]
  },
  {
   "cell_type": "markdown",
   "metadata": {},
   "source": [
    "**2.8** The test set has a response variable that is `rate_w30`.  How would you use your models to predict `rate_w29` in this section in order to predict `rate_w30` instead?  Explain.  What could go wrong in this modification?\n",
    "\n",
    "**Hint**: what should be the predictors to predict `rate_w30` instead of `rate_w29`? \n"
   ]
  },
  {
   "cell_type": "markdown",
   "metadata": {},
   "source": [
    "*your answer here*"
   ]
  },
  {
   "cell_type": "markdown",
   "metadata": {},
   "source": [
    "---"
   ]
  },
  {
   "cell_type": "markdown",
   "metadata": {},
   "source": [
    "## Question 3 [30pts]: Prediction modeling \n",
    "\n",
    "**3.1** Fit a well-tuned lasso model to predict `rate_w29` from the following set of predictors (along with all 2-way interactions among the main effects and all 2nd and 3rd order polynomial terms):\n",
    "\n",
    "`['rate_w28','rate_w27','dose1_w28','hispanic','minority','female','unemployed', 'income','nodegree','bachelor','inactivity','obesity','density','votergap20']`\n",
    "\n",
    "Report and explain the best choice of $\\lambda$ (a visual can help with this), your estimate of out-of-sample $R^2$, along with the number of coefficients that shrunk exactly to zero (or numerically zero) and the number that are non-zero.\n",
    "\n",
    "**3.2** Plot the trajectory curves of the main effects `['rate_w28','rate_w27','fully_w28','votergap20']` from this model: the estimates of the $\\beta$ coefficients as a function of $\\lambda$.  Interpret what you notice.\n",
    "\n",
    "**3.3** Fit a well-tuned random forest model to predict `rate_w29` from the predictors listed in 3.1.  Report your choice of the tuning parameters and briefly justify your choices (a visual or table may be helpful for this).  Provide an estimate of out-of-sample $R^2$.  Note: do not go to crazy with the number of options for the parameters you are tuning...choose a set of values that are reasonable.\n",
    "\n",
    "**3.4** Interpret the relationship between `rate_w29` and `dose1_w28` from the random forest model in 3.3.  Is there any evidence of interactive effects in this model involving `dose1_w28`?  How do you know?  Provide a reasonable visual (or a few visuals) to help you with these tasks and interpret what you see. \n",
    "\n",
    "**3.5** Fit a well-tuned boosting model to predict `rate_w29` from the predictors listed in 3.1.  Report your best choice of the tuning parameters and briefly justify your choice (a visual or table may be helpful for this).  Provide an estimate of out-of-sample $R^2$.  Note: again, do not go to crazy with the number of options for the parameters you are tuning...choose a set of values that are reasonable.\n",
    "\n",
    "**3.6** Improve upon your favorite/best predictive model from 3.1, 3.3, or 3.5, by including other provided feature, by doing feature engineering, or by doing variable removal/selection.  Explain your choices.  Provide an estimate of out-of-sample $R^2$. \n",
    "\n",
    "**3.7** Evaluate your models from 3.1, 3.3, 3.5, and 3.6 on the test set (this will take some work...refer back to 2.8) using $R^2$.  How do these model's $R^2$ in test compare to the out-of-sample $R^2$ when tuning?  Explain whether this is surprising or not?\n",
    "\n"
   ]
  },
  {
   "cell_type": "markdown",
   "metadata": {},
   "source": [
    "## Answers"
   ]
  },
  {
   "cell_type": "markdown",
   "metadata": {},
   "source": [
    "**3.1** Fit a well-tuned lasso model to predict `rate_w29` from the following set of predictors (along with all 2-way interactions among the main effects and all 2nd and 3rd order polynomial terms):\n",
    "\n",
    "`['rate_w28','rate_w27','dose1_w28','hispanic','minority','female','unemployed', 'income','nodegree','bachelor','inactivity','obesity','density','votergap20']`\n",
    "\n",
    "Report and explain the best choice of $\\lambda$ (a visual can help with this), your estimate of out-of-sample $R^2$, along with the number of coefficients that shrunk exactly to zero (or numerically zero) and the number that are non-zero.\n"
   ]
  },
  {
   "cell_type": "code",
   "execution_count": null,
   "metadata": {},
   "outputs": [],
   "source": [
    "######\n",
    "# your code here\n",
    "######\n",
    "\n",
    "Corrections:\n",
    "Q3.1: please ignore/remove 'cancer' from this list of predictors.\n",
    "Q3.2: 'fully_w28' should be replaced with 'dose1_w28'"
   ]
  },
  {
   "cell_type": "markdown",
   "metadata": {},
   "source": [
    "*your answer here*"
   ]
  },
  {
   "cell_type": "markdown",
   "metadata": {},
   "source": [
    "**3.2** Plot the trajectory curves of the main effects `['rate_w28','rate_w27','fully_w28','votergap20']` from this model: the estimates of the $\\beta$ coefficients as a function of $\\lambda$.  Interpret what you notice.\n"
   ]
  },
  {
   "cell_type": "code",
   "execution_count": null,
   "metadata": {},
   "outputs": [],
   "source": [
    "######\n",
    "# your code here\n",
    "######"
   ]
  },
  {
   "cell_type": "markdown",
   "metadata": {},
   "source": [
    "*your answer here*"
   ]
  },
  {
   "cell_type": "markdown",
   "metadata": {},
   "source": [
    "**3.3** Fit a well-tuned random forest model to predict `rate_w29` from the predictors listed in 3.1.  Report your choice of the best tuning parameters and briefly justify your choice (a visual or table may be helpful for this).  Provide an estimate of out-of-sample $R^2$.  Note: do not go to crazy with the number of options for the parameters you are tuning...choose a set of values that are reasonable.\n"
   ]
  },
  {
   "cell_type": "code",
   "execution_count": null,
   "metadata": {},
   "outputs": [],
   "source": [
    "######\n",
    "# your code here\n",
    "######"
   ]
  },
  {
   "cell_type": "markdown",
   "metadata": {},
   "source": [
    "*your answer here*"
   ]
  },
  {
   "cell_type": "markdown",
   "metadata": {},
   "source": [
    "**3.4** Interpret the relationship between `rate_w29` and `dose1_w28` from the random forest model in 3.3.  Is there any evidence of interactive effects in this model involving `dose1_w28`?  How do you know?  Provide a reasonable visual (or a few visuals) to help you with these tasks and interpret what you see. \n",
    "\n"
   ]
  },
  {
   "cell_type": "code",
   "execution_count": null,
   "metadata": {},
   "outputs": [],
   "source": [
    "######\n",
    "# your code here\n",
    "######"
   ]
  },
  {
   "cell_type": "markdown",
   "metadata": {},
   "source": [
    "*your answer here*"
   ]
  },
  {
   "cell_type": "markdown",
   "metadata": {},
   "source": [
    "**3.5** Fit a well-tuned boosting model to predict `rate_w29` from the predictors listed in 3.1.  Report your best choice of the tuning parameters and briefly justify your choice (a visual or table may be helpful for this).  Provide an estimate of out-of-sample $R^2$.  Note: again, do not go to crazy with the number of options for the parameters you are tuning...choose a set of values that are reasonable.\n",
    "\n"
   ]
  },
  {
   "cell_type": "code",
   "execution_count": null,
   "metadata": {},
   "outputs": [],
   "source": [
    "######\n",
    "# your code here\n",
    "######"
   ]
  },
  {
   "cell_type": "markdown",
   "metadata": {},
   "source": [
    "*your answer here*"
   ]
  },
  {
   "cell_type": "markdown",
   "metadata": {},
   "source": [
    "**3.6** Improve upon your favorite/best predictive model from 3.1, 3.3, or 3.5, by including other provided feature, by doing feature engineering, or by doing variable removal/selection.  Explain your choices.  Provide an estimate of out-of-sample $R^2$. \n",
    "\n"
   ]
  },
  {
   "cell_type": "code",
   "execution_count": null,
   "metadata": {},
   "outputs": [],
   "source": [
    "######\n",
    "# your code here\n",
    "######"
   ]
  },
  {
   "cell_type": "markdown",
   "metadata": {},
   "source": [
    "*your answer here*"
   ]
  },
  {
   "cell_type": "markdown",
   "metadata": {},
   "source": [
    "**3.7** Evaluate your models from 3.1, 3.3, 3.5, and 3.6 on the test set (this will take some work...refer back to 2.8) using $R^2$.  How do these model's $R^2$ in test compare to the out-of-sample $R^2$ when tuning?  Explain whether this is surprising or not?"
   ]
  },
  {
   "cell_type": "code",
   "execution_count": null,
   "metadata": {},
   "outputs": [],
   "source": [
    "######\n",
    "# your code here\n",
    "######"
   ]
  },
  {
   "cell_type": "markdown",
   "metadata": {},
   "source": [
    "*your answer here*"
   ]
  },
  {
   "cell_type": "markdown",
   "metadata": {},
   "source": [
    "---"
   ]
  },
  {
   "cell_type": "markdown",
   "metadata": {},
   "source": [
    "## Question 4 [10pts]: Going further\n",
    "\n",
    "**4.1** Use all of the useable variables in `demo` and `masks` to create clusters of observations based on the $K$-means clustering approach.  Be sure to carefully select a reasonable choice for $K$.  Explain your choice (a visual may help with this).\n",
    "\n",
    "**4.2** Use your created clusters and incorporate them as predictor(s) into a linear regression model to assess whether the relationships you measured in the model from 2.6 depend on cluster type.  Comment on what you notice.  Determine whether out-of-sample $R^2$ has improved using this model (in comparison to the model from 2.6) based on 5-fold CV.\n",
    "\n",
    "**4.3: BONUS** Find data online to improve the prediction accuracy of your best model. Be sure to cite your source of your data and the approach you took into incorporating these new data.  Note: this is only worth up to 3 bonus points, so do not spend too much effor on this part over improving ealrier parts of the exam."
   ]
  },
  {
   "cell_type": "markdown",
   "metadata": {},
   "source": [
    "## Answers"
   ]
  },
  {
   "cell_type": "markdown",
   "metadata": {},
   "source": [
    "**4.1** Use all of the useable variables in `demo` and `masks` to create clusters of observations based on the $K$-means clustering approach.  Be sure to carefully select a reasonable choice for $K$.  Explain your choice (a visual may help with this)."
   ]
  },
  {
   "cell_type": "code",
   "execution_count": null,
   "metadata": {},
   "outputs": [],
   "source": [
    "######\n",
    "# your code here\n",
    "######"
   ]
  },
  {
   "cell_type": "markdown",
   "metadata": {},
   "source": [
    "*your answer here*"
   ]
  },
  {
   "cell_type": "markdown",
   "metadata": {},
   "source": [
    "**4.2** Use your created clusters and incorporate them as predictor(s) into a linear regression model to assess whether the relationships you measured in the model from 2.6 depend on cluster type.  Comment on what you notice.  Determine whether out-of-sample $R^2$ has improved using this model (in comparison to the model from 2.6) based on 5-fold CV.\n"
   ]
  },
  {
   "cell_type": "code",
   "execution_count": null,
   "metadata": {},
   "outputs": [],
   "source": [
    "######\n",
    "# your code here\n",
    "######"
   ]
  },
  {
   "cell_type": "markdown",
   "metadata": {},
   "source": [
    "*your answer here*"
   ]
  },
  {
   "cell_type": "markdown",
   "metadata": {},
   "source": [
    "**4.3: BONUS** Find data online to improve the prediction accuracy of your best model. Be sure to cite your source of your data and the approach you took into incorporating these new data.  Note: this is only worth up to 3 bonus points, so do not spend too much effor on this part over improving ealrier parts of the exam."
   ]
  },
  {
   "cell_type": "code",
   "execution_count": null,
   "metadata": {},
   "outputs": [],
   "source": [
    "######\n",
    "# your code here\n",
    "######\n",
    "\n"
   ]
  },
  {
   "cell_type": "markdown",
   "metadata": {},
   "source": [
    "*your answer here*"
   ]
  }
 ],
 "metadata": {
  "anaconda-cloud": {},
  "kernelspec": {
   "display_name": "Python 3",
   "language": "python",
   "name": "python3"
  },
  "language_info": {
   "codemirror_mode": {
    "name": "ipython",
    "version": 3
   },
   "file_extension": ".py",
   "mimetype": "text/x-python",
   "name": "python",
   "nbconvert_exporter": "python",
   "pygments_lexer": "ipython3",
   "version": "3.7.10"
  }
 },
 "nbformat": 4,
 "nbformat_minor": 2
}
