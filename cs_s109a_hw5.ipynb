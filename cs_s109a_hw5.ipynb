{
 "cells": [
  {
   "cell_type": "markdown",
   "metadata": {
    "button": false,
    "new_sheet": false,
    "run_control": {
     "read_only": false
    }
   },
   "source": [
    "# <img style=\"float: left; padding-right: 10px; width: 45px\" src=\"https://github.com/Harvard-IACS/2021-s109a/blob/master/lectures/crest.png?raw=true\"> CS-S109A Introduction to Data Science \n",
    "\n",
    "## Homework 5: Trees, Forests, and Boosting\n",
    "\n",
    "**Harvard University**<br/>\n",
    "**Summer 2021**<br/>\n",
    "**Instructors**: Kevin Rader\n",
    "\n",
    "\n",
    "<hr style='height:2px'>\n",
    "\n",
    "---\n",
    "\n"
   ]
  },
  {
   "cell_type": "code",
   "execution_count": 1,
   "metadata": {},
   "outputs": [
    {
     "data": {
      "text/html": [
       "<style>\n",
       "blockquote { background: #AEDE94; }\n",
       "h1 { \n",
       "    padding-top: 25px;\n",
       "    padding-bottom: 25px;\n",
       "    text-align: left; \n",
       "    padding-left: 10px;\n",
       "    background-color: #DDDDDD; \n",
       "    color: black;\n",
       "}\n",
       "h2 { \n",
       "    padding-top: 10px;\n",
       "    padding-bottom: 10px;\n",
       "    text-align: left; \n",
       "    padding-left: 5px;\n",
       "    background-color: #EEEEEE; \n",
       "    color: black;\n",
       "}\n",
       "\n",
       "div.exercise {\n",
       "\tbackground-color: #ffcccc;\n",
       "\tborder-color: #E9967A; \t\n",
       "\tborder-left: 5px solid #800080; \n",
       "\tpadding: 0.5em;\n",
       "}\n",
       "\n",
       "div.exercise-r {\n",
       "\tbackground-color: #fce8e8;\n",
       "\tborder-color: #E9967A; \t\n",
       "\tborder-left: 5px solid #800080; \n",
       "\tpadding: 0.5em;\n",
       "}\n",
       "\n",
       "\n",
       "span.sub-q {\n",
       "\tfont-weight: bold;\n",
       "}\n",
       "div.theme {\n",
       "\tbackground-color: #DDDDDD;\n",
       "\tborder-color: #E9967A; \t\n",
       "\tborder-left: 5px solid #800080; \n",
       "\tpadding: 0.5em;\n",
       "\tfont-size: 18pt;\n",
       "}\n",
       "div.gc { \n",
       "\tbackground-color: #AEDE94;\n",
       "\tborder-color: #E9967A; \t \n",
       "\tborder-left: 5px solid #800080; \n",
       "\tpadding: 0.5em;\n",
       "\tfont-size: 12pt;\n",
       "}\n",
       "p.q1 { \n",
       "    padding-top: 5px;\n",
       "    padding-bottom: 5px;\n",
       "    text-align: left; \n",
       "    padding-left: 5px;\n",
       "    background-color: #EEEEEE; \n",
       "    color: black;\n",
       "}\n",
       "header {\n",
       "   padding-top: 35px;\n",
       "    padding-bottom: 35px;\n",
       "    text-align: left; \n",
       "    padding-left: 10px;\n",
       "    background-color: #DDDDDD; \n",
       "    color: black;\n",
       "}\n",
       "</style>\n",
       "\n"
      ],
      "text/plain": [
       "<IPython.core.display.HTML object>"
      ]
     },
     "execution_count": 1,
     "metadata": {},
     "output_type": "execute_result"
    }
   ],
   "source": [
    "## RUN THIS CELL TO GET THE RIGHT FORMATTING \n",
    "import requests\n",
    "from IPython.core.display import HTML\n",
    "styles = requests.get(\"https://raw.githubusercontent.com/Harvard-IACS/2018-CS109A/master/content/styles/cs109.css\").text\n",
    "HTML(styles)"
   ]
  },
  {
   "cell_type": "markdown",
   "metadata": {},
   "source": [
    "### INSTRUCTIONS\n",
    "\n",
    "- To submit your assignment follow the instructions given in Canvas.\n",
    "- Restart the kernel and run the whole notebook again before you submit. \n",
    "- If you submit individually and you have worked with someone, please include the name of your [one] partner below. \n",
    "- As much as possible, try and stick to the hints and functions we import at the top of the homework, as those are the ideas and tools the class supports and is aiming to teach. And if a problem specifies a particular library you're required to use that library, and possibly others from the import list.\n",
    "- Please use .head() when viewing data. Do not submit a notebook that is excessively long because output was not suppressed or otherwise limited. "
   ]
  },
  {
   "cell_type": "code",
   "execution_count": 2,
   "metadata": {},
   "outputs": [],
   "source": [
    "import numpy as np\n",
    "import pandas as pd\n",
    "import sklearn as sk\n",
    "import matplotlib.pyplot as plt\n",
    "\n",
    "\n",
    "from sklearn.preprocessing import PolynomialFeatures\n",
    "from sklearn.linear_model import LogisticRegression \n",
    "from sklearn.model_selection import cross_val_score\n",
    "from sklearn.utils import resample\n",
    "from sklearn.tree import DecisionTreeClassifier\n",
    "from sklearn.ensemble import RandomForestClassifier\n",
    "from sklearn.ensemble import AdaBoostClassifier\n",
    "from sklearn.metrics import accuracy_score\n",
    "\n",
    "%matplotlib inline\n",
    "\n",
    "import seaborn as sns\n",
    "sns.set(style='whitegrid')\n",
    "pd.set_option('display.width', 1500)\n",
    "pd.set_option('display.max_columns', 100)"
   ]
  },
  {
   "cell_type": "markdown",
   "metadata": {},
   "source": [
    "<hr style=\"height:2pt\">"
   ]
  },
  {
   "cell_type": "markdown",
   "metadata": {},
   "source": [
    "# Higgs Boson Discovery\n",
    "\n",
    "The discovery of the Higgs boson in July 2012 marked a fundamental breakthrough in particle physics. The Higgs boson particle was discovered through experiments at the Large Hadron Collider at CERN, by colliding beams of protons at high energy. A key challenge in analyzing the results of these experiments is to differentiate between collisions that produce Higgs bosons and collisions that produce only background noise. \n",
    "\n",
    "You are provided with data from Monte-Carlo simulations of collisions of particles in a particle collider experiment. The training set is available in `Higgs_train.csv` and the test set is in `Higgs_test.csv`. Each row in these files corresponds to a particle collision described by 28 features (columns 1-28), of which the first 21 features are kinematic properties measured by the particle detectors in the accelerator, and the remaining features are derived by physicists from the first 21 features. The class label is provided in the last column, with a label of 1 indicating that the collision produces Higgs bosons (signal), and a label of 0 indicating that the collision produces only other particles (background).\n",
    "\n",
    "The data set provided to you is a small subset of the HIGGS data set in the UCI machine learning repository. The following paper contains further details about the data set and the predictors used: [Baldi et al., Nature Communications 5, 2014](https://www.nature.com/articles/ncomms5308)."
   ]
  },
  {
   "cell_type": "code",
   "execution_count": 3,
   "metadata": {},
   "outputs": [
    {
     "name": "stdout",
     "output_type": "stream",
     "text": [
      "5000 training observations, 5000 test observations\n",
      "29 total columns\n",
      "\n",
      "Columns:\n",
      "lepton pT, lepton eta, lepton phi, missing energy magnitude, missing energy phi, jet 1 pt, jet 1 eta, jet 1 phi, jet 1 b-tag, jet 2 pt, jet 2 eta, jet 2 phi, jet 2 b-tag, jet 3 pt, jet 3 eta, jet 3 phi, jet 3 b-tag, jet 4 pt, jet 4 eta, jet 4 phi, jet 4 b-tag, m_jj, m_jjj, m_lv, m_jlv, m_bb, m_wbb, m_wwbb, class\n"
     ]
    }
   ],
   "source": [
    "# Load data\n",
    "data_train = pd.read_csv('data/Higgs_train.csv')\n",
    "data_test = pd.read_csv('data/Higgs_test.csv')\n",
    "\n",
    "print(f\"{len(data_train)} training observations, {len(data_test)} test observations\")\n",
    "print(data_train.shape[1],\"total columns\")\n",
    "print(\"\\nColumns:\")\n",
    "print(', '.join(data_train.columns))"
   ]
  },
  {
   "cell_type": "code",
   "execution_count": 4,
   "metadata": {
    "scrolled": false
   },
   "outputs": [
    {
     "data": {
      "text/html": [
       "<div>\n",
       "<style scoped>\n",
       "    .dataframe tbody tr th:only-of-type {\n",
       "        vertical-align: middle;\n",
       "    }\n",
       "\n",
       "    .dataframe tbody tr th {\n",
       "        vertical-align: top;\n",
       "    }\n",
       "\n",
       "    .dataframe thead th {\n",
       "        text-align: right;\n",
       "    }\n",
       "</style>\n",
       "<table border=\"1\" class=\"dataframe\">\n",
       "  <thead>\n",
       "    <tr style=\"text-align: right;\">\n",
       "      <th></th>\n",
       "      <th>lepton pT</th>\n",
       "      <th>lepton eta</th>\n",
       "      <th>lepton phi</th>\n",
       "      <th>missing energy magnitude</th>\n",
       "      <th>missing energy phi</th>\n",
       "      <th>jet 1 pt</th>\n",
       "      <th>jet 1 eta</th>\n",
       "      <th>jet 1 phi</th>\n",
       "      <th>jet 1 b-tag</th>\n",
       "      <th>jet 2 pt</th>\n",
       "      <th>jet 2 eta</th>\n",
       "      <th>jet 2 phi</th>\n",
       "      <th>jet 2 b-tag</th>\n",
       "      <th>jet 3 pt</th>\n",
       "      <th>jet 3 eta</th>\n",
       "      <th>jet 3 phi</th>\n",
       "      <th>jet 3 b-tag</th>\n",
       "      <th>jet 4 pt</th>\n",
       "      <th>jet 4 eta</th>\n",
       "      <th>jet 4 phi</th>\n",
       "      <th>jet 4 b-tag</th>\n",
       "      <th>m_jj</th>\n",
       "      <th>m_jjj</th>\n",
       "      <th>m_lv</th>\n",
       "      <th>m_jlv</th>\n",
       "      <th>m_bb</th>\n",
       "      <th>m_wbb</th>\n",
       "      <th>m_wwbb</th>\n",
       "      <th>class</th>\n",
       "    </tr>\n",
       "  </thead>\n",
       "  <tbody>\n",
       "    <tr>\n",
       "      <th>0</th>\n",
       "      <td>0.884</td>\n",
       "      <td>-0.462</td>\n",
       "      <td>0.196</td>\n",
       "      <td>1.330</td>\n",
       "      <td>1.520</td>\n",
       "      <td>1.040</td>\n",
       "      <td>-1.5200</td>\n",
       "      <td>-1.46</td>\n",
       "      <td>2.17</td>\n",
       "      <td>0.361</td>\n",
       "      <td>-2.030</td>\n",
       "      <td>-0.253</td>\n",
       "      <td>0.00</td>\n",
       "      <td>0.337</td>\n",
       "      <td>-0.597</td>\n",
       "      <td>-0.324</td>\n",
       "      <td>2.55</td>\n",
       "      <td>0.493</td>\n",
       "      <td>1.030</td>\n",
       "      <td>-1.1400</td>\n",
       "      <td>0.0</td>\n",
       "      <td>1.450</td>\n",
       "      <td>0.791</td>\n",
       "      <td>1.400</td>\n",
       "      <td>1.250</td>\n",
       "      <td>0.713</td>\n",
       "      <td>0.812</td>\n",
       "      <td>0.821</td>\n",
       "      <td>1.0</td>\n",
       "    </tr>\n",
       "    <tr>\n",
       "      <th>1</th>\n",
       "      <td>0.780</td>\n",
       "      <td>-0.292</td>\n",
       "      <td>0.897</td>\n",
       "      <td>0.384</td>\n",
       "      <td>0.413</td>\n",
       "      <td>1.220</td>\n",
       "      <td>-0.4660</td>\n",
       "      <td>-0.92</td>\n",
       "      <td>0.00</td>\n",
       "      <td>1.100</td>\n",
       "      <td>-1.200</td>\n",
       "      <td>1.080</td>\n",
       "      <td>2.21</td>\n",
       "      <td>0.498</td>\n",
       "      <td>1.490</td>\n",
       "      <td>1.060</td>\n",
       "      <td>0.00</td>\n",
       "      <td>0.493</td>\n",
       "      <td>-0.344</td>\n",
       "      <td>-0.0918</td>\n",
       "      <td>0.0</td>\n",
       "      <td>0.812</td>\n",
       "      <td>0.728</td>\n",
       "      <td>0.975</td>\n",
       "      <td>0.637</td>\n",
       "      <td>0.569</td>\n",
       "      <td>0.777</td>\n",
       "      <td>0.715</td>\n",
       "      <td>1.0</td>\n",
       "    </tr>\n",
       "    <tr>\n",
       "      <th>2</th>\n",
       "      <td>0.353</td>\n",
       "      <td>-1.070</td>\n",
       "      <td>-1.740</td>\n",
       "      <td>1.170</td>\n",
       "      <td>-0.199</td>\n",
       "      <td>0.558</td>\n",
       "      <td>0.0574</td>\n",
       "      <td>-1.49</td>\n",
       "      <td>1.09</td>\n",
       "      <td>0.912</td>\n",
       "      <td>-1.080</td>\n",
       "      <td>0.571</td>\n",
       "      <td>0.00</td>\n",
       "      <td>0.781</td>\n",
       "      <td>-0.320</td>\n",
       "      <td>-1.040</td>\n",
       "      <td>2.55</td>\n",
       "      <td>0.616</td>\n",
       "      <td>-1.510</td>\n",
       "      <td>1.5500</td>\n",
       "      <td>0.0</td>\n",
       "      <td>0.829</td>\n",
       "      <td>1.060</td>\n",
       "      <td>0.992</td>\n",
       "      <td>0.825</td>\n",
       "      <td>0.365</td>\n",
       "      <td>0.800</td>\n",
       "      <td>0.766</td>\n",
       "      <td>0.0</td>\n",
       "    </tr>\n",
       "    <tr>\n",
       "      <th>3</th>\n",
       "      <td>0.757</td>\n",
       "      <td>0.822</td>\n",
       "      <td>-1.290</td>\n",
       "      <td>0.208</td>\n",
       "      <td>-0.151</td>\n",
       "      <td>1.220</td>\n",
       "      <td>-1.6400</td>\n",
       "      <td>1.53</td>\n",
       "      <td>0.00</td>\n",
       "      <td>1.680</td>\n",
       "      <td>0.189</td>\n",
       "      <td>-0.645</td>\n",
       "      <td>0.00</td>\n",
       "      <td>1.780</td>\n",
       "      <td>0.285</td>\n",
       "      <td>0.520</td>\n",
       "      <td>2.55</td>\n",
       "      <td>1.130</td>\n",
       "      <td>-0.932</td>\n",
       "      <td>0.1170</td>\n",
       "      <td>3.1</td>\n",
       "      <td>4.290</td>\n",
       "      <td>2.420</td>\n",
       "      <td>0.995</td>\n",
       "      <td>0.923</td>\n",
       "      <td>0.927</td>\n",
       "      <td>1.760</td>\n",
       "      <td>1.360</td>\n",
       "      <td>1.0</td>\n",
       "    </tr>\n",
       "    <tr>\n",
       "      <th>4</th>\n",
       "      <td>2.040</td>\n",
       "      <td>2.030</td>\n",
       "      <td>-0.472</td>\n",
       "      <td>0.424</td>\n",
       "      <td>-1.500</td>\n",
       "      <td>1.060</td>\n",
       "      <td>0.7980</td>\n",
       "      <td>1.22</td>\n",
       "      <td>2.17</td>\n",
       "      <td>0.805</td>\n",
       "      <td>-0.661</td>\n",
       "      <td>-1.460</td>\n",
       "      <td>0.00</td>\n",
       "      <td>0.885</td>\n",
       "      <td>1.440</td>\n",
       "      <td>0.809</td>\n",
       "      <td>0.00</td>\n",
       "      <td>1.290</td>\n",
       "      <td>0.493</td>\n",
       "      <td>-0.0791</td>\n",
       "      <td>3.1</td>\n",
       "      <td>0.895</td>\n",
       "      <td>0.936</td>\n",
       "      <td>1.030</td>\n",
       "      <td>1.560</td>\n",
       "      <td>1.150</td>\n",
       "      <td>1.120</td>\n",
       "      <td>1.160</td>\n",
       "      <td>1.0</td>\n",
       "    </tr>\n",
       "  </tbody>\n",
       "</table>\n",
       "</div>"
      ],
      "text/plain": [
       "   lepton pT  lepton eta  lepton phi  missing energy magnitude  missing energy phi  jet 1 pt  jet 1 eta  jet 1 phi  jet 1 b-tag  jet 2 pt  jet 2 eta  jet 2 phi  jet 2 b-tag  jet 3 pt  jet 3 eta  jet 3 phi  jet 3 b-tag  jet 4 pt  jet 4 eta  jet 4 phi  jet 4 b-tag   m_jj  m_jjj   m_lv  m_jlv   m_bb  m_wbb  m_wwbb  class\n",
       "0      0.884      -0.462       0.196                     1.330               1.520     1.040    -1.5200      -1.46         2.17     0.361     -2.030     -0.253         0.00     0.337     -0.597     -0.324         2.55     0.493      1.030    -1.1400          0.0  1.450  0.791  1.400  1.250  0.713  0.812   0.821    1.0\n",
       "1      0.780      -0.292       0.897                     0.384               0.413     1.220    -0.4660      -0.92         0.00     1.100     -1.200      1.080         2.21     0.498      1.490      1.060         0.00     0.493     -0.344    -0.0918          0.0  0.812  0.728  0.975  0.637  0.569  0.777   0.715    1.0\n",
       "2      0.353      -1.070      -1.740                     1.170              -0.199     0.558     0.0574      -1.49         1.09     0.912     -1.080      0.571         0.00     0.781     -0.320     -1.040         2.55     0.616     -1.510     1.5500          0.0  0.829  1.060  0.992  0.825  0.365  0.800   0.766    0.0\n",
       "3      0.757       0.822      -1.290                     0.208              -0.151     1.220    -1.6400       1.53         0.00     1.680      0.189     -0.645         0.00     1.780      0.285      0.520         2.55     1.130     -0.932     0.1170          3.1  4.290  2.420  0.995  0.923  0.927  1.760   1.360    1.0\n",
       "4      2.040       2.030      -0.472                     0.424              -1.500     1.060     0.7980       1.22         2.17     0.805     -0.661     -1.460         0.00     0.885      1.440      0.809         0.00     1.290      0.493    -0.0791          3.1  0.895  0.936  1.030  1.560  1.150  1.120   1.160    1.0"
      ]
     },
     "metadata": {},
     "output_type": "display_data"
    },
    {
     "data": {
      "text/html": [
       "<div>\n",
       "<style scoped>\n",
       "    .dataframe tbody tr th:only-of-type {\n",
       "        vertical-align: middle;\n",
       "    }\n",
       "\n",
       "    .dataframe tbody tr th {\n",
       "        vertical-align: top;\n",
       "    }\n",
       "\n",
       "    .dataframe thead th {\n",
       "        text-align: right;\n",
       "    }\n",
       "</style>\n",
       "<table border=\"1\" class=\"dataframe\">\n",
       "  <thead>\n",
       "    <tr style=\"text-align: right;\">\n",
       "      <th></th>\n",
       "      <th>lepton pT</th>\n",
       "      <th>lepton eta</th>\n",
       "      <th>lepton phi</th>\n",
       "      <th>missing energy magnitude</th>\n",
       "      <th>missing energy phi</th>\n",
       "      <th>jet 1 pt</th>\n",
       "      <th>jet 1 eta</th>\n",
       "      <th>jet 1 phi</th>\n",
       "      <th>jet 1 b-tag</th>\n",
       "      <th>jet 2 pt</th>\n",
       "      <th>jet 2 eta</th>\n",
       "      <th>jet 2 phi</th>\n",
       "      <th>jet 2 b-tag</th>\n",
       "      <th>jet 3 pt</th>\n",
       "      <th>jet 3 eta</th>\n",
       "      <th>jet 3 phi</th>\n",
       "      <th>jet 3 b-tag</th>\n",
       "      <th>jet 4 pt</th>\n",
       "      <th>jet 4 eta</th>\n",
       "      <th>jet 4 phi</th>\n",
       "      <th>jet 4 b-tag</th>\n",
       "      <th>m_jj</th>\n",
       "      <th>m_jjj</th>\n",
       "      <th>m_lv</th>\n",
       "      <th>m_jlv</th>\n",
       "      <th>m_bb</th>\n",
       "      <th>m_wbb</th>\n",
       "      <th>m_wwbb</th>\n",
       "      <th>class</th>\n",
       "    </tr>\n",
       "  </thead>\n",
       "  <tbody>\n",
       "    <tr>\n",
       "      <th>count</th>\n",
       "      <td>5000.000000</td>\n",
       "      <td>5000.000000</td>\n",
       "      <td>5000.000000</td>\n",
       "      <td>5000.000000</td>\n",
       "      <td>5000.000000</td>\n",
       "      <td>5000.000000</td>\n",
       "      <td>5000.000000</td>\n",
       "      <td>5000.000000</td>\n",
       "      <td>5000.000000</td>\n",
       "      <td>5000.000000</td>\n",
       "      <td>5000.000000</td>\n",
       "      <td>5000.000000</td>\n",
       "      <td>5000.000000</td>\n",
       "      <td>5000.000000</td>\n",
       "      <td>5000.000000</td>\n",
       "      <td>5000.000000</td>\n",
       "      <td>5000.000000</td>\n",
       "      <td>5000.000000</td>\n",
       "      <td>5000.000000</td>\n",
       "      <td>5000.000000</td>\n",
       "      <td>5000.000000</td>\n",
       "      <td>5000.000000</td>\n",
       "      <td>5000.000000</td>\n",
       "      <td>5000.000000</td>\n",
       "      <td>5000.000000</td>\n",
       "      <td>5000.000000</td>\n",
       "      <td>5000.000000</td>\n",
       "      <td>5000.000000</td>\n",
       "      <td>5000.000000</td>\n",
       "    </tr>\n",
       "    <tr>\n",
       "      <th>mean</th>\n",
       "      <td>0.986168</td>\n",
       "      <td>0.011449</td>\n",
       "      <td>-0.011057</td>\n",
       "      <td>0.995656</td>\n",
       "      <td>-0.026783</td>\n",
       "      <td>0.990357</td>\n",
       "      <td>0.006779</td>\n",
       "      <td>0.008310</td>\n",
       "      <td>0.999370</td>\n",
       "      <td>0.992922</td>\n",
       "      <td>0.015321</td>\n",
       "      <td>0.010629</td>\n",
       "      <td>1.014648</td>\n",
       "      <td>0.984070</td>\n",
       "      <td>0.017681</td>\n",
       "      <td>-0.012232</td>\n",
       "      <td>0.992122</td>\n",
       "      <td>0.982671</td>\n",
       "      <td>-0.020045</td>\n",
       "      <td>0.017153</td>\n",
       "      <td>0.996650</td>\n",
       "      <td>1.024146</td>\n",
       "      <td>1.023271</td>\n",
       "      <td>1.047602</td>\n",
       "      <td>1.005986</td>\n",
       "      <td>0.972397</td>\n",
       "      <td>1.027461</td>\n",
       "      <td>0.954268</td>\n",
       "      <td>0.529600</td>\n",
       "    </tr>\n",
       "    <tr>\n",
       "      <th>std</th>\n",
       "      <td>0.550671</td>\n",
       "      <td>1.015018</td>\n",
       "      <td>1.012867</td>\n",
       "      <td>0.601449</td>\n",
       "      <td>1.012443</td>\n",
       "      <td>0.483224</td>\n",
       "      <td>1.005735</td>\n",
       "      <td>0.992744</td>\n",
       "      <td>1.023674</td>\n",
       "      <td>0.499675</td>\n",
       "      <td>0.994269</td>\n",
       "      <td>1.007182</td>\n",
       "      <td>1.046952</td>\n",
       "      <td>0.478845</td>\n",
       "      <td>1.012092</td>\n",
       "      <td>1.007317</td>\n",
       "      <td>1.198333</td>\n",
       "      <td>0.505908</td>\n",
       "      <td>1.005818</td>\n",
       "      <td>1.020375</td>\n",
       "      <td>1.395097</td>\n",
       "      <td>0.596476</td>\n",
       "      <td>0.352384</td>\n",
       "      <td>0.155067</td>\n",
       "      <td>0.402897</td>\n",
       "      <td>0.515233</td>\n",
       "      <td>0.360030</td>\n",
       "      <td>0.314996</td>\n",
       "      <td>0.499173</td>\n",
       "    </tr>\n",
       "    <tr>\n",
       "      <th>min</th>\n",
       "      <td>0.275000</td>\n",
       "      <td>-2.390000</td>\n",
       "      <td>-1.740000</td>\n",
       "      <td>0.014000</td>\n",
       "      <td>-1.740000</td>\n",
       "      <td>0.236000</td>\n",
       "      <td>-2.960000</td>\n",
       "      <td>-1.740000</td>\n",
       "      <td>0.000000</td>\n",
       "      <td>0.190000</td>\n",
       "      <td>-2.870000</td>\n",
       "      <td>-1.740000</td>\n",
       "      <td>0.000000</td>\n",
       "      <td>0.265000</td>\n",
       "      <td>-2.730000</td>\n",
       "      <td>-1.740000</td>\n",
       "      <td>0.000000</td>\n",
       "      <td>0.366000</td>\n",
       "      <td>-2.490000</td>\n",
       "      <td>-1.740000</td>\n",
       "      <td>0.000000</td>\n",
       "      <td>0.161000</td>\n",
       "      <td>0.310000</td>\n",
       "      <td>0.493000</td>\n",
       "      <td>0.445000</td>\n",
       "      <td>0.048100</td>\n",
       "      <td>0.417000</td>\n",
       "      <td>0.448000</td>\n",
       "      <td>0.000000</td>\n",
       "    </tr>\n",
       "    <tr>\n",
       "      <th>25%</th>\n",
       "      <td>0.584000</td>\n",
       "      <td>-0.729000</td>\n",
       "      <td>-0.891250</td>\n",
       "      <td>0.569000</td>\n",
       "      <td>-0.901000</td>\n",
       "      <td>0.676000</td>\n",
       "      <td>-0.688250</td>\n",
       "      <td>-0.840000</td>\n",
       "      <td>0.000000</td>\n",
       "      <td>0.661000</td>\n",
       "      <td>-0.688250</td>\n",
       "      <td>-0.859250</td>\n",
       "      <td>0.000000</td>\n",
       "      <td>0.651000</td>\n",
       "      <td>-0.686250</td>\n",
       "      <td>-0.873250</td>\n",
       "      <td>0.000000</td>\n",
       "      <td>0.616000</td>\n",
       "      <td>-0.728000</td>\n",
       "      <td>-0.884500</td>\n",
       "      <td>0.000000</td>\n",
       "      <td>0.791750</td>\n",
       "      <td>0.849000</td>\n",
       "      <td>0.986000</td>\n",
       "      <td>0.766750</td>\n",
       "      <td>0.675000</td>\n",
       "      <td>0.819000</td>\n",
       "      <td>0.767000</td>\n",
       "      <td>0.000000</td>\n",
       "    </tr>\n",
       "    <tr>\n",
       "      <th>50%</th>\n",
       "      <td>0.855000</td>\n",
       "      <td>0.013600</td>\n",
       "      <td>-0.023250</td>\n",
       "      <td>0.890000</td>\n",
       "      <td>-0.031950</td>\n",
       "      <td>0.888000</td>\n",
       "      <td>0.012800</td>\n",
       "      <td>0.030100</td>\n",
       "      <td>1.090000</td>\n",
       "      <td>0.890000</td>\n",
       "      <td>0.014150</td>\n",
       "      <td>0.019600</td>\n",
       "      <td>1.110000</td>\n",
       "      <td>0.887000</td>\n",
       "      <td>0.003810</td>\n",
       "      <td>-0.007130</td>\n",
       "      <td>0.000000</td>\n",
       "      <td>0.871000</td>\n",
       "      <td>-0.033800</td>\n",
       "      <td>0.024800</td>\n",
       "      <td>0.000000</td>\n",
       "      <td>0.892000</td>\n",
       "      <td>0.957000</td>\n",
       "      <td>0.990000</td>\n",
       "      <td>0.910000</td>\n",
       "      <td>0.875000</td>\n",
       "      <td>0.941000</td>\n",
       "      <td>0.865000</td>\n",
       "      <td>1.000000</td>\n",
       "    </tr>\n",
       "    <tr>\n",
       "      <th>75%</th>\n",
       "      <td>1.230000</td>\n",
       "      <td>0.771000</td>\n",
       "      <td>0.860250</td>\n",
       "      <td>1.290000</td>\n",
       "      <td>0.854000</td>\n",
       "      <td>1.170000</td>\n",
       "      <td>0.702000</td>\n",
       "      <td>0.850250</td>\n",
       "      <td>2.170000</td>\n",
       "      <td>1.210000</td>\n",
       "      <td>0.691250</td>\n",
       "      <td>0.871250</td>\n",
       "      <td>2.210000</td>\n",
       "      <td>1.210000</td>\n",
       "      <td>0.717000</td>\n",
       "      <td>0.863000</td>\n",
       "      <td>2.550000</td>\n",
       "      <td>1.220000</td>\n",
       "      <td>0.714250</td>\n",
       "      <td>0.917250</td>\n",
       "      <td>3.100000</td>\n",
       "      <td>1.030000</td>\n",
       "      <td>1.090000</td>\n",
       "      <td>1.020000</td>\n",
       "      <td>1.130000</td>\n",
       "      <td>1.140000</td>\n",
       "      <td>1.130000</td>\n",
       "      <td>1.050000</td>\n",
       "      <td>1.000000</td>\n",
       "    </tr>\n",
       "    <tr>\n",
       "      <th>max</th>\n",
       "      <td>4.960000</td>\n",
       "      <td>2.400000</td>\n",
       "      <td>1.740000</td>\n",
       "      <td>5.510000</td>\n",
       "      <td>1.740000</td>\n",
       "      <td>5.320000</td>\n",
       "      <td>2.960000</td>\n",
       "      <td>1.740000</td>\n",
       "      <td>2.170000</td>\n",
       "      <td>4.930000</td>\n",
       "      <td>2.900000</td>\n",
       "      <td>1.740000</td>\n",
       "      <td>2.210000</td>\n",
       "      <td>5.410000</td>\n",
       "      <td>2.710000</td>\n",
       "      <td>1.740000</td>\n",
       "      <td>2.550000</td>\n",
       "      <td>7.510000</td>\n",
       "      <td>2.500000</td>\n",
       "      <td>1.740000</td>\n",
       "      <td>3.100000</td>\n",
       "      <td>9.280000</td>\n",
       "      <td>5.180000</td>\n",
       "      <td>3.930000</td>\n",
       "      <td>4.800000</td>\n",
       "      <td>5.560000</td>\n",
       "      <td>4.690000</td>\n",
       "      <td>5.990000</td>\n",
       "      <td>1.000000</td>\n",
       "    </tr>\n",
       "  </tbody>\n",
       "</table>\n",
       "</div>"
      ],
      "text/plain": [
       "         lepton pT   lepton eta   lepton phi  missing energy magnitude  missing energy phi     jet 1 pt    jet 1 eta    jet 1 phi  jet 1 b-tag     jet 2 pt    jet 2 eta    jet 2 phi  jet 2 b-tag     jet 3 pt    jet 3 eta    jet 3 phi  jet 3 b-tag     jet 4 pt    jet 4 eta    jet 4 phi  jet 4 b-tag         m_jj        m_jjj         m_lv        m_jlv         m_bb        m_wbb       m_wwbb        class\n",
       "count  5000.000000  5000.000000  5000.000000               5000.000000         5000.000000  5000.000000  5000.000000  5000.000000  5000.000000  5000.000000  5000.000000  5000.000000  5000.000000  5000.000000  5000.000000  5000.000000  5000.000000  5000.000000  5000.000000  5000.000000  5000.000000  5000.000000  5000.000000  5000.000000  5000.000000  5000.000000  5000.000000  5000.000000  5000.000000\n",
       "mean      0.986168     0.011449    -0.011057                  0.995656           -0.026783     0.990357     0.006779     0.008310     0.999370     0.992922     0.015321     0.010629     1.014648     0.984070     0.017681    -0.012232     0.992122     0.982671    -0.020045     0.017153     0.996650     1.024146     1.023271     1.047602     1.005986     0.972397     1.027461     0.954268     0.529600\n",
       "std       0.550671     1.015018     1.012867                  0.601449            1.012443     0.483224     1.005735     0.992744     1.023674     0.499675     0.994269     1.007182     1.046952     0.478845     1.012092     1.007317     1.198333     0.505908     1.005818     1.020375     1.395097     0.596476     0.352384     0.155067     0.402897     0.515233     0.360030     0.314996     0.499173\n",
       "min       0.275000    -2.390000    -1.740000                  0.014000           -1.740000     0.236000    -2.960000    -1.740000     0.000000     0.190000    -2.870000    -1.740000     0.000000     0.265000    -2.730000    -1.740000     0.000000     0.366000    -2.490000    -1.740000     0.000000     0.161000     0.310000     0.493000     0.445000     0.048100     0.417000     0.448000     0.000000\n",
       "25%       0.584000    -0.729000    -0.891250                  0.569000           -0.901000     0.676000    -0.688250    -0.840000     0.000000     0.661000    -0.688250    -0.859250     0.000000     0.651000    -0.686250    -0.873250     0.000000     0.616000    -0.728000    -0.884500     0.000000     0.791750     0.849000     0.986000     0.766750     0.675000     0.819000     0.767000     0.000000\n",
       "50%       0.855000     0.013600    -0.023250                  0.890000           -0.031950     0.888000     0.012800     0.030100     1.090000     0.890000     0.014150     0.019600     1.110000     0.887000     0.003810    -0.007130     0.000000     0.871000    -0.033800     0.024800     0.000000     0.892000     0.957000     0.990000     0.910000     0.875000     0.941000     0.865000     1.000000\n",
       "75%       1.230000     0.771000     0.860250                  1.290000            0.854000     1.170000     0.702000     0.850250     2.170000     1.210000     0.691250     0.871250     2.210000     1.210000     0.717000     0.863000     2.550000     1.220000     0.714250     0.917250     3.100000     1.030000     1.090000     1.020000     1.130000     1.140000     1.130000     1.050000     1.000000\n",
       "max       4.960000     2.400000     1.740000                  5.510000            1.740000     5.320000     2.960000     1.740000     2.170000     4.930000     2.900000     1.740000     2.210000     5.410000     2.710000     1.740000     2.550000     7.510000     2.500000     1.740000     3.100000     9.280000     5.180000     3.930000     4.800000     5.560000     4.690000     5.990000     1.000000"
      ]
     },
     "metadata": {},
     "output_type": "display_data"
    }
   ],
   "source": [
    "display(data_train.head())\n",
    "display(data_train.describe())"
   ]
  },
  {
   "cell_type": "code",
   "execution_count": null,
   "metadata": {},
   "outputs": [],
   "source": []
  },
  {
   "cell_type": "code",
   "execution_count": 5,
   "metadata": {},
   "outputs": [
    {
     "data": {
      "text/plain": [
       "array([[ 0.884, -0.462,  0.196, ...,  0.713,  0.812,  0.821],\n",
       "       [ 0.78 , -0.292,  0.897, ...,  0.569,  0.777,  0.715],\n",
       "       [ 0.353, -1.07 , -1.74 , ...,  0.365,  0.8  ,  0.766],\n",
       "       ...,\n",
       "       [ 0.402, -2.06 ,  0.841, ...,  0.304,  0.686,  0.765],\n",
       "       [ 1.65 , -0.806,  0.865, ...,  1.42 ,  1.18 ,  1.1  ],\n",
       "       [ 0.59 , -1.74 , -1.73 , ...,  0.467,  0.683,  0.678]])"
      ]
     },
     "execution_count": 5,
     "metadata": {},
     "output_type": "execute_result"
    }
   ],
   "source": [
    "# Split into NumPy arrays\n",
    "X_train = data_train.iloc[:, data_train.columns != 'class'].values\n",
    "# X_train = pd.DataFrame(X_train, columns=data_train.columns.tolist()[0:28])\n",
    "y_train = data_train['class'].values\n",
    "X_test = data_test.iloc[:, data_test.columns != 'class'].values\n",
    "y_test = data_test['class'].values\n",
    "X_train"
   ]
  },
  {
   "cell_type": "markdown",
   "metadata": {},
   "source": [
    "---"
   ]
  },
  {
   "cell_type": "markdown",
   "metadata": {},
   "source": [
    "<div class='exercise'><b>Question 1 [25 pts]: Base Modeling </b></div>\n",
    "We begin by looking at parametric approaches to modeling the Boson data.\n",
    "\n",
    "**1.1** Calculate the correlation matrix (using `df.corr()` from pandas) between all predictors in the training data set and represent this as a heatmap using (`seaborn.heatmap`).  What does the suggest about the presence of muilticollinearity in the predictor set?\n",
    "\n",
    "**1.2** Fit a logistic regression model to predict `class` from all 28 of the predictors, and evaluate the model's accuracy on both the training and test sets.\n",
    "\n",
    "**1.3** Fit a logistic regression model to predict `class` from all 28 of the predictors and all two-way interactions between these predictors (you should have $28+{28 \\choose 2} = 406$ columns in the design matrix, ignoring the intercept).  Evaluate the model's accuracy on both the training and test sets.\n",
    "\n",
    "Hint: you may have to scale your predictors (purely for numerical reasons) and use`maxiter=2000` to avoid the warnings (the next part as well).\n",
    "\n",
    "**1.4** Use 'L2' regularization on the model in the previous part, tuning the penalty term using 5-fold cross-validation (consider the set of Cs to be [0.01,0.1,1,10,100,1000]).  Which penalty term performed best?  Evaluate the best model's accuracy on both the training and test sets and assign them to variables named `logistic_train_score` and `logistic_test_score`.\n",
    "\n",
    "**1.5** Compare the performance of the 3 models above.  Which model performs the best on the train set?  Which the best on the test set?  Is this expected?"
   ]
  },
  {
   "cell_type": "markdown",
   "metadata": {},
   "source": [
    "## Answers:"
   ]
  },
  {
   "cell_type": "markdown",
   "metadata": {},
   "source": [
    "**1.1** Calculate the correlation matrix (using `df.corr()` from pandas) between all predictors in the training data set and represent this as a heatmap using (`seaborn.heatmap`).  What does the suggest about the presence of muilticollinearity in the predictor set?"
   ]
  },
  {
   "cell_type": "code",
   "execution_count": 6,
   "metadata": {},
   "outputs": [],
   "source": [
    "# data_train"
   ]
  },
  {
   "cell_type": "code",
   "execution_count": 7,
   "metadata": {},
   "outputs": [
    {
     "data": {
      "image/png": "[encoded data removed]",
      "text/plain": [
       "<Figure size 792x576 with 2 Axes>"
      ]
     },
     "metadata": {},
     "output_type": "display_data"
    }
   ],
   "source": [
    "# 1.1\n",
    "plt.figure(figsize=(11,8))\n",
    "corrMat = data_train.iloc[:,0:28].corr()\n",
    "sns.heatmap(corrMat)\n",
    "plt.show()"
   ]
  },
  {
   "cell_type": "markdown",
   "metadata": {},
   "source": [
    "##### Answer 1.1:  \n",
    "The plot illustrates that the last 7 predictors (the one made by physicists) creates most  of the correlation. It makes sense that the predictors made by the physicists have correlation with the other predictors because they are derived based on the 21 first predictors. The correlation is highest within the predictors made by physicists (around 0.6) and that indicates that they are derived based on similar inputs. Other than this there is low correlation, while it seems to follow some form of pattern throughout."
   ]
  },
  {
   "cell_type": "markdown",
   "metadata": {},
   "source": [
    "**1.2** Fit a logistic regression model to predict `class` from all 28 of the predictors, and evaluate the model's accuracy on both the training and test sets."
   ]
  },
  {
   "cell_type": "code",
   "execution_count": 8,
   "metadata": {},
   "outputs": [
    {
     "name": "stdout",
     "output_type": "stream",
     "text": [
      "The accuracy score on the train set is 0.6546.\n",
      "The accuracy score on the test set is 0.6288.\n"
     ]
    }
   ],
   "source": [
    "logit = LogisticRegression(penalty=\"none\", fit_intercept=True).fit(X_train, y_train)\n",
    "print(f'The accuracy score on the train set is {accuracy_score(y_train, logit.predict(X_train))}.')\n",
    "print(f'The accuracy score on the test set is {accuracy_score(y_test, logit.predict(X_test))}.')"
   ]
  },
  {
   "cell_type": "markdown",
   "metadata": {},
   "source": [
    "**1.3** Fit a logistic regression model to predict `class` from all 28 of the predictors and all two-way interactions between these predictors (you should have $28+{28 \\choose 2} = 406$ columns in the design matrix, ignoring the intercept).  Evaluate the model's accuracy on both the training and test sets.\n",
    "\n",
    "Hint: you may have to scale your predictors (purely for numerical reasons) and use`maxiter=2000` to avoid the warnings (the next part as well)."
   ]
  },
  {
   "cell_type": "code",
   "execution_count": 9,
   "metadata": {},
   "outputs": [
    {
     "name": "stdout",
     "output_type": "stream",
     "text": [
      "The accuracy_score for the train with two-way interactions is: 0.7122.\n",
      "The accuracy_score for the test set with two-way interactions i 0.6314.\n"
     ]
    }
   ],
   "source": [
    "# Adding all the two-way interaction terms:\n",
    "transformer = PolynomialFeatures(2, interaction_only=True, include_bias=False)\n",
    "transformer = transformer.fit(X_train)\n",
    "expanded_train = transformer.transform(X_train)\n",
    "expanded_test = transformer.transform(X_test)\n",
    "\n",
    "# Standardizing the predictors:\n",
    "from sklearn.preprocessing import StandardScaler\n",
    "scaler = StandardScaler().fit(expanded_train) \n",
    "expanded_trainSTD = scaler.transform(expanded_train) \n",
    "expanded_testSTD = scaler.transform(expanded_test) \n",
    "logit_interact = LogisticRegression(penalty=\"none\", fit_intercept=False, max_iter=2000)\n",
    "logit_interact.fit(expanded_trainSTD, y_train)\n",
    "\n",
    "print(f'The accuracy_score for the train with two-way interactions is: {accuracy_score(y_train, logit_interact.predict(expanded_trainSTD))}.')\n",
    "print(f'The accuracy_score for the test set with two-way interactions i {accuracy_score(y_test, logit_interact.predict(expanded_testSTD))}.')"
   ]
  },
  {
   "cell_type": "markdown",
   "metadata": {},
   "source": [
    "**1.4** Use 'L2' regularization on the model in the previous part, tuning the penalty term using 5-fold cross-validation (consider the set of Cs to be [0.01,0.1,1,10,100,1000]).  Which penalty term performed best?  Evaluate the best model's accuracy on both the training and test sets. \n",
    "\n"
   ]
  },
  {
   "cell_type": "code",
   "execution_count": 10,
   "metadata": {},
   "outputs": [
    {
     "data": {
      "text/plain": [
       "LogisticRegressionCV(Cs=[0.01, 0.1, 1, 10, 100, 1000], cv=5, max_iter=2000)"
      ]
     },
     "execution_count": 10,
     "metadata": {},
     "output_type": "execute_result"
    }
   ],
   "source": [
    "from sklearn.linear_model import LogisticRegressionCV\n",
    "logit_interactCV = LogisticRegressionCV(Cs=[0.01,0.1,1,10,100,1000], penalty='l2', cv=5, max_iter=2000)\n",
    "logit_interactCV.fit(expanded_trainSTD, y_train)\n"
   ]
  },
  {
   "cell_type": "code",
   "execution_count": 11,
   "metadata": {},
   "outputs": [
    {
     "name": "stdout",
     "output_type": "stream",
     "text": [
      "The penalty term that performed best was 0.1\n",
      "The test score with C=0.1 is 0.7\n",
      "The test score with C=0.1 is 0.632\n"
     ]
    }
   ],
   "source": [
    "print(f'The penalty term that performed best was {logit_interactCV.C_[0]}')\n",
    "\n",
    "logit_interact1 = LogisticRegression(C=0.1, fit_intercept=False, max_iter=2000)\n",
    "logit_interact1.fit(expanded_trainSTD, y_train)\n",
    "print(f'The test score with C=0.1 is {accuracy_score(y_train, logit_interact1.predict(expanded_trainSTD))}')\n",
    "print(f'The test score with C=0.1 is {accuracy_score(y_test, logit_interact1.predict(expanded_testSTD))}')\n"
   ]
  },
  {
   "cell_type": "markdown",
   "metadata": {},
   "source": [
    "**1.5** Compare the performance of the 3 models above.  Which model performs the best on the train set?  Which the best on the test set?  Is this expected?"
   ]
  },
  {
   "cell_type": "markdown",
   "metadata": {},
   "source": [
    "The final model including regularization does best on the test set, just marginally better than our model without regularization but with interaction terms, which does best on the train set. This makes sense since adding more predictors will lead to more fitting (and overfitting) to the train data set and thus a higher score on train. The test score confirms this overfitting. \n",
    "\n",
    "The model without interaction terms does worst, but is still only 0.0032 lower on the test set than our best scoring model.\n",
    "One can argue that it is preferable to choose the simpler model in this case in order to choose a model that does almost as good with much fewer predictors and more interpretability."
   ]
  },
  {
   "cell_type": "markdown",
   "metadata": {},
   "source": [
    "---"
   ]
  },
  {
   "cell_type": "markdown",
   "metadata": {},
   "source": [
    "<div class='exercise'><b>Question 2 [30 pts]: Tree and Forest Models </b></div>\n",
    "Our first go to tree-based models, along with our first ensemble methods (bagging and random forests) which we played around with a bit on homework 4.\n",
    "\n",
    "**2.1** Fit a decision tree model to the training set. Choose a range of tree depths from 1 to 20 and evaluate the  performance and standard deviations for each depth using 5-fold cross-validation. Plot the estimated mean +/- 2 standard deviations for each depth. Also, include the training set performance in your plot, but set the y-axis to focus on the cross-validation performance. \n",
    "Store the CV means and std variables `cvmeans`, `cvstds` and the train score `train_scores`  \n",
    "\n",
    "*Hint*: use `plt.fill_between` to shade the region.\n",
    "\n",
    "**2.2** Select an appropriate depth and justify your choice using your cross-validation estimates. Then report the classification accuracy on the **test set**. Store the training and test accuracies in variables named `best_cv_tree_train_score` and `best_cv_tree_test_score` to refer to in a later question.\n",
    "\n",
    "**2.3** Fit a Bagging model using the `X_train` data.  Tune (1) the tree depth from the depths of [5.10.15], and (2) the number of trees from the options [20,50,100].  Evaluate its accuracy on the train and test sets and assign it to variables named `bagging_train_score` and `bagging_test_score`.\n",
    "\n",
    "**2.4** Fit a `RandomForestClassifier` using the original `X_train` data using the same tree depth and number of trees that you used in the previous question, but tune the number features to consider when looking for the best splits (consider from the list [5,10,15,20,25]). Evaluate its accuracy on the train and test sets and assign it to variables named `random_forest_train_score` and `random_forest_test_score`.\n",
    "\n",
    "**2.5** Why should the bagging model be tuned to a `max_depth` that is at least as deep as the best single tree depth (from 2.2)?\n",
    "\n",
    "**2.6**: If you were to run your code again for the bagging and random forest models, would you get the same results?  Why?\n"
   ]
  },
  {
   "cell_type": "markdown",
   "metadata": {},
   "source": [
    "## Answers"
   ]
  },
  {
   "cell_type": "markdown",
   "metadata": {},
   "source": [
    "**2.1** Fit a decision tree model to the training set. Choose a range of tree depths from 1 to 20 and evaluate the  performance and standard deviations for each depth using 5-fold cross-validation. Plot the estimated mean +/- 2 standard deviations for each depth. Also, include the training set performance in your plot, but set the y-axis to focus on the cross-validation performance. \n",
    "Store the CV means and std variables `cvmeans`, `cvstds` and the train score `train_scores`  \n",
    "\n",
    "*Hint*: use `plt.fill_between` to shade the region.\n"
   ]
  },
  {
   "cell_type": "code",
   "execution_count": 12,
   "metadata": {},
   "outputs": [],
   "source": [
    "from sklearn.model_selection import cross_val_score\n",
    "from sklearn.tree import DecisionTreeRegressor\n",
    "\n",
    "# getting scores, means and stds for all depths:\n",
    "maxdepths = list(range(1, 21))\n",
    "train_scores = []\n",
    "cvmeans = []\n",
    "cvstds = []\n",
    "cvscores = []\n",
    "\n",
    "for depth in maxdepths:\n",
    "    dtree = DecisionTreeRegressor(max_depth=depth)\n",
    "    train_scores.append(dtree.fit(X_train, y_train).score(X_train, y_train))\n",
    "    scores = cross_val_score(estimator=dtree, X=X_train, y=y_train, cv=5)\n",
    "    cvscores.append(scores)\n",
    "    cvmeans.append(scores.mean())\n",
    "    cvstds.append(scores.std())\n",
    "\n",
    "cvmeans = np.array(cvmeans)\n",
    "cvstds = np.array(cvstds)"
   ]
  },
  {
   "cell_type": "code",
   "execution_count": 13,
   "metadata": {},
   "outputs": [
    {
     "data": {
      "image/png": "[encoded data removed]",
      "text/plain": [
       "<Figure size 432x288 with 1 Axes>"
      ]
     },
     "metadata": {},
     "output_type": "display_data"
    }
   ],
   "source": [
    "# plot:\n",
    "plt.plot(maxdepths, cvmeans, 'o-', label=\"Mean CV\")\n",
    "plt.fill_between(maxdepths, cvmeans - 2*cvstds, cvmeans + 2*cvstds, alpha=0.4)\n",
    "plt.plot(maxdepths, train_scores, '-.', label=\"Train\")\n",
    "plt.legend()\n",
    "plt.ylabel(\"Accurracy score\")\n",
    "plt.xlabel(\"Max depth\")\n",
    "plt.xticks(maxdepths);"
   ]
  },
  {
   "cell_type": "markdown",
   "metadata": {},
   "source": [
    "**2.2** Select an appropriate depth and justify your choice using your cross-validation estimates. Then report the classification accuracy on the **test set**. Store the training and test accuracies in variables named `best_cv_tree_train_score` and `best_cv_tree_test_score` to refer to in a later question."
   ]
  },
  {
   "cell_type": "code",
   "execution_count": 14,
   "metadata": {},
   "outputs": [
    {
     "name": "stdout",
     "output_type": "stream",
     "text": [
      "For a max depth of 4 the train score is 0.1666, and the test score is 0.1102\n"
     ]
    }
   ],
   "source": [
    "# Choosing a max depth of 4 since this gives us the highest mean score from cross-validation.\n",
    "\n",
    "dtree = DecisionTreeRegressor(max_depth=4)\n",
    "best_cv_tree_train_score = dtree.fit(X_train, y_train).score(X_train, y_train)\n",
    "best_cv_tree_test_score = dtree.fit(X_train, y_train).score(X_test, y_test)\n",
    "print(f'For a max depth of 4 the train score is {best_cv_tree_train_score:.4}, and the test score is {best_cv_tree_test_score:.4}')"
   ]
  },
  {
   "cell_type": "markdown",
   "metadata": {},
   "source": [
    "**2.3** Fit a Bagging model using the `X_train` data.  Tune (1) the tree depth from the depths of [5.10.15], and (2) the number of trees from the options [20,50,100].  Evaluate its accuracy on the train and test sets and assign it to variables named `bagging_train_score` and `bagging_test_score`."
   ]
  },
  {
   "cell_type": "code",
   "execution_count": 24,
   "metadata": {
    "scrolled": true
   },
   "outputs": [
    {
     "name": "stdout",
     "output_type": "stream",
     "text": [
      "The best score on the test set is 0.6866, with 100 trees and depth 10\n"
     ]
    },
    {
     "data": {
      "text/plain": [
       "{'bootstrap': True,\n",
       " 'ccp_alpha': 0.0,\n",
       " 'class_weight': None,\n",
       " 'criterion': 'gini',\n",
       " 'max_depth': 10,\n",
       " 'max_features': None,\n",
       " 'max_leaf_nodes': None,\n",
       " 'max_samples': None,\n",
       " 'min_impurity_decrease': 0.0,\n",
       " 'min_impurity_split': None,\n",
       " 'min_samples_leaf': 1,\n",
       " 'min_samples_split': 2,\n",
       " 'min_weight_fraction_leaf': 0.0,\n",
       " 'n_estimators': 100,\n",
       " 'n_jobs': -1,\n",
       " 'oob_score': False,\n",
       " 'random_state': 0,\n",
       " 'verbose': 0,\n",
       " 'warm_start': False}"
      ]
     },
     "execution_count": 24,
     "metadata": {},
     "output_type": "execute_result"
    }
   ],
   "source": [
    "# running Bagging with randomforest by setting max_features=1\n",
    "from sklearn.model_selection import ParameterGrid\n",
    "\n",
    "param_dict = {'max_depth': [5,10,15], 'n_estimators': [20, 50, 100]}\n",
    "param_grid = ParameterGrid(param_dict)\n",
    "clf = RandomForestClassifier(n_jobs=-1,\n",
    "                               random_state=0,\n",
    "                               max_features=None)\n",
    "bagging_train_score = [0]\n",
    "bagging_test_score = [0]\n",
    "best_params={}\n",
    "for params in param_grid:\n",
    "    clf.set_params(**params)\n",
    "    clf.fit(X_train, y_train)\n",
    "    if accuracy_score(y_test, clf.predict(X_test)) > bagging_test_score:\n",
    "        best_params = clf.get_params()\n",
    "        bagging_train_score = accuracy_score(y_train, clf.predict(X_train))\n",
    "        bagging_test_score = accuracy_score(y_test, clf.predict(X_test))\n",
    "\n",
    "depth, trees = best_params['max_depth'], best_params['n_estimators']\n",
    "print(f'The best score on the test set is {bagging_test_score}, with {trees} trees and depth {depth}')\n",
    "best_params"
   ]
  },
  {
   "cell_type": "code",
   "execution_count": null,
   "metadata": {},
   "outputs": [],
   "source": [
    "--\n",
    "\n",
    "\n",
    "# detteer orginale bagging. prøver heller parameter grid først. slett:\n",
    "from sklearn.utils import resample\n",
    "ntrees = 200\n",
    "estimators = []\n",
    "R2s = []\n",
    "yhats_test = np.zeros((X_test.shape[0], ntrees))\n",
    "yhats_dummy = np.zeros((dummy_x.shape[0], ntrees))\n",
    "plt.plot(elect_train['logminority'],y_train,'.')\n",
    "for i in range(ntrees):\n",
    "    simpletree = DecisionTreeRegressor(max_depth=10)  \n",
    "    boot_x, boot_y = resample(X_train[['logminority']], y_train)   #Resampling\n",
    "    estimators.append(simpletree.fit(boot_x, boot_y))\n",
    "    R2s.append(simpletree.score(X_test[['logminority']], y_test))\n",
    "    yhats_test[:,i] = simpletree.predict(X_test[['logminority']])\n",
    "    yhats_dummy[:,i] = simpletree.predict(dummy_x.reshape(-1,1))\n",
    "    plt.plot(dummy_x, simpletree.predict(dummy_x.reshape(-1,1)), 'red', alpha=0.02)\n",
    "plt.plot(dummy_x,np.mean(yhats_dummy,axis=1),'black');"
   ]
  },
  {
   "cell_type": "markdown",
   "metadata": {},
   "source": [
    "**2.4** Fit a `RandomForestClassifier` using the original `X_train` data using the same tree depth and number of trees that you used in the previous question, but tune the number features to consider when looking for the best splits (consider from the list [5,10,15,20,25]). Evaluate its accuracy on the train and test sets and assign it to variables named `random_forest_train_score` and `random_forest_test_score`.\n",
    "\n",
    "\n"
   ]
  },
  {
   "cell_type": "code",
   "execution_count": 20,
   "metadata": {},
   "outputs": [
    {
     "name": "stdout",
     "output_type": "stream",
     "text": [
      "The best score on the test set is 0.6922, with 25 as the best splitting number.\n"
     ]
    },
    {
     "data": {
      "text/plain": [
       "{'bootstrap': True,\n",
       " 'ccp_alpha': 0.0,\n",
       " 'class_weight': None,\n",
       " 'criterion': 'gini',\n",
       " 'max_depth': 15,\n",
       " 'max_features': 25,\n",
       " 'max_leaf_nodes': None,\n",
       " 'max_samples': None,\n",
       " 'min_impurity_decrease': 0.0,\n",
       " 'min_impurity_split': None,\n",
       " 'min_samples_leaf': 1,\n",
       " 'min_samples_split': 2,\n",
       " 'min_weight_fraction_leaf': 0.0,\n",
       " 'n_estimators': 100,\n",
       " 'n_jobs': None,\n",
       " 'oob_score': False,\n",
       " 'random_state': None,\n",
       " 'verbose': 0,\n",
       " 'warm_start': False}"
      ]
     },
     "execution_count": 20,
     "metadata": {},
     "output_type": "execute_result"
    }
   ],
   "source": [
    "from sklearn.model_selection import ParameterGrid\n",
    "\n",
    "param_dict = {'max_features':[5,10,15,20,25]}\n",
    "param_grid = ParameterGrid(param_dict)\n",
    "clf = RandomForestClassifier(max_depth=15, n_estimators=100)\n",
    "random_forest_train_score = [0]\n",
    "random_forest_test_score = [0]\n",
    "best_params={}\n",
    "for params in param_grid:\n",
    "    clf.set_params(**params)\n",
    "    clf.fit(X_train, y_train)\n",
    "    if accuracy_score(y_test, clf.predict(X_test)) > random_forest_test_score:\n",
    "        best_params = clf.get_params()\n",
    "        random_forest_train_score = accuracy_score(y_train, clf.predict(X_train))\n",
    "        random_forest_test_score = accuracy_score(y_test, clf.predict(X_test))\n",
    "\n",
    "bestFeature = best_params['max_features']\n",
    "print(f'The best score on the test set is {random_forest_test_score}, with {bestFeature} as the best splitting number.')\n",
    "best_params\n"
   ]
  },
  {
   "cell_type": "markdown",
   "metadata": {},
   "source": [
    "**2.5** Why should the bagging model be tuned to a `max_depth` that is at least as deep as the best single tree depth (from 2.2)?\n",
    "\n"
   ]
  },
  {
   "cell_type": "markdown",
   "metadata": {},
   "source": [
    "##### Answer 2.5:\n",
    "When doing bagging we want the model to be a little overfit, since the bagging process deals with this overfitting to make our model better. If we have a lower max depth than our best value for a single tree the model will be underfit and there is no reason to use bagging."
   ]
  },
  {
   "cell_type": "markdown",
   "metadata": {},
   "source": [
    "**2.6**: If you were to run your code again for the bagging and random forest models, would you get the same results?  Why?\n"
   ]
  },
  {
   "cell_type": "markdown",
   "metadata": {},
   "source": [
    "##### Answer 2.6:\n",
    "Since I am using random_state=0 I will get the same split each time I run the code. If I do not include random_state I will get a new result each time i run the code because the splits will be varying randomly each time. However, the result does not vary very much in quantity."
   ]
  },
  {
   "cell_type": "markdown",
   "metadata": {},
   "source": [
    "---"
   ]
  },
  {
   "cell_type": "markdown",
   "metadata": {},
   "source": [
    "<div class='exercise'><b> Question 3 [30 pts]: Boosting </div>\n",
    "In this question we explore a different kind of ensemble method, boosting, where each new model is trained on a dataset weighted towards observations that the current set of models predicts incorrectly. \n",
    "\n",
    "We'll focus on the AdaBoost flavor of boosting and examine what happens to the ensemble model's accuracy as the algorithm adds more estimators (iterations) to the ensemble."
   ]
  },
  {
   "cell_type": "markdown",
   "metadata": {},
   "source": [
    "**3.1** We'll motivate AdaBoost by noticing patterns in the errors that a single classifier makes. Fit `tree1`, a decision tree with depth 3, to the training data. \n",
    "Report the train and test accuracies. For each predictor, make a plot that compares two distributions: the values of that predictor for examples that `tree1` classifies correctly, and the values of that predictor for examples that `tree1` classifies incorrectly. Do you notice any predictors for which the distributions are clearly different?\n",
    "\n",
    "*Hints*:\n",
    "- If you have `fig, axs = plt.subplots(...)`, then `axs.ravel()` gives a list of each plot in reading order.\n",
    "- [`sns.kdeplot`](https://seaborn.pydata.org/generated/seaborn.kdeplot.html) takes `ax` and `label` parameters.\n",
    "\n",
    "**3.2** Use the sklearn implementation of AdaBoost: Use `AdaBoostClassifier` to fit another ensemble to `X_train`. Use a decision tree with `max_depth=3` as the base learner and a learning rate 0.05, and run the boosting for 800 iterations. Make a plot of the effect of the number of estimators/iterations on the model's train and test accuracy.\n",
    "\n",
    "*Hint*: The `staged_score` method provides the accuracy numbers you'll need. You'll need to use `list()` to convert the \"generator\" it returns into an ordinary list.\n",
    "\n",
    "**3.3** Repeat the plot above for a base learner with depth of (1, 2, 3, 4). What trends do you see in the training and test accuracy?\n",
    "\n",
    "(It's okay if your code re-fits the depth-3 classifier instead of reusing the results from the previous problem.)\n",
    "\n",
    "**3.4** Based on the plot you just made, what combination of base learner depth and number of iterations seems optimal? Why? How does the performance of this model compare with the performance of the ensembles you considered above?\n",
    "\n",
    "**3.5** What is the impact of having too many trees in boosting and in bagging? In which instance is it worse to have too many trees?\n",
    "\n",
    "**3.6** Which technique, boosting or bagging, is better suited to parallelization, where you could have multiple computers working on a problem at the same time?"
   ]
  },
  {
   "cell_type": "markdown",
   "metadata": {},
   "source": [
    "## Answers"
   ]
  },
  {
   "cell_type": "markdown",
   "metadata": {},
   "source": [
    "**3.1** We'll motivate AdaBoost by noticing patterns in the errors that a single classifier makes. Fit `tree1`, a decision tree with depth 3, to the training data. \n",
    "Report the train and test accuracies. For each predictor, make a plot that compares two distributions: the values of that predictor for examples that `tree1` classifies correctly, and the values of that predictor for examples that `tree1` classifies incorrectly. Do you notice any predictors for which the distributions are clearly different?\n",
    "\n",
    "*Hints*:\n",
    "- If you have `fig, axs = plt.subplots(...)`, then `axs.ravel()` gives a list of each plot in reading order.\n",
    "- [`sns.kdeplot`](https://seaborn.pydata.org/generated/seaborn.kdeplot.html) takes `ax` and `label` parameters."
   ]
  },
  {
   "cell_type": "code",
   "execution_count": 30,
   "metadata": {},
   "outputs": [
    {
     "name": "stdout",
     "output_type": "stream",
     "text": [
      "The train score for tree1 is 0.7464\n",
      "The test score for tree1 is 0.688\n"
     ]
    }
   ],
   "source": [
    "    # må høre om det er lov å bruke adaBoostclassifier på dette tidspunktet..\n",
    "from sklearn.ensemble import AdaBoostClassifier\n",
    "tree1 = AdaBoostClassifier( \n",
    "    base_estimator = DecisionTreeClassifier(max_depth = 3),\n",
    "    algorithm = 'SAMME', \n",
    "#     n_estimators=100, \n",
    "#     learning_rate=0.01\n",
    ")\n",
    "\n",
    "tree1.fit(X_train,y_train)\n",
    "\n",
    "print(f'The train score for tree1 is {accuracy_score(y_train, tree1.predict(X_train))}')\n",
    "print(f'The test score for tree1 is {accuracy_score(y_test, tree1.predict(X_test))}')"
   ]
  },
  {
   "cell_type": "code",
   "execution_count": 54,
   "metadata": {},
   "outputs": [
    {
     "ename": "ValueError",
     "evalue": "X has 2 features, but DecisionTreeClassifier is expecting 28 features as input.",
     "output_type": "error",
     "traceback": [
      "\u001b[1;31m---------------------------------------------------------------------------\u001b[0m",
      "\u001b[1;31mValueError\u001b[0m                                Traceback (most recent call last)",
      "\u001b[1;32m<ipython-input-54-087026c60281>\u001b[0m in \u001b[0;36m<module>\u001b[1;34m\u001b[0m\n\u001b[0;32m     11\u001b[0m \u001b[0my_min\u001b[0m\u001b[1;33m,\u001b[0m \u001b[0my_max\u001b[0m \u001b[1;33m=\u001b[0m \u001b[0mX_test\u001b[0m\u001b[1;33m[\u001b[0m\u001b[1;33m:\u001b[0m\u001b[1;33m,\u001b[0m \u001b[1;36m1\u001b[0m\u001b[1;33m]\u001b[0m\u001b[1;33m.\u001b[0m\u001b[0mmin\u001b[0m\u001b[1;33m(\u001b[0m\u001b[1;33m)\u001b[0m \u001b[1;33m,\u001b[0m \u001b[0mX_test\u001b[0m\u001b[1;33m[\u001b[0m\u001b[1;33m:\u001b[0m\u001b[1;33m,\u001b[0m \u001b[1;36m1\u001b[0m\u001b[1;33m]\u001b[0m\u001b[1;33m.\u001b[0m\u001b[0mmax\u001b[0m\u001b[1;33m(\u001b[0m\u001b[1;33m)\u001b[0m\u001b[1;33m\u001b[0m\u001b[1;33m\u001b[0m\u001b[0m\n\u001b[0;32m     12\u001b[0m \u001b[0mxx\u001b[0m\u001b[1;33m,\u001b[0m \u001b[0myy\u001b[0m \u001b[1;33m=\u001b[0m \u001b[0mnp\u001b[0m\u001b[1;33m.\u001b[0m\u001b[0mmeshgrid\u001b[0m\u001b[1;33m(\u001b[0m \u001b[0mnp\u001b[0m\u001b[1;33m.\u001b[0m\u001b[0mlinspace\u001b[0m\u001b[1;33m(\u001b[0m\u001b[0mx_min\u001b[0m\u001b[1;33m,\u001b[0m \u001b[0mx_max\u001b[0m\u001b[1;33m,\u001b[0m \u001b[0mN\u001b[0m\u001b[1;33m)\u001b[0m\u001b[1;33m,\u001b[0m \u001b[0mnp\u001b[0m\u001b[1;33m.\u001b[0m\u001b[0mlinspace\u001b[0m\u001b[1;33m(\u001b[0m\u001b[0my_min\u001b[0m\u001b[1;33m,\u001b[0m \u001b[0my_max\u001b[0m\u001b[1;33m,\u001b[0m \u001b[0mN\u001b[0m\u001b[1;33m)\u001b[0m\u001b[1;33m)\u001b[0m\u001b[1;33m\u001b[0m\u001b[1;33m\u001b[0m\u001b[0m\n\u001b[1;32m---> 13\u001b[1;33m \u001b[0mZ\u001b[0m \u001b[1;33m=\u001b[0m \u001b[0mtree1\u001b[0m\u001b[1;33m.\u001b[0m\u001b[0mpredict\u001b[0m\u001b[1;33m(\u001b[0m\u001b[0mnp\u001b[0m\u001b[1;33m.\u001b[0m\u001b[0mc_\u001b[0m\u001b[1;33m[\u001b[0m\u001b[0mxx\u001b[0m\u001b[1;33m.\u001b[0m\u001b[0mravel\u001b[0m\u001b[1;33m(\u001b[0m\u001b[1;33m)\u001b[0m\u001b[1;33m,\u001b[0m \u001b[0myy\u001b[0m\u001b[1;33m.\u001b[0m\u001b[0mravel\u001b[0m\u001b[1;33m(\u001b[0m\u001b[1;33m)\u001b[0m\u001b[1;33m]\u001b[0m\u001b[1;33m)\u001b[0m  \u001b[1;31m#for å få mesh format på det.\u001b[0m\u001b[1;33m\u001b[0m\u001b[1;33m\u001b[0m\u001b[0m\n\u001b[0m\u001b[0;32m     14\u001b[0m \u001b[1;31m# sns.kdeplot(Z[:, 0, 0])\u001b[0m\u001b[1;33m\u001b[0m\u001b[1;33m\u001b[0m\u001b[1;33m\u001b[0m\u001b[0m\n\u001b[0;32m     15\u001b[0m \u001b[1;31m# ax.contourf(xx, yy, Z,cmap=cmap,alpha=0.4)\u001b[0m\u001b[1;33m\u001b[0m\u001b[1;33m\u001b[0m\u001b[1;33m\u001b[0m\u001b[0m\n",
      "\u001b[1;32m~\\anaconda3\\envs\\cs109a\\lib\\site-packages\\sklearn\\ensemble\\_weight_boosting.py\u001b[0m in \u001b[0;36mpredict\u001b[1;34m(self, X)\u001b[0m\n\u001b[0;32m    631\u001b[0m         \u001b[0mX\u001b[0m \u001b[1;33m=\u001b[0m \u001b[0mself\u001b[0m\u001b[1;33m.\u001b[0m\u001b[0m_check_X\u001b[0m\u001b[1;33m(\u001b[0m\u001b[0mX\u001b[0m\u001b[1;33m)\u001b[0m\u001b[1;33m\u001b[0m\u001b[1;33m\u001b[0m\u001b[0m\n\u001b[0;32m    632\u001b[0m \u001b[1;33m\u001b[0m\u001b[0m\n\u001b[1;32m--> 633\u001b[1;33m         \u001b[0mpred\u001b[0m \u001b[1;33m=\u001b[0m \u001b[0mself\u001b[0m\u001b[1;33m.\u001b[0m\u001b[0mdecision_function\u001b[0m\u001b[1;33m(\u001b[0m\u001b[0mX\u001b[0m\u001b[1;33m)\u001b[0m\u001b[1;33m\u001b[0m\u001b[1;33m\u001b[0m\u001b[0m\n\u001b[0m\u001b[0;32m    634\u001b[0m \u001b[1;33m\u001b[0m\u001b[0m\n\u001b[0;32m    635\u001b[0m         \u001b[1;32mif\u001b[0m \u001b[0mself\u001b[0m\u001b[1;33m.\u001b[0m\u001b[0mn_classes_\u001b[0m \u001b[1;33m==\u001b[0m \u001b[1;36m2\u001b[0m\u001b[1;33m:\u001b[0m\u001b[1;33m\u001b[0m\u001b[1;33m\u001b[0m\u001b[0m\n",
      "\u001b[1;32m~\\anaconda3\\envs\\cs109a\\lib\\site-packages\\sklearn\\ensemble\\_weight_boosting.py\u001b[0m in \u001b[0;36mdecision_function\u001b[1;34m(self, X)\u001b[0m\n\u001b[0;32m    705\u001b[0m             pred = sum((estimator.predict(X) == classes).T * w\n\u001b[0;32m    706\u001b[0m                        for estimator, w in zip(self.estimators_,\n\u001b[1;32m--> 707\u001b[1;33m                                                self.estimator_weights_))\n\u001b[0m\u001b[0;32m    708\u001b[0m \u001b[1;33m\u001b[0m\u001b[0m\n\u001b[0;32m    709\u001b[0m         \u001b[0mpred\u001b[0m \u001b[1;33m/=\u001b[0m \u001b[0mself\u001b[0m\u001b[1;33m.\u001b[0m\u001b[0mestimator_weights_\u001b[0m\u001b[1;33m.\u001b[0m\u001b[0msum\u001b[0m\u001b[1;33m(\u001b[0m\u001b[1;33m)\u001b[0m\u001b[1;33m\u001b[0m\u001b[1;33m\u001b[0m\u001b[0m\n",
      "\u001b[1;32m~\\anaconda3\\envs\\cs109a\\lib\\site-packages\\sklearn\\ensemble\\_weight_boosting.py\u001b[0m in \u001b[0;36m<genexpr>\u001b[1;34m(.0)\u001b[0m\n\u001b[0;32m    704\u001b[0m         \u001b[1;32melse\u001b[0m\u001b[1;33m:\u001b[0m  \u001b[1;31m# self.algorithm == \"SAMME\"\u001b[0m\u001b[1;33m\u001b[0m\u001b[1;33m\u001b[0m\u001b[0m\n\u001b[0;32m    705\u001b[0m             pred = sum((estimator.predict(X) == classes).T * w\n\u001b[1;32m--> 706\u001b[1;33m                        for estimator, w in zip(self.estimators_,\n\u001b[0m\u001b[0;32m    707\u001b[0m                                                self.estimator_weights_))\n\u001b[0;32m    708\u001b[0m \u001b[1;33m\u001b[0m\u001b[0m\n",
      "\u001b[1;32m~\\anaconda3\\envs\\cs109a\\lib\\site-packages\\sklearn\\tree\\_classes.py\u001b[0m in \u001b[0;36mpredict\u001b[1;34m(self, X, check_input)\u001b[0m\n\u001b[0;32m    440\u001b[0m         \"\"\"\n\u001b[0;32m    441\u001b[0m         \u001b[0mcheck_is_fitted\u001b[0m\u001b[1;33m(\u001b[0m\u001b[0mself\u001b[0m\u001b[1;33m)\u001b[0m\u001b[1;33m\u001b[0m\u001b[1;33m\u001b[0m\u001b[0m\n\u001b[1;32m--> 442\u001b[1;33m         \u001b[0mX\u001b[0m \u001b[1;33m=\u001b[0m \u001b[0mself\u001b[0m\u001b[1;33m.\u001b[0m\u001b[0m_validate_X_predict\u001b[0m\u001b[1;33m(\u001b[0m\u001b[0mX\u001b[0m\u001b[1;33m,\u001b[0m \u001b[0mcheck_input\u001b[0m\u001b[1;33m)\u001b[0m\u001b[1;33m\u001b[0m\u001b[1;33m\u001b[0m\u001b[0m\n\u001b[0m\u001b[0;32m    443\u001b[0m         \u001b[0mproba\u001b[0m \u001b[1;33m=\u001b[0m \u001b[0mself\u001b[0m\u001b[1;33m.\u001b[0m\u001b[0mtree_\u001b[0m\u001b[1;33m.\u001b[0m\u001b[0mpredict\u001b[0m\u001b[1;33m(\u001b[0m\u001b[0mX\u001b[0m\u001b[1;33m)\u001b[0m\u001b[1;33m\u001b[0m\u001b[1;33m\u001b[0m\u001b[0m\n\u001b[0;32m    444\u001b[0m         \u001b[0mn_samples\u001b[0m \u001b[1;33m=\u001b[0m \u001b[0mX\u001b[0m\u001b[1;33m.\u001b[0m\u001b[0mshape\u001b[0m\u001b[1;33m[\u001b[0m\u001b[1;36m0\u001b[0m\u001b[1;33m]\u001b[0m\u001b[1;33m\u001b[0m\u001b[1;33m\u001b[0m\u001b[0m\n",
      "\u001b[1;32m~\\anaconda3\\envs\\cs109a\\lib\\site-packages\\sklearn\\tree\\_classes.py\u001b[0m in \u001b[0;36m_validate_X_predict\u001b[1;34m(self, X, check_input)\u001b[0m\n\u001b[0;32m    406\u001b[0m         \u001b[1;32mif\u001b[0m \u001b[0mcheck_input\u001b[0m\u001b[1;33m:\u001b[0m\u001b[1;33m\u001b[0m\u001b[1;33m\u001b[0m\u001b[0m\n\u001b[0;32m    407\u001b[0m             X = self._validate_data(X, dtype=DTYPE, accept_sparse=\"csr\",\n\u001b[1;32m--> 408\u001b[1;33m                                     reset=False)\n\u001b[0m\u001b[0;32m    409\u001b[0m             if issparse(X) and (X.indices.dtype != np.intc or\n\u001b[0;32m    410\u001b[0m                                 X.indptr.dtype != np.intc):\n",
      "\u001b[1;32m~\\anaconda3\\envs\\cs109a\\lib\\site-packages\\sklearn\\base.py\u001b[0m in \u001b[0;36m_validate_data\u001b[1;34m(self, X, y, reset, validate_separately, **check_params)\u001b[0m\n\u001b[0;32m    435\u001b[0m \u001b[1;33m\u001b[0m\u001b[0m\n\u001b[0;32m    436\u001b[0m         \u001b[1;32mif\u001b[0m \u001b[0mcheck_params\u001b[0m\u001b[1;33m.\u001b[0m\u001b[0mget\u001b[0m\u001b[1;33m(\u001b[0m\u001b[1;34m'ensure_2d'\u001b[0m\u001b[1;33m,\u001b[0m \u001b[1;32mTrue\u001b[0m\u001b[1;33m)\u001b[0m\u001b[1;33m:\u001b[0m\u001b[1;33m\u001b[0m\u001b[1;33m\u001b[0m\u001b[0m\n\u001b[1;32m--> 437\u001b[1;33m             \u001b[0mself\u001b[0m\u001b[1;33m.\u001b[0m\u001b[0m_check_n_features\u001b[0m\u001b[1;33m(\u001b[0m\u001b[0mX\u001b[0m\u001b[1;33m,\u001b[0m \u001b[0mreset\u001b[0m\u001b[1;33m=\u001b[0m\u001b[0mreset\u001b[0m\u001b[1;33m)\u001b[0m\u001b[1;33m\u001b[0m\u001b[1;33m\u001b[0m\u001b[0m\n\u001b[0m\u001b[0;32m    438\u001b[0m \u001b[1;33m\u001b[0m\u001b[0m\n\u001b[0;32m    439\u001b[0m         \u001b[1;32mreturn\u001b[0m \u001b[0mout\u001b[0m\u001b[1;33m\u001b[0m\u001b[1;33m\u001b[0m\u001b[0m\n",
      "\u001b[1;32m~\\anaconda3\\envs\\cs109a\\lib\\site-packages\\sklearn\\base.py\u001b[0m in \u001b[0;36m_check_n_features\u001b[1;34m(self, X, reset)\u001b[0m\n\u001b[0;32m    364\u001b[0m         \u001b[1;32mif\u001b[0m \u001b[0mn_features\u001b[0m \u001b[1;33m!=\u001b[0m \u001b[0mself\u001b[0m\u001b[1;33m.\u001b[0m\u001b[0mn_features_in_\u001b[0m\u001b[1;33m:\u001b[0m\u001b[1;33m\u001b[0m\u001b[1;33m\u001b[0m\u001b[0m\n\u001b[0;32m    365\u001b[0m             raise ValueError(\n\u001b[1;32m--> 366\u001b[1;33m                 \u001b[1;34mf\"X has {n_features} features, but {self.__class__.__name__} \"\u001b[0m\u001b[1;33m\u001b[0m\u001b[1;33m\u001b[0m\u001b[0m\n\u001b[0m\u001b[0;32m    367\u001b[0m                 f\"is expecting {self.n_features_in_} features as input.\")\n\u001b[0;32m    368\u001b[0m \u001b[1;33m\u001b[0m\u001b[0m\n",
      "\u001b[1;31mValueError\u001b[0m: X has 2 features, but DecisionTreeClassifier is expecting 28 features as input."
     ]
    },
    {
     "data": {
      "image/png": "[encoded data removed]",
      "text/plain": [
       "<Figure size 432x288 with 1 Axes>"
      ]
     },
     "metadata": {},
     "output_type": "display_data"
    }
   ],
   "source": [
    "# For each predictor, make a plot that compares two distributions: the values of that predictor for examples that \n",
    "# tree1 classifies correctly, and the values of that predictor for examples that tree1 classifies incorrectly. \n",
    "#Do you notice any predictors for which the distributions are clearly different?\n",
    "# Hints:\n",
    "# If you have fig, axs = plt.subplots(...), then axs.ravel() gives a list of each plot in reading order.\n",
    "# sns.kdeplot takes ax and label parameters.\n",
    "N=100\n",
    "fig, ax = plt.subplots()\n",
    "\n",
    "x_min, x_max = X_test[:, 0].min() , X_test[:, 0].max()\n",
    "y_min, y_max = X_test[:, 1].min() , X_test[:, 1].max()\n",
    "xx, yy = np.meshgrid( np.linspace(x_min, x_max, N), np.linspace(y_min, y_max, N))\n",
    "Z = tree1.predict(np.c_[xx.ravel(), yy.ravel()])  #for å få mesh format på det.\n",
    "# sns.kdeplot(Z[:, 0, 0])\n",
    "# ax.contourf(xx, yy, Z,cmap=cmap,alpha=0.4)\n",
    "# ax.scatter(X[:,0],X[:,1], c = y, cmap = cm_bright, s = scatter_weights * 40, edgecolors='k',label = f'Stump {counter}')\n",
    "# ax.legend(fontsize=16)"
   ]
  },
  {
   "cell_type": "markdown",
   "metadata": {},
   "source": [
    "*Your answer here*\n",
    "\n"
   ]
  },
  {
   "cell_type": "markdown",
   "metadata": {},
   "source": [
    "**3.2** Use the sklearn implementation of AdaBoost: Use `AdaBoostClassifier` to fit another ensemble to `X_train`. Use a decision tree with `max_depth=3` as the base learner and a learning rate 0.05, and run the boosting for 800 iterations. Make a plot of the effect of the number of estimators/iterations on the model's train and test accuracy.\n",
    "\n",
    "*Hint*: The `staged_score` method provides the accuracy numbers you'll need. You'll need to use `list()` to convert the \"generator\" it returns into an ordinary list.\n",
    "\n"
   ]
  },
  {
   "cell_type": "code",
   "execution_count": null,
   "metadata": {},
   "outputs": [],
   "source": [
    "from sklearn.ensemble import AdaBoostClassifier\n",
    "tree2 = AdaBoostClassifier( \n",
    "    base_estimator = DecisionTreeClassifier(max_depth = 3),\n",
    "    algorithm = 'SAMME', \n",
    "    n_estimators=800, \n",
    "    learning_rate=0.05\n",
    ")\n",
    "\n",
    "tree2.fit(X_train,y_train)\n",
    "\n",
    "print(f'The train score for tree2 is {accuracy_score(y_train, tree2.predict(X_train))}')\n",
    "print(f'The test score for tree2 is {accuracy_score(y_test, tree2.predict(X_test))}')\n",
    "\n",
    "    # MAKE PLOT ALSO...\n"
   ]
  },
  {
   "cell_type": "code",
   "execution_count": null,
   "metadata": {},
   "outputs": [],
   "source": [
    "staged_scores(X_train, y_train)"
   ]
  },
  {
   "cell_type": "markdown",
   "metadata": {},
   "source": [
    "**3.3** Repeat the plot above for a base learner with depth of (1, 2, 3, 4). What trends do you see in the training and test accuracy?\n",
    "\n",
    "(It's okay if your code re-fits the depth-3 classifier instead of reusing the results from the previous problem.)\n",
    "\n"
   ]
  },
  {
   "cell_type": "code",
   "execution_count": null,
   "metadata": {},
   "outputs": [],
   "source": [
    "######\n",
    "# your code here\n",
    "######"
   ]
  },
  {
   "cell_type": "markdown",
   "metadata": {},
   "source": [
    "*Your answer here*\n",
    "\n"
   ]
  },
  {
   "cell_type": "markdown",
   "metadata": {},
   "source": [
    "**3.4** Based on the plot you just made, what combination of base learner depth and number of iterations seems optimal? Why? How does the performance of this model compare with the performance of the ensembles you considered above?\n",
    "\n"
   ]
  },
  {
   "cell_type": "code",
   "execution_count": null,
   "metadata": {},
   "outputs": [],
   "source": [
    "######\n",
    "# your code here\n",
    "######"
   ]
  },
  {
   "cell_type": "markdown",
   "metadata": {},
   "source": [
    "*Your answer here*\n"
   ]
  },
  {
   "cell_type": "markdown",
   "metadata": {},
   "source": [
    "**3.5** What is the impact of having too many trees in boosting and in bagging? In which instance is it worse to have too many trees?"
   ]
  },
  {
   "cell_type": "markdown",
   "metadata": {},
   "source": [
    "*your answer here*"
   ]
  },
  {
   "cell_type": "markdown",
   "metadata": {},
   "source": [
    "**3.6** Which technique, boosting or bagging, is better suited to parallelization, where you could have multiple computers working on a problem at the same time?"
   ]
  },
  {
   "cell_type": "markdown",
   "metadata": {},
   "source": [
    "*your answer here*"
   ]
  },
  {
   "cell_type": "markdown",
   "metadata": {},
   "source": [
    "---"
   ]
  },
  {
   "cell_type": "markdown",
   "metadata": {},
   "source": [
    "<div class='exercise'> <b> Question 4 [15 pts]: Model Comparison </b> </div>\n"
   ]
  },
  {
   "cell_type": "markdown",
   "metadata": {},
   "source": [
    "**4.1**: Make a pandas table of the training and test accuracy for the following 5 models and name it `results_df`:\n",
    "\n",
    "- The tuned L2-regularized logistic regression (from Question 1)\n",
    "- Single tree with best depth chosen by cross-validation (from Question 2)\n",
    "- Your tuned bagging model (from Question 2)\n",
    "- Your tuned random forest model  (from Question 2)\n",
    "- Your tuned adaBoost model  (from Question 3)\n",
    "\n",
    "(see below for the expected structure)  \n",
    "\n",
    "(This problem should not require fitting any new models, though you may need to go back and store the accuracies from models you fit previously.)\n",
    "\n",
    "What is the relative performance of each model on the training set? On the test set? Comment on how these relationships make sense (or don't make sense) in light of how each model treats the bias-variance trade-off.\n",
    "\n",
    "\n",
    "**4.2** Reflect on the overall performance of all of the different classifiers you have seen throughout this assignment. Which performed best? Why do you think that may have happened?\n",
    "\n",
    "\n",
    "**4.3** Which of these techniques can be extended to regression tasks? How?"
   ]
  },
  {
   "cell_type": "markdown",
   "metadata": {},
   "source": [
    "## Answers"
   ]
  },
  {
   "cell_type": "markdown",
   "metadata": {},
   "source": [
    "**4.1**: Make a pandas table of the training and test accuracy for the following 6 models and name it `results_df`:\n",
    "\n",
    "- The full logistic regression (from Question 1.3)\n",
    "- The tuned L2-regularized logistic regression (from Question 1.4)\n",
    "- Single tree with best depth chosen by cross-validation (from Question 2)\n",
    "- Your tuned bagging model (from Question 2)\n",
    "- Your tuned random forest model  (from Question 2)\n",
    "- Your tuned adaBoost model  (from Question 3)\n",
    "\n",
    "(see below for the expected structure)  \n",
    "\n",
    "(This problem should not require fitting any new models, though you may need to go back and store the accuracies from models you fit previously.)\n",
    "\n",
    "What is the relative performance of each model on the training set? On the test set? Comment on how these relationships make sense (or don't make sense) in light of how each model treats the bias-variance trade-off.\n",
    "\n",
    "---\n",
    "\n",
    "Fill in the following table.\n",
    "\n",
    "\n",
    "| classifier | training accuracy | test accuracy |\n",
    "| --- | --- | --- |\n",
    "| logistic  | | |\n",
    "| regularized logistic  | | |\n",
    "| single tree  | | |\n",
    "| bagging | | |\n",
    "| random forest  | | |\n",
    "| adaboost  | | |"
   ]
  },
  {
   "cell_type": "code",
   "execution_count": 59,
   "metadata": {},
   "outputs": [
    {
     "name": "stdout",
     "output_type": "stream",
     "text": [
      "0.6546\n",
      "0.6288\n",
      "The accuracy_score for the train with two-way interactions is: 0.7122.\n",
      "The accuracy_score for the test set with two-way interactions i 0.6314.\n",
      "The test score with C=0.1 is 0.7\n",
      "The test score with C=0.1 is 0.632\n",
      "For a max depth of 4 the train score is 0.1666, and the test score is 0.1102\n",
      "The best score on the test set is 0.6866, with 100 trees and depth 10\n",
      "The best score on the test set is 0.6922, with 25 as the best splitting number.\n",
      "The train score for tree1 is 0.7464\n",
      "The test score for tree1 is 0.688\n"
     ]
    }
   ],
   "source": [
    "# The tuned L2-regularized logistic regression (from Question 1)\n",
    "# Single tree with best depth chosen by cross-validation (from Question 2)\n",
    "# Your tuned bagging model (from Question 2)\n",
    "# Your tuned random forest model (from Question 2)\n",
    "# Your tuned adaBoost model (from Question 3)\n",
    "\n",
    "# # Logistic from all 28 of the predictors:\n",
    "# print(f'{accuracy_score(y_train, logit.predict(X_train))}')\n",
    "# print(f'{accuracy_score(y_test, logit.predict(X_test))}')\n",
    "# # with interaction terms:\n",
    "# print(f'The accuracy_score for the train with two-way interactions is: {accuracy_score(y_train, logit_interact.predict(expanded_trainSTD))}.')\n",
    "# print(f'The accuracy_score for the test set with two-way interactions i {accuracy_score(y_test, logit_interact.predict(expanded_testSTD))}.')\n",
    "# with l2 regularization C=0.1:\n",
    "print(f'The test score with C=0.1 is {accuracy_score(y_train, logit_interact1.predict(expanded_trainSTD))}')\n",
    "print(f'The test score with C=0.1 is {accuracy_score(y_test, logit_interact1.predict(expanded_testSTD))}')\n",
    "\n",
    "    # oppgave 2:\n",
    "print(f'For a max depth of 4 the train score is {best_cv_tree_train_score:.4}, and the test score is {best_cv_tree_test_score:.4}')\n",
    "\n",
    "# running Bagging with randomforest by setting max_features=1:\n",
    "print(f'The best score on the test set is {bagging_test_score}, with {trees} trees and depth {depth}')\n",
    "\n",
    "# RandomForestClassifier:\n",
    "print(f'The best score on the test set is {random_forest_test_score}, with {bestFeature} as the best splitting number.')\n",
    "\n",
    "    #oppgave 3:\n",
    "# adaboost:\n",
    "# print(f'The train score for tree1 is {accuracy_score(y_train, tree1.predict(X_train))}')\n",
    "# print(f'The test score for tree1 is {accuracy_score(y_test, tree1.predict(X_test))}')\n",
    "# with more inputs:\n",
    "print(f'The train score for tree2 is {accuracy_score(y_train, tree2.predict(X_train))}')\n",
    "print(f'The test score for tree2 is {accuracy_score(y_test, tree2.predict(X_test))}')"
   ]
  },
  {
   "cell_type": "code",
   "execution_count": null,
   "metadata": {},
   "outputs": [],
   "source": [
    "\n",
    "pd.DataFrame([\n",
    "    \n",
    "])"
   ]
  },
  {
   "cell_type": "markdown",
   "metadata": {},
   "source": [
    "*Your answer here*\n",
    "\n"
   ]
  },
  {
   "cell_type": "markdown",
   "metadata": {},
   "source": [
    "**4.2** Reflect on the overall performance of all of the different classifiers you have seen throughout this assignment. Which performed best? Why do you think that may have happened?\n",
    "\n"
   ]
  },
  {
   "cell_type": "markdown",
   "metadata": {},
   "source": [
    "*Your answer here*"
   ]
  },
  {
   "cell_type": "markdown",
   "metadata": {},
   "source": [
    "\n",
    "**4.3** Which of these techniques can be extended to regression tasks? How?\n"
   ]
  },
  {
   "cell_type": "markdown",
   "metadata": {},
   "source": [
    "*Your answer here*"
   ]
  }
 ],
 "metadata": {
  "anaconda-cloud": {},
  "kernelspec": {
   "display_name": "Python 3",
   "language": "python",
   "name": "python3"
  },
  "language_info": {
   "codemirror_mode": {
    "name": "ipython",
    "version": 3
   },
   "file_extension": ".py",
   "mimetype": "text/x-python",
   "name": "python",
   "nbconvert_exporter": "python",
   "pygments_lexer": "ipython3",
   "version": "3.7.10"
  }
 },
 "nbformat": 4,
 "nbformat_minor": 2
}
